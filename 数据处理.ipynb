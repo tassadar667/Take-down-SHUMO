{
 "cells": [
  {
   "cell_type": "markdown",
   "metadata": {},
   "source": [
    "# 数据读入模块"
   ]
  },
  {
   "cell_type": "code",
   "execution_count": 269,
   "metadata": {},
   "outputs": [],
   "source": [
    "import pandas as pd\n",
    "\n",
    "train_data = pd.read_csv(\"data\\main\\df_train_b1.csv\", index_col=0)\n",
    "test_data = pd.read_csv('data\\main\\df_test_b1.csv', index_col=0)\n"
   ]
  },
  {
   "cell_type": "markdown",
   "metadata": {},
   "source": [
    "## 要读入除了main之外的数在此处添加"
   ]
  },
  {
   "cell_type": "code",
   "execution_count": 270,
   "metadata": {},
   "outputs": [],
   "source": [
    "import os\n",
    "filenames = [\"data\\detail\\df_basic_b1.csv\",\n",
    "             \"data\\detail\\df_corp_b1.csv\",\n",
    "             \"data\\detail\\df_judicial_b1.csv\",\n",
    "             \"data\\detail\\df_loan2_b1.csv\",\n",
    "             \"data\\detail\\df_query_b1.csv\"]\n",
    "for filename in filenames:\n",
    "    temp = pd.read_csv(filename)\n",
    "    train_data = pd.merge(train_data, temp, on=\"cust_id\",\n",
    "                          how=\"left\", suffixes=(\"\", \"_y\"))\n",
    "    test_data = pd.merge(test_data, temp, on=\"cust_id\",\n",
    "                         how=\"left\", suffixes=(\"\", \"_y\"))\n"
   ]
  },
  {
   "cell_type": "markdown",
   "metadata": {},
   "source": [
    "## 处理NAN"
   ]
  },
  {
   "cell_type": "code",
   "execution_count": 271,
   "metadata": {},
   "outputs": [],
   "source": [
    "def delnan(df):\n",
    "    df = df.dropna(how=\"all\", axis=1)  # 删除全是空值的列\n",
    "    df = df.fillna(-99)\n",
    "    return df\n"
   ]
  },
  {
   "cell_type": "code",
   "execution_count": 272,
   "metadata": {},
   "outputs": [],
   "source": [
    "df_train = delnan(train_data)\n",
    "df_test = delnan(test_data)\n"
   ]
  },
  {
   "cell_type": "code",
   "execution_count": 273,
   "metadata": {},
   "outputs": [
    {
     "data": {
      "text/plain": [
       "' for i in range(2, 17):\\n    print(df_train.iloc[:, i].value_counts()) '"
      ]
     },
     "execution_count": 273,
     "metadata": {},
     "output_type": "execute_result"
    }
   ],
   "source": [
    "\"\"\" for i in range(2, 17):\n",
    "    print(df_train.iloc[:, i].value_counts()) \"\"\"\n"
   ]
  },
  {
   "cell_type": "code",
   "execution_count": 274,
   "metadata": {},
   "outputs": [],
   "source": [
    "type_col = [\"basic_1\",\n",
    "            \"basic_10\",\n",
    "            \"basic_12\",\n",
    "            \"basic_14\"]"
   ]
  },
  {
   "cell_type": "markdown",
   "metadata": {},
   "source": [
    "## 转化为one-hot编码（不宜采用）"
   ]
  },
  {
   "cell_type": "code",
   "execution_count": 275,
   "metadata": {},
   "outputs": [
    {
     "data": {
      "text/plain": [
       "' \\ndef to_one_hot(df, colnames):\\n    df = pd.get_dummies(df, columns=colnames)\\n    return df\\n\\n\\ndf_train = to_one_hot(df_train, type_col)\\ndf_test = to_one_hot(df_test, type_col) \\nfor i in x_col:\\n    if i not in df_test.columns:\\n        df_test[i] = 0\\n'"
      ]
     },
     "execution_count": 275,
     "metadata": {},
     "output_type": "execute_result"
    }
   ],
   "source": [
    "\"\"\" \n",
    "def to_one_hot(df, colnames):\n",
    "    df = pd.get_dummies(df, columns=colnames)\n",
    "    return df\n",
    "\n",
    "\n",
    "df_train = to_one_hot(df_train, type_col)\n",
    "df_test = to_one_hot(df_test, type_col) \n",
    "for i in x_col:\n",
    "    if i not in df_test.columns:\n",
    "        df_test[i] = 0\n",
    "\"\"\""
   ]
  },
  {
   "cell_type": "markdown",
   "metadata": {},
   "source": [
    "## 证据权重"
   ]
  },
  {
   "cell_type": "code",
   "execution_count": 276,
   "metadata": {},
   "outputs": [],
   "source": [
    "import pandas as pd\n",
    "import numpy as np\n",
    "\n",
    "def cal_woe(df,df_no_label,x_cols,y_col):\n",
    "    for i in x_cols:\n",
    "        x_set=pd.unique(df[i])\n",
    "        for j in x_set:\n",
    "            woe=np.mean(df[df[i]==j][y_col])\n",
    "            df[i].replace(j,woe,inplace=True)\n",
    "            df_no_label[i].replace(j,woe,inplace=True)\n",
    "    return df,df_no_label"
   ]
  },
  {
   "cell_type": "code",
   "execution_count": 277,
   "metadata": {},
   "outputs": [],
   "source": [
    "df_train,df_test=cal_woe(df_train,df_test,type_col,\"label\")"
   ]
  },
  {
   "cell_type": "code",
   "execution_count": 278,
   "metadata": {},
   "outputs": [],
   "source": [
    "full_col_name = list(df_train.columns)\n",
    "basic_col = [i for i in full_col_name if \"basic\" in i]\n",
    "loan_col = [i for i in full_col_name if \"loan\" in i]\n",
    "overdue_col = [i for i in full_col_name if \"overdue\" in i]\n",
    "query_col = [i for i in full_col_name if \"query\" in i]\n",
    "\n",
    "x_col = basic_col+loan_col+overdue_col+query_col\n",
    "# x_col为模型读入的自变量列名称\n",
    "\n",
    "\n",
    "x_col=['loan2_3_y',\n",
    " 'loan1_6',\n",
    " 'loan1_32',\n",
    " 'loan1_31',\n",
    " 'basic_7',\n",
    " 'loan2_4_y',\n",
    " 'loan2_3',\n",
    " 'loan1_15',\n",
    " 'loan2_5_y',\n",
    " 'loan1_30',\n",
    " 'loan1_7',\n",
    " 'loan1_3',\n",
    " 'query_1',\n",
    " 'query_7',\n",
    " 'loan1_17',\n",
    " 'query_4',\n",
    " 'loan1_14',\n",
    " 'basic_1_y',\n",
    " 'loan1_21',\n",
    " 'query_1_y']"
   ]
  },
  {
   "cell_type": "code",
   "execution_count": 279,
   "metadata": {},
   "outputs": [],
   "source": [
    "# df_train.drop(columns=drop_col)"
   ]
  },
  {
   "cell_type": "markdown",
   "metadata": {},
   "source": [
    "# 训练模型"
   ]
  },
  {
   "cell_type": "markdown",
   "metadata": {},
   "source": [
    "## 划分测试集训练集"
   ]
  },
  {
   "cell_type": "code",
   "execution_count": 280,
   "metadata": {},
   "outputs": [
    {
     "data": {
      "text/plain": [
       "' from sklearn import model_selection\\n\\n\\nX = df_train[x_col]\\nY = df_train[\"label\"]\\nseed = 666\\ntest_size = 0.1\\nX_train, X_test, y_train, y_test = model_selection.train_test_split(\\n    X, Y, test_size=test_size, random_state=seed) '"
      ]
     },
     "execution_count": 280,
     "metadata": {},
     "output_type": "execute_result"
    }
   ],
   "source": [
    "\"\"\" from sklearn import model_selection\n",
    "\n",
    "\n",
    "X = df_train[x_col]\n",
    "Y = df_train[\"label\"]\n",
    "seed = 666\n",
    "test_size = 0.1\n",
    "X_train, X_test, y_train, y_test = model_selection.train_test_split(\n",
    "    X, Y, test_size=test_size, random_state=seed) \"\"\"\n"
   ]
  },
  {
   "cell_type": "markdown",
   "metadata": {},
   "source": [
    "## 训练模型"
   ]
  },
  {
   "cell_type": "markdown",
   "metadata": {},
   "source": [
    "## 超参数"
   ]
  },
  {
   "cell_type": "code",
   "execution_count": 281,
   "metadata": {},
   "outputs": [],
   "source": [
    "N = 200\n",
    "num_round = 100\n",
    "\n",
    "max_depth = [3, 4, 5,7]\n",
    "eta = [0.1,0.05,0.2]\n",
    "colsample_bytree = [0.75, 0.7, 0.65]\n",
    "scale_pos_weight = [1, 3, 6, 10, 30]\n",
    "test_size=[0.1,0.2,0.3,0.5]\n"
   ]
  },
  {
   "cell_type": "code",
   "execution_count": 282,
   "metadata": {},
   "outputs": [
    {
     "name": "stdout",
     "output_type": "stream",
     "text": [
      "1:0.7041928059690412\n",
      "2:0.7054283777441727\n",
      "3:0.7267166844606266\n",
      "4:0.7388368041929124\n",
      "5:0.6925546055298409\n",
      "6:0.7720185821560392\n",
      "7:0.7353481839006778\n",
      "8:0.7284848579750086\n",
      "9:0.7089864807335836\n",
      "10:0.7567051707897476\n",
      "最大AUC:0.7720185821560392\n"
     ]
    }
   ],
   "source": [
    "import copy\n",
    "import xgboost as xgb\n",
    "import random\n",
    "from sklearn import model_selection\n",
    "from sklearn.metrics import roc_auc_score\n",
    "\n",
    "\n",
    "pred_labels = []\n",
    "test_labels = []\n",
    "loss_seq = []\n",
    "max_auc_loss = 0\n",
    "flag=0\n",
    "\n",
    "for i in range(N):\n",
    "\n",
    "    X = df_train[x_col]\n",
    "    Y = df_train[\"label\"]\n",
    "\n",
    "    #seed = 666\n",
    "    test_size_this_round=random.choice(test_size)\n",
    "    X_train, X_test, y_train, y_test = model_selection.train_test_split(\n",
    "        X, Y, test_size=test_size_this_round)\n",
    "    # seed+=1\n",
    "\n",
    "    x_perd = xgb.DMatrix(df_test[x_col])\n",
    "    dtrain = xgb.DMatrix(X_train, label=y_train)\n",
    "    dtest = xgb.DMatrix(X_test, label=y_test)\n",
    "    evallist = [(dtrain, 'train'), (dtest, 'eval')]\n",
    "\n",
    "    param = {\n",
    "        'max_depth': random.choice(max_depth),\n",
    "        'eta': random.choice(eta),\n",
    "        'colsample_bytree': random.choice(colsample_bytree),\n",
    "        'objective': 'binary:logistic',\n",
    "        # 'verbosity':0,\n",
    "        'scale_pos_weight': random.choice(scale_pos_weight),\n",
    "        'eval_metric': 'auc',\n",
    "        'seed': 666,\n",
    "        'tree_method': 'gpu_hist',\n",
    "        'gpu_id': 0\n",
    "    }\n",
    "    \n",
    "    bst = xgb.train(param, dtrain, num_round, evals=evallist,\n",
    "                    early_stopping_rounds=10, verbose_eval=False)\n",
    "    loss = float(bst.eval(dtest).split(\":\")[1])\n",
    "    pred_label = list(bst.predict(x_perd))\n",
    "    test_label = list(bst.predict(xgb.DMatrix(X_test)))\n",
    "    # temp=roc_auc_score(y_test,test_label)\n",
    "    # print(test_label[0:10])\n",
    "\n",
    "    loss_seq.append(loss)\n",
    "\n",
    "    temp_dict={\"auc\":loss,'test_size':test_size_this_round}\n",
    "    temp_dict.update(param)\n",
    "\n",
    "    #info_df=info_df.append(pd.DataFrame(temp_dict))\n",
    "    if flag==0:\n",
    "        info_df=pd.DataFrame(temp_dict,index=[i])\n",
    "        flag=1\n",
    "    else:\n",
    "        info_df=pd.concat([info_df,pd.DataFrame(temp_dict,index=[i])])\n",
    "\n",
    "    if loss > max_auc_loss:\n",
    "        best_bst = copy.deepcopy(bst)\n",
    "        max_auc_loss = loss\n",
    "    \n",
    "\n",
    "    print(i+1, \":\", loss, sep=\"\")\n",
    "    #print(param)\n",
    "    #print(\"-------------------------\")\n",
    "    pred_labels.append([j for j in pred_label])\n",
    "    test_labels.append(copy.deepcopy(test_label))\n",
    "\n",
    "\n",
    "print('最大AUC:', max(loss_seq), sep=\"\")\n"
   ]
  },
  {
   "cell_type": "code",
   "execution_count": 287,
   "metadata": {},
   "outputs": [
    {
     "data": {
      "text/html": [
       "<div>\n",
       "<style scoped>\n",
       "    .dataframe tbody tr th:only-of-type {\n",
       "        vertical-align: middle;\n",
       "    }\n",
       "\n",
       "    .dataframe tbody tr th {\n",
       "        vertical-align: top;\n",
       "    }\n",
       "\n",
       "    .dataframe thead th {\n",
       "        text-align: right;\n",
       "    }\n",
       "</style>\n",
       "<table border=\"1\" class=\"dataframe\">\n",
       "  <thead>\n",
       "    <tr style=\"text-align: right;\">\n",
       "      <th></th>\n",
       "      <th>auc</th>\n",
       "      <th>test_size</th>\n",
       "      <th>max_depth</th>\n",
       "      <th>eta</th>\n",
       "      <th>colsample_bytree</th>\n",
       "      <th>objective</th>\n",
       "      <th>scale_pos_weight</th>\n",
       "      <th>eval_metric</th>\n",
       "      <th>seed</th>\n",
       "      <th>tree_method</th>\n",
       "      <th>gpu_id</th>\n",
       "    </tr>\n",
       "  </thead>\n",
       "  <tbody>\n",
       "    <tr>\n",
       "      <th>0</th>\n",
       "      <td>0.704193</td>\n",
       "      <td>0.1</td>\n",
       "      <td>5</td>\n",
       "      <td>0.20</td>\n",
       "      <td>0.65</td>\n",
       "      <td>binary:logistic</td>\n",
       "      <td>3</td>\n",
       "      <td>auc</td>\n",
       "      <td>666</td>\n",
       "      <td>gpu_hist</td>\n",
       "      <td>0</td>\n",
       "    </tr>\n",
       "    <tr>\n",
       "      <th>1</th>\n",
       "      <td>0.705428</td>\n",
       "      <td>0.2</td>\n",
       "      <td>5</td>\n",
       "      <td>0.20</td>\n",
       "      <td>0.70</td>\n",
       "      <td>binary:logistic</td>\n",
       "      <td>6</td>\n",
       "      <td>auc</td>\n",
       "      <td>666</td>\n",
       "      <td>gpu_hist</td>\n",
       "      <td>0</td>\n",
       "    </tr>\n",
       "    <tr>\n",
       "      <th>2</th>\n",
       "      <td>0.726717</td>\n",
       "      <td>0.3</td>\n",
       "      <td>3</td>\n",
       "      <td>0.10</td>\n",
       "      <td>0.70</td>\n",
       "      <td>binary:logistic</td>\n",
       "      <td>6</td>\n",
       "      <td>auc</td>\n",
       "      <td>666</td>\n",
       "      <td>gpu_hist</td>\n",
       "      <td>0</td>\n",
       "    </tr>\n",
       "    <tr>\n",
       "      <th>3</th>\n",
       "      <td>0.738837</td>\n",
       "      <td>0.3</td>\n",
       "      <td>4</td>\n",
       "      <td>0.05</td>\n",
       "      <td>0.70</td>\n",
       "      <td>binary:logistic</td>\n",
       "      <td>6</td>\n",
       "      <td>auc</td>\n",
       "      <td>666</td>\n",
       "      <td>gpu_hist</td>\n",
       "      <td>0</td>\n",
       "    </tr>\n",
       "    <tr>\n",
       "      <th>4</th>\n",
       "      <td>0.692555</td>\n",
       "      <td>0.1</td>\n",
       "      <td>3</td>\n",
       "      <td>0.10</td>\n",
       "      <td>0.70</td>\n",
       "      <td>binary:logistic</td>\n",
       "      <td>30</td>\n",
       "      <td>auc</td>\n",
       "      <td>666</td>\n",
       "      <td>gpu_hist</td>\n",
       "      <td>0</td>\n",
       "    </tr>\n",
       "    <tr>\n",
       "      <th>5</th>\n",
       "      <td>0.772019</td>\n",
       "      <td>0.1</td>\n",
       "      <td>5</td>\n",
       "      <td>0.05</td>\n",
       "      <td>0.65</td>\n",
       "      <td>binary:logistic</td>\n",
       "      <td>6</td>\n",
       "      <td>auc</td>\n",
       "      <td>666</td>\n",
       "      <td>gpu_hist</td>\n",
       "      <td>0</td>\n",
       "    </tr>\n",
       "    <tr>\n",
       "      <th>6</th>\n",
       "      <td>0.735348</td>\n",
       "      <td>0.1</td>\n",
       "      <td>4</td>\n",
       "      <td>0.10</td>\n",
       "      <td>0.70</td>\n",
       "      <td>binary:logistic</td>\n",
       "      <td>1</td>\n",
       "      <td>auc</td>\n",
       "      <td>666</td>\n",
       "      <td>gpu_hist</td>\n",
       "      <td>0</td>\n",
       "    </tr>\n",
       "    <tr>\n",
       "      <th>7</th>\n",
       "      <td>0.728485</td>\n",
       "      <td>0.1</td>\n",
       "      <td>7</td>\n",
       "      <td>0.10</td>\n",
       "      <td>0.70</td>\n",
       "      <td>binary:logistic</td>\n",
       "      <td>6</td>\n",
       "      <td>auc</td>\n",
       "      <td>666</td>\n",
       "      <td>gpu_hist</td>\n",
       "      <td>0</td>\n",
       "    </tr>\n",
       "    <tr>\n",
       "      <th>8</th>\n",
       "      <td>0.708986</td>\n",
       "      <td>0.3</td>\n",
       "      <td>3</td>\n",
       "      <td>0.05</td>\n",
       "      <td>0.75</td>\n",
       "      <td>binary:logistic</td>\n",
       "      <td>30</td>\n",
       "      <td>auc</td>\n",
       "      <td>666</td>\n",
       "      <td>gpu_hist</td>\n",
       "      <td>0</td>\n",
       "    </tr>\n",
       "    <tr>\n",
       "      <th>9</th>\n",
       "      <td>0.756705</td>\n",
       "      <td>0.1</td>\n",
       "      <td>5</td>\n",
       "      <td>0.10</td>\n",
       "      <td>0.70</td>\n",
       "      <td>binary:logistic</td>\n",
       "      <td>10</td>\n",
       "      <td>auc</td>\n",
       "      <td>666</td>\n",
       "      <td>gpu_hist</td>\n",
       "      <td>0</td>\n",
       "    </tr>\n",
       "  </tbody>\n",
       "</table>\n",
       "</div>"
      ],
      "text/plain": [
       "        auc  test_size  max_depth   eta  colsample_bytree        objective  \\\n",
       "0  0.704193        0.1          5  0.20              0.65  binary:logistic   \n",
       "1  0.705428        0.2          5  0.20              0.70  binary:logistic   \n",
       "2  0.726717        0.3          3  0.10              0.70  binary:logistic   \n",
       "3  0.738837        0.3          4  0.05              0.70  binary:logistic   \n",
       "4  0.692555        0.1          3  0.10              0.70  binary:logistic   \n",
       "5  0.772019        0.1          5  0.05              0.65  binary:logistic   \n",
       "6  0.735348        0.1          4  0.10              0.70  binary:logistic   \n",
       "7  0.728485        0.1          7  0.10              0.70  binary:logistic   \n",
       "8  0.708986        0.3          3  0.05              0.75  binary:logistic   \n",
       "9  0.756705        0.1          5  0.10              0.70  binary:logistic   \n",
       "\n",
       "   scale_pos_weight eval_metric  seed tree_method  gpu_id  \n",
       "0                 3         auc   666    gpu_hist       0  \n",
       "1                 6         auc   666    gpu_hist       0  \n",
       "2                 6         auc   666    gpu_hist       0  \n",
       "3                 6         auc   666    gpu_hist       0  \n",
       "4                30         auc   666    gpu_hist       0  \n",
       "5                 6         auc   666    gpu_hist       0  \n",
       "6                 1         auc   666    gpu_hist       0  \n",
       "7                 6         auc   666    gpu_hist       0  \n",
       "8                30         auc   666    gpu_hist       0  \n",
       "9                10         auc   666    gpu_hist       0  "
      ]
     },
     "execution_count": 287,
     "metadata": {},
     "output_type": "execute_result"
    }
   ],
   "source": [
    "info_df"
   ]
  },
  {
   "cell_type": "code",
   "execution_count": 284,
   "metadata": {},
   "outputs": [
    {
     "data": {
      "image/png": "[encoded data removed]",
      "text/plain": [
       "<Figure size 432x288 with 1 Axes>"
      ]
     },
     "metadata": {
      "needs_background": "light"
     },
     "output_type": "display_data"
    }
   ],
   "source": [
    "pic=xgb.plot_importance(best_bst,max_num_features=20)\n",
    "temp=pic.get_ymajorticklabels()\n",
    "important_x=[str(i).split(\"\\'\")[1] for i in temp]\n",
    "important_x.reverse()"
   ]
  },
  {
   "cell_type": "code",
   "execution_count": 285,
   "metadata": {},
   "outputs": [
    {
     "data": {
      "text/plain": [
       "['loan1_15',\n",
       " 'loan2_3_y',\n",
       " 'loan2_3',\n",
       " 'loan1_31',\n",
       " 'loan1_32',\n",
       " 'loan1_30',\n",
       " 'loan2_4_y',\n",
       " 'basic_7',\n",
       " 'loan1_6',\n",
       " 'loan2_5_y',\n",
       " 'loan1_7',\n",
       " 'basic_1_y',\n",
       " 'loan1_3',\n",
       " 'query_1',\n",
       " 'loan1_14',\n",
       " 'loan1_17',\n",
       " 'query_7',\n",
       " 'loan1_21',\n",
       " 'query_1_y',\n",
       " 'query_4']"
      ]
     },
     "execution_count": 285,
     "metadata": {},
     "output_type": "execute_result"
    }
   ],
   "source": [
    "important_x"
   ]
  },
  {
   "cell_type": "markdown",
   "metadata": {},
   "source": [
    "# 输出模块"
   ]
  },
  {
   "cell_type": "code",
   "execution_count": 286,
   "metadata": {},
   "outputs": [
    {
     "name": "stdout",
     "output_type": "stream",
     "text": [
      "本地测试集前100个auc为[0.7720185821560392, 0.7567051707897476, 0.7388368041929124, 0.7353481839006778, 0.7284848579750086, 0.7267166844606266, 0.7089864807335836, 0.7054283777441727, 0.7041928059690412, 0.6925546055298409]\n"
     ]
    }
   ],
   "source": [
    "import time\n",
    "import numpy as np\n",
    "from sklearn.metrics import roc_auc_score\n",
    "\n",
    "date = time.strftime(\"%Y%m%d-%H%M%S\", time.localtime())\n",
    "res_num = np.argsort([-i for i in loss_seq])\n",
    "\n",
    "# 选择前n个结果进行平均（手动指定or在本地测试集排序选出）\n",
    "if False:\n",
    "    max_auc = -1\n",
    "    list_temp = []\n",
    "    for i in range(N):\n",
    "        list_temp.append(test_labels[res_num[i]])\n",
    "        temp = np.mean(list_temp, axis=0)\n",
    "        temp_auc = roc_auc_score(y_test, temp)\n",
    "        print(i, temp_auc)\n",
    "        if temp_auc > max_auc:\n",
    "            max_auc = temp_auc\n",
    "            n = i\n",
    "else:\n",
    "    n = 100\n",
    "\n",
    "res_num = res_num[0:n]\n",
    "\n",
    "final_pred_label = np.mean([pred_labels[i] for i in res_num], axis=0)\n",
    "#local_auc = roc_auc_score(y_test, final_pred_label)\n",
    "print(\"本地测试集前\", n, \"个auc为\", [loss_seq[i] for i in res_num], sep=\"\")\n",
    "# print(\"平均之后最大AUC为\",max_auc,sep=\"\")\n",
    "\n",
    "res = pd.DataFrame({\n",
    "    'cust_id': list(df_test[\"cust_id\"]),\n",
    "    'label': final_pred_label,\n",
    "})\n",
    "res.to_csv(\"./output/result\"+date+\".csv\", encoding=\"utf-8\", index=False)\n"
   ]
  },
  {
   "cell_type": "markdown",
   "metadata": {},
   "source": [
    "# 一些tips\n",
    "\n",
    "* 提升n有一定提升(如何确定n？)\n",
    "  * n=40 0.6763\n",
    "  * n=10 0.6728\n",
    "  * n=100 0.6774\n",
    "\n",
    "# 一些进展\n",
    "\n",
    "* 随机参数\n",
    "* XGB模型\n",
    "* 本地测试集auc较高（0.75+）\n",
    "* 部分类型变量进行了one-hot处理\n",
    "* 把细分表除了loan与主表合并\n",
    "\n",
    "# tbd\n",
    "\n",
    "* 处理细分表的loan，给出指标\n",
    "* 确定变量类型，以便对所有（or重要）分类变量进行one-hot处理\n",
    "* 新模型？"
   ]
  },
  {
   "cell_type": "markdown",
   "metadata": {},
   "source": []
  }
 ],
 "metadata": {
  "kernelspec": {
   "display_name": "Python 3.9.12 ('base')",
   "language": "python",
   "name": "python3"
  },
  "language_info": {
   "codemirror_mode": {
    "name": "ipython",
    "version": 3
   },
   "file_extension": ".py",
   "mimetype": "text/x-python",
   "name": "python",
   "nbconvert_exporter": "python",
   "pygments_lexer": "ipython3",
   "version": "3.9.12"
  },
  "orig_nbformat": 4,
  "vscode": {
   "interpreter": {
    "hash": "ad2bdc8ecc057115af97d19610ffacc2b4e99fae6737bb82f5d7fb13d2f2c186"
   }
  }
 },
 "nbformat": 4,
 "nbformat_minor": 2
}
