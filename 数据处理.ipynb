{
 "cells": [
  {
   "cell_type": "markdown",
   "metadata": {},
   "source": [
    "# 数据读入模块"
   ]
  },
  {
   "cell_type": "code",
   "execution_count": 165,
   "metadata": {},
   "outputs": [],
   "source": [
    "import pandas as pd\n",
    "\n",
    "train_data = pd.read_csv(\"data\\main\\df_train_b1.csv\", index_col=0)\n",
    "test_data = pd.read_csv('data\\main\\df_test_b1.csv', index_col=0)\n"
   ]
  },
  {
   "cell_type": "markdown",
   "metadata": {},
   "source": [
    "## 要读入除了main之外的数在此处添加"
   ]
  },
  {
   "cell_type": "code",
   "execution_count": 166,
   "metadata": {},
   "outputs": [],
   "source": [
    "import os\n",
    "filenames = [\"data\\detail\\df_basic_b1.csv\",\n",
    "             \"data\\detail\\df_corp_b1.csv\",\n",
    "             \"data\\detail\\df_judicial_b1.csv\",\n",
    "             \"data\\detail\\df_loan2_b1.csv\",\n",
    "             \"data\\detail\\df_query_b1.csv\"]\n",
    "for filename in filenames:\n",
    "    temp = pd.read_csv(filename)\n",
    "    train_data = pd.merge(train_data, temp, on=\"cust_id\",\n",
    "                          how=\"left\", suffixes=(\"\", \"_y\"))\n",
    "    test_data = pd.merge(test_data, temp, on=\"cust_id\",\n",
    "                         how=\"left\", suffixes=(\"\", \"_y\"))\n"
   ]
  },
  {
   "cell_type": "code",
   "execution_count": 167,
   "metadata": {},
   "outputs": [],
   "source": [
    "train_data['is_judicial']=[0 if pd.isna(i) else 1 for i in train_data['judicial_reason']]\n",
    "test_data['is_judicial']=[0 if pd.isna(i) else 1 for i in test_data['judicial_reason']]"
   ]
  },
  {
   "cell_type": "markdown",
   "metadata": {},
   "source": [
    "## 处理NAN"
   ]
  },
  {
   "cell_type": "code",
   "execution_count": 168,
   "metadata": {},
   "outputs": [],
   "source": [
    "def delnan(df):\n",
    "    df = df.dropna(how=\"all\", axis=1)  # 删除全是空值的列\n",
    "    df = df.fillna(-99)\n",
    "    return df\n"
   ]
  },
  {
   "cell_type": "code",
   "execution_count": 169,
   "metadata": {},
   "outputs": [],
   "source": [
    "df_train = delnan(train_data)\n",
    "df_test = delnan(test_data)\n"
   ]
  },
  {
   "cell_type": "code",
   "execution_count": 170,
   "metadata": {},
   "outputs": [
    {
     "data": {
      "text/plain": [
       "' for i in range(2, 17):\\n    print(df_train.iloc[:, i].value_counts()) '"
      ]
     },
     "execution_count": 170,
     "metadata": {},
     "output_type": "execute_result"
    }
   ],
   "source": [
    "\"\"\" for i in range(2, 17):\n",
    "    print(df_train.iloc[:, i].value_counts()) \"\"\"\n"
   ]
  },
  {
   "cell_type": "code",
   "execution_count": 171,
   "metadata": {},
   "outputs": [],
   "source": [
    "type_col = [\"basic_1\",\n",
    "            \"basic_10\",\n",
    "            \"basic_12\",\n",
    "            \"basic_14\",\n",
    "            \"loan1_16\",\n",
    "            \"loan1_20\",\n",
    "            \"loan1_23\",\n",
    "            \"loan1_25\",]"
   ]
  },
  {
   "cell_type": "markdown",
   "metadata": {},
   "source": [
    "## 转化为one-hot编码（不宜采用）"
   ]
  },
  {
   "cell_type": "code",
   "execution_count": 172,
   "metadata": {},
   "outputs": [
    {
     "data": {
      "text/plain": [
       "' df_train = to_one_hot(df_train, type_col)\\ndf_test = to_one_hot(df_test, type_col)\\nfor i in df_train.columns:\\n    if i not in df_test.columns:\\n        df_test[i] = 0\\n '"
      ]
     },
     "execution_count": 172,
     "metadata": {},
     "output_type": "execute_result"
    }
   ],
   "source": [
    "\n",
    "def to_one_hot(df, colnames):\n",
    "    df = pd.get_dummies(df, columns=colnames)\n",
    "    return df\n",
    "\n",
    "\n",
    "\"\"\" df_train = to_one_hot(df_train, type_col)\n",
    "df_test = to_one_hot(df_test, type_col)\n",
    "for i in df_train.columns:\n",
    "    if i not in df_test.columns:\n",
    "        df_test[i] = 0\n",
    " \"\"\""
   ]
  },
  {
   "cell_type": "markdown",
   "metadata": {},
   "source": [
    "## 证据权重"
   ]
  },
  {
   "cell_type": "code",
   "execution_count": 173,
   "metadata": {},
   "outputs": [],
   "source": [
    "import pandas as pd\n",
    "import numpy as np\n",
    "\n",
    "def cal_woe(df,df_no_label,x_cols,y_col):\n",
    "    for i in x_cols:\n",
    "        x_set=pd.unique(df[i])\n",
    "        for j in x_set:\n",
    "            woe=np.mean(df[df[i]==j][y_col])\n",
    "            df[i].replace(j,woe,inplace=True)\n",
    "            df_no_label[i].replace(j,woe,inplace=True)\n",
    "    return df,df_no_label"
   ]
  },
  {
   "cell_type": "code",
   "execution_count": 174,
   "metadata": {},
   "outputs": [],
   "source": [
    "df_train,df_test=cal_woe(df_train,df_test,type_col,\"label\")"
   ]
  },
  {
   "cell_type": "code",
   "execution_count": 175,
   "metadata": {},
   "outputs": [
    {
     "data": {
      "text/plain": [
       "' for i in judicial_col:\\n    df_train[i].astype(\"float\")\\n    df_test[i].astype(\"float\") '"
      ]
     },
     "execution_count": 175,
     "metadata": {},
     "output_type": "execute_result"
    }
   ],
   "source": [
    "full_col_name = list(df_train.columns)\n",
    "basic_col = [i for i in full_col_name if \"basic\" in i]\n",
    "loan_col = [i for i in full_col_name if \"loan\" in i]\n",
    "overdue_col = [i for i in full_col_name if \"overdue\" in i]\n",
    "query_col = [i for i in full_col_name if \"query\" in i]\n",
    "judicial_col=[i for i in full_col_name if \"judicial\" in i]\n",
    "\n",
    "\"\"\" for i in judicial_col:\n",
    "    df_train[i].astype(\"float\")\n",
    "    df_test[i].astype(\"float\") \"\"\""
   ]
  },
  {
   "cell_type": "markdown",
   "metadata": {},
   "source": [
    "## 设置哪些x作为模型自变量输入"
   ]
  },
  {
   "cell_type": "code",
   "execution_count": 176,
   "metadata": {},
   "outputs": [
    {
     "data": {
      "text/plain": [
       "\" x_col=['loan2_3_y',\\n 'loan1_6',\\n 'loan1_32',\\n 'loan1_31',\\n 'basic_7',\\n 'loan2_4_y',\\n 'loan2_3',\\n 'loan1_15',\\n 'loan2_5_y',\\n 'loan1_30',\\n 'loan1_7',\\n 'loan1_3',\\n 'query_1',\\n 'query_7',\\n 'loan1_17',\\n 'query_4',\\n 'loan1_14',\\n 'basic_1_y',\\n 'loan1_21',\\n 'query_1_y'] \""
      ]
     },
     "execution_count": 176,
     "metadata": {},
     "output_type": "execute_result"
    }
   ],
   "source": [
    "x_col = basic_col+['is_judicial']+loan_col+query_col+overdue_col\n",
    "# x_col为模型读入的自变量列名称\n",
    "\n",
    "\n",
    "\"\"\" x_col=['loan2_3_y',\n",
    " 'loan1_6',\n",
    " 'loan1_32',\n",
    " 'loan1_31',\n",
    " 'basic_7',\n",
    " 'loan2_4_y',\n",
    " 'loan2_3',\n",
    " 'loan1_15',\n",
    " 'loan2_5_y',\n",
    " 'loan1_30',\n",
    " 'loan1_7',\n",
    " 'loan1_3',\n",
    " 'query_1',\n",
    " 'query_7',\n",
    " 'loan1_17',\n",
    " 'query_4',\n",
    " 'loan1_14',\n",
    " 'basic_1_y',\n",
    " 'loan1_21',\n",
    " 'query_1_y'] \"\"\""
   ]
  },
  {
   "cell_type": "code",
   "execution_count": 177,
   "metadata": {},
   "outputs": [],
   "source": [
    "# df_train.drop(columns=drop_col)"
   ]
  },
  {
   "cell_type": "markdown",
   "metadata": {},
   "source": [
    "# 训练模型"
   ]
  },
  {
   "cell_type": "markdown",
   "metadata": {},
   "source": [
    "## 划分测试集训练集"
   ]
  },
  {
   "cell_type": "code",
   "execution_count": 178,
   "metadata": {},
   "outputs": [
    {
     "data": {
      "text/plain": [
       "' from sklearn import model_selection\\n\\n\\nX = df_train[x_col]\\nY = df_train[\"label\"]\\nseed = 666\\ntest_size = 0.1\\nX_train, X_test, y_train, y_test = model_selection.train_test_split(\\n    X, Y, test_size=test_size, random_state=seed) '"
      ]
     },
     "execution_count": 178,
     "metadata": {},
     "output_type": "execute_result"
    }
   ],
   "source": [
    "\"\"\" from sklearn import model_selection\n",
    "\n",
    "\n",
    "X = df_train[x_col]\n",
    "Y = df_train[\"label\"]\n",
    "seed = 666\n",
    "test_size = 0.1\n",
    "X_train, X_test, y_train, y_test = model_selection.train_test_split(\n",
    "    X, Y, test_size=test_size, random_state=seed) \"\"\"\n"
   ]
  },
  {
   "cell_type": "markdown",
   "metadata": {},
   "source": [
    "## 训练模型"
   ]
  },
  {
   "cell_type": "markdown",
   "metadata": {},
   "source": [
    "## 超参数"
   ]
  },
  {
   "cell_type": "code",
   "execution_count": 179,
   "metadata": {},
   "outputs": [],
   "source": [
    "N = 200\n",
    "num_round = 100\n",
    "\n",
    "max_depth = [3, 4, 5,7]\n",
    "eta = [0.1,0.06]\n",
    "colsample_bytree = [0.7, 0.6,0.5]\n",
    "scale_pos_weight = [1, 3, 6, 10, 30]\n",
    "test_size=[0.3,0.5,0.7]\n",
    "subsample=[0.7,0.6,0.5]\n",
    "par_lambda=[1,1.5,2]\n",
    "alpha=[0,0.2,0.4,0.6]\n",
    "min_child_weight=[1,2,3,4,5,6]\n"
   ]
  },
  {
   "cell_type": "code",
   "execution_count": 180,
   "metadata": {},
   "outputs": [
    {
     "name": "stdout",
     "output_type": "stream",
     "text": [
      "1:0.6952129918281282\n",
      "2:0.6949117177192665\n",
      "3:0.7123776781155202\n",
      "4:0.7103689861801754\n",
      "5:0.6972714833059661\n",
      "6:0.6907594303657367\n",
      "7:0.6759996710255778\n",
      "8:0.6917859633060233\n",
      "9:0.731162196679438\n",
      "10:0.6753392438700326\n",
      "11:0.723327713459937\n",
      "12:0.6839603348124463\n",
      "13:0.6905898051028652\n",
      "14:0.6957880808479227\n",
      "15:0.7251011825719301\n",
      "16:0.7397013546507791\n",
      "17:0.7075484249911571\n",
      "18:0.704503559322391\n",
      "19:0.7209604058461166\n",
      "20:0.6775878186021302\n",
      "21:0.7344945224261583\n",
      "22:0.6981516446579372\n",
      "23:0.7389085286900428\n",
      "24:0.7234002119815981\n",
      "25:0.7189146276475212\n",
      "26:0.7187103738586493\n",
      "27:0.7231062944836922\n",
      "28:0.6985960103243363\n",
      "29:0.6781209568841943\n",
      "30:0.7224674394943166\n",
      "31:0.7144555825058744\n",
      "32:0.7049117084692386\n",
      "33:0.6544719407926011\n",
      "34:0.6935824176765031\n",
      "35:0.7099061122820464\n",
      "36:0.6330777533469383\n",
      "37:0.7360638823156758\n",
      "38:0.7555545069080295\n",
      "39:0.7483131792638396\n",
      "40:0.6959509426615299\n",
      "41:0.6900224664814592\n",
      "42:0.7195436814966061\n",
      "43:0.6659851696973627\n",
      "44:0.7190116799743588\n",
      "45:0.6974862068965517\n",
      "46:0.673110652204958\n",
      "47:0.6826451371183668\n",
      "48:0.642447036055174\n",
      "49:0.6911150180205722\n",
      "50:0.6691222313371616\n",
      "51:0.6938213480426878\n",
      "52:0.676511900555956\n",
      "53:0.6967951923076923\n",
      "54:0.7071824138659902\n",
      "55:0.7206168599927634\n",
      "56:0.7072009422102905\n",
      "57:0.6820201492895546\n",
      "58:0.6840212828030038\n",
      "59:0.7127070508431308\n",
      "60:0.7223204225927075\n",
      "61:0.6815836521634246\n",
      "62:0.6584556206537808\n",
      "63:0.7120269372116663\n",
      "64:0.7106042119454141\n",
      "65:0.7421116693921816\n",
      "66:0.6907757867527717\n",
      "67:0.692669557647559\n",
      "68:0.7136930675592523\n",
      "69:0.7101641577229281\n",
      "70:0.6942434515458988\n",
      "71:0.71248786906818\n",
      "72:0.7287112480127186\n",
      "73:0.6924966363033289\n",
      "74:0.7125507090627425\n",
      "75:0.7373091731338638\n",
      "76:0.6692383068996869\n",
      "77:0.695179983523654\n",
      "78:0.7177659259746236\n",
      "79:0.7182853442551278\n",
      "80:0.7178554234063276\n",
      "81:0.6847969312502185\n",
      "82:0.7285830367706976\n",
      "83:0.7113765736179529\n",
      "84:0.6950124199786609\n",
      "85:0.7124991481614891\n",
      "86:0.6814191300881735\n",
      "87:0.6966521551190026\n",
      "88:0.7138190362672003\n",
      "89:0.6807570260974646\n",
      "90:0.727923022527528\n",
      "91:0.7182732731303272\n",
      "92:0.6938265234928949\n",
      "93:0.6914998814051967\n",
      "94:0.6954817674499177\n",
      "95:0.6880219179991682\n",
      "96:0.6469053019109626\n",
      "97:0.700575844416328\n",
      "98:0.697777692438966\n",
      "99:0.696242733650384\n",
      "100:0.6890464308848913\n",
      "101:0.735277675608859\n",
      "102:0.7040858325405669\n",
      "103:0.7243378035346997\n",
      "104:0.6714183989264098\n",
      "105:0.6939710388752028\n",
      "106:0.73466216977043\n",
      "107:0.7022381147842927\n",
      "108:0.7306670816593451\n",
      "109:0.7171903650552313\n",
      "110:0.664884098552751\n",
      "111:0.6771760122511841\n",
      "112:0.690347046744776\n",
      "113:0.7078573958412471\n",
      "114:0.7234894289070871\n",
      "115:0.7426938618078416\n",
      "116:0.7262037037037037\n",
      "117:0.7132354578863358\n",
      "118:0.7027044193602\n",
      "119:0.7278146065083548\n",
      "120:0.7042150566052003\n",
      "121:0.6744571182830931\n",
      "122:0.711916927847426\n",
      "123:0.7052266922094508\n",
      "124:0.6828586197578064\n",
      "125:0.6786127509618428\n",
      "126:0.711653953427266\n",
      "127:0.7267117376083632\n",
      "128:0.7084509723396546\n",
      "129:0.6834102402047356\n",
      "130:0.6925061480855176\n",
      "131:0.6943480842911878\n",
      "132:0.6986338472868378\n",
      "133:0.6903439713219038\n",
      "134:0.6896552622365965\n",
      "135:0.634340148505006\n",
      "136:0.6718228175183804\n",
      "137:0.6998822079961348\n",
      "138:0.7042748448254151\n",
      "139:0.6917911856640783\n",
      "140:0.6947982138676096\n",
      "141:0.6930989614006622\n",
      "142:0.7114332788099378\n",
      "143:0.703981988123908\n",
      "144:0.7088372701793783\n",
      "145:0.6842077672622502\n",
      "146:0.7001369954767809\n",
      "147:0.6911935502372221\n",
      "148:0.7511197399218114\n",
      "149:0.7064435622149904\n",
      "150:0.7197615028539608\n",
      "151:0.6935674702722622\n",
      "152:0.7340731800766284\n",
      "153:0.7024514003194379\n",
      "154:0.6441610583538231\n",
      "155:0.7449524256279197\n",
      "156:0.7121857472600802\n",
      "157:0.5\n",
      "158:0.7216592218633868\n",
      "159:0.6964363238177228\n",
      "160:0.6905789053558818\n",
      "161:0.7056992935107655\n",
      "162:0.703236073361989\n",
      "163:0.7187572993293259\n",
      "164:0.7313706005780118\n",
      "165:0.6899215987517073\n",
      "166:0.7286086309523809\n",
      "167:0.6972691312182114\n",
      "168:0.6760010782893645\n",
      "169:0.7157038461538462\n",
      "170:0.6799760599599736\n",
      "171:0.6623424353139261\n",
      "172:0.7081613123718387\n",
      "173:0.7134177825746935\n",
      "174:0.7085072125745805\n",
      "175:0.7082358506708538\n",
      "176:0.6819435697792957\n",
      "177:0.7078050400195729\n",
      "178:0.7225975669057876\n",
      "179:0.6791965350348731\n",
      "180:0.683325214111731\n",
      "181:0.7262730606434827\n",
      "182:0.7022142183862012\n",
      "183:0.6954715239516376\n",
      "184:0.6869379139238481\n",
      "185:0.7113930823819832\n",
      "186:0.7358403280929596\n",
      "187:0.6963768846084478\n",
      "188:0.6996171952662369\n",
      "189:0.7074195317284154\n",
      "190:0.6830524254414673\n",
      "191:0.7074193548387097\n",
      "192:0.6874784469045631\n",
      "193:0.7253418318389774\n",
      "194:0.6476235895405547\n",
      "195:0.733992656449553\n",
      "196:0.7050331137462243\n",
      "197:0.6985633735892713\n",
      "198:0.6818134615384616\n",
      "199:0.6976016184713613\n",
      "200:0.6831385459533608\n",
      "最大AUC:0.7555545069080295\n"
     ]
    }
   ],
   "source": [
    "import copy\n",
    "import xgboost as xgb\n",
    "import random\n",
    "from sklearn import model_selection\n",
    "from sklearn.metrics import roc_auc_score\n",
    "\n",
    "\n",
    "pred_labels = []\n",
    "test_labels = []\n",
    "loss_seq = []\n",
    "max_auc_loss = 0\n",
    "flag=0\n",
    "X = df_train[x_col]\n",
    "Y = df_train[\"label\"]\n",
    "x_perd = xgb.DMatrix(df_test[x_col])\n",
    "\n",
    "for i in range(N):\n",
    "\n",
    "    #seed = 666\n",
    "    test_size_this_round=random.choice(test_size)\n",
    "    X_train, X_test, y_train, y_test = model_selection.train_test_split(\n",
    "        X, Y, test_size=test_size_this_round)\n",
    "    # seed+=1\n",
    "\n",
    "    \n",
    "    dtrain = xgb.DMatrix(X_train, label=y_train)\n",
    "    dtest = xgb.DMatrix(X_test, label=y_test)\n",
    "    evallist = [(dtest, 'eval')]\n",
    "\n",
    "    param = {\n",
    "        'max_depth': random.choice(max_depth),\n",
    "        'eta': random.choice(eta),\n",
    "        'colsample_bytree': random.choice(colsample_bytree),\n",
    "        'objective': 'binary:logistic',\n",
    "        #'verbosity':0,\n",
    "        'scale_pos_weight': random.choice(scale_pos_weight),\n",
    "        'eval_metric': 'auc',\n",
    "        'subsample':random.choice(subsample),\n",
    "        'alpha':random.choice(alpha),\n",
    "        'lambda':random.choice(par_lambda),\n",
    "        'min_child_weight':random.choice(min_child_weight),\n",
    "        #'seed': 666,\n",
    "        'tree_method': 'gpu_hist',\n",
    "        'gpu_id': 0,\n",
    "        #\"enable_enable_categorical\":True,\n",
    "    }\n",
    "    \n",
    "    bst = xgb.train(param, dtrain, num_round, evals=evallist,\n",
    "                    early_stopping_rounds=10, verbose_eval=False)\n",
    "    loss = float(bst.eval(dtest).split(\":\")[1])\n",
    "    pred_label = list(bst.predict(x_perd))\n",
    "    test_label = list(bst.predict(xgb.DMatrix(X_test)))\n",
    "    # temp=roc_auc_score(y_test,test_label)\n",
    "    # print(test_label[0:10])\n",
    "\n",
    "    loss_seq.append(loss)\n",
    "\n",
    "    temp_dict={\"auc\":loss,'test_size':test_size_this_round}\n",
    "    temp_dict.update(param)\n",
    "\n",
    "    #info_df=info_df.append(pd.DataFrame(temp_dict))\n",
    "    if flag==0:\n",
    "        info_df=pd.DataFrame(temp_dict,index=[i])\n",
    "        flag=1\n",
    "    else:\n",
    "        info_df=pd.concat([info_df,pd.DataFrame(temp_dict,index=[i])])\n",
    "\n",
    "    if loss > max_auc_loss:\n",
    "        best_bst = copy.deepcopy(bst)\n",
    "        max_auc_loss = loss\n",
    "    \n",
    "\n",
    "    print(i+1, \":\", loss, sep=\"\")\n",
    "    #print(param)\n",
    "    #print(\"-------------------------\")\n",
    "    pred_labels.append([j for j in pred_label])\n",
    "    test_labels.append(copy.deepcopy(test_label))\n",
    "\n",
    "\n",
    "print('最大AUC:', max(loss_seq), sep=\"\")"
   ]
  },
  {
   "cell_type": "code",
   "execution_count": 181,
   "metadata": {},
   "outputs": [
    {
     "data": {
      "text/html": [
       "<div>\n",
       "<style scoped>\n",
       "    .dataframe tbody tr th:only-of-type {\n",
       "        vertical-align: middle;\n",
       "    }\n",
       "\n",
       "    .dataframe tbody tr th {\n",
       "        vertical-align: top;\n",
       "    }\n",
       "\n",
       "    .dataframe thead th {\n",
       "        text-align: right;\n",
       "    }\n",
       "</style>\n",
       "<table border=\"1\" class=\"dataframe\">\n",
       "  <thead>\n",
       "    <tr style=\"text-align: right;\">\n",
       "      <th></th>\n",
       "      <th>auc</th>\n",
       "      <th>test_size</th>\n",
       "      <th>max_depth</th>\n",
       "      <th>eta</th>\n",
       "      <th>colsample_bytree</th>\n",
       "      <th>objective</th>\n",
       "      <th>scale_pos_weight</th>\n",
       "      <th>eval_metric</th>\n",
       "      <th>subsample</th>\n",
       "      <th>alpha</th>\n",
       "      <th>lambda</th>\n",
       "      <th>min_child_weight</th>\n",
       "      <th>tree_method</th>\n",
       "      <th>gpu_id</th>\n",
       "    </tr>\n",
       "  </thead>\n",
       "  <tbody>\n",
       "    <tr>\n",
       "      <th>0</th>\n",
       "      <td>0.695213</td>\n",
       "      <td>0.7</td>\n",
       "      <td>4</td>\n",
       "      <td>0.06</td>\n",
       "      <td>0.5</td>\n",
       "      <td>binary:logistic</td>\n",
       "      <td>6</td>\n",
       "      <td>auc</td>\n",
       "      <td>0.7</td>\n",
       "      <td>0.2</td>\n",
       "      <td>1.0</td>\n",
       "      <td>1</td>\n",
       "      <td>gpu_hist</td>\n",
       "      <td>0</td>\n",
       "    </tr>\n",
       "    <tr>\n",
       "      <th>1</th>\n",
       "      <td>0.694912</td>\n",
       "      <td>0.3</td>\n",
       "      <td>3</td>\n",
       "      <td>0.10</td>\n",
       "      <td>0.7</td>\n",
       "      <td>binary:logistic</td>\n",
       "      <td>30</td>\n",
       "      <td>auc</td>\n",
       "      <td>0.5</td>\n",
       "      <td>0.0</td>\n",
       "      <td>2.0</td>\n",
       "      <td>3</td>\n",
       "      <td>gpu_hist</td>\n",
       "      <td>0</td>\n",
       "    </tr>\n",
       "    <tr>\n",
       "      <th>2</th>\n",
       "      <td>0.712378</td>\n",
       "      <td>0.5</td>\n",
       "      <td>3</td>\n",
       "      <td>0.06</td>\n",
       "      <td>0.6</td>\n",
       "      <td>binary:logistic</td>\n",
       "      <td>6</td>\n",
       "      <td>auc</td>\n",
       "      <td>0.6</td>\n",
       "      <td>0.6</td>\n",
       "      <td>1.5</td>\n",
       "      <td>1</td>\n",
       "      <td>gpu_hist</td>\n",
       "      <td>0</td>\n",
       "    </tr>\n",
       "    <tr>\n",
       "      <th>3</th>\n",
       "      <td>0.710369</td>\n",
       "      <td>0.3</td>\n",
       "      <td>5</td>\n",
       "      <td>0.06</td>\n",
       "      <td>0.6</td>\n",
       "      <td>binary:logistic</td>\n",
       "      <td>10</td>\n",
       "      <td>auc</td>\n",
       "      <td>0.6</td>\n",
       "      <td>0.6</td>\n",
       "      <td>1.5</td>\n",
       "      <td>1</td>\n",
       "      <td>gpu_hist</td>\n",
       "      <td>0</td>\n",
       "    </tr>\n",
       "    <tr>\n",
       "      <th>4</th>\n",
       "      <td>0.697271</td>\n",
       "      <td>0.7</td>\n",
       "      <td>3</td>\n",
       "      <td>0.10</td>\n",
       "      <td>0.5</td>\n",
       "      <td>binary:logistic</td>\n",
       "      <td>1</td>\n",
       "      <td>auc</td>\n",
       "      <td>0.5</td>\n",
       "      <td>0.6</td>\n",
       "      <td>1.5</td>\n",
       "      <td>1</td>\n",
       "      <td>gpu_hist</td>\n",
       "      <td>0</td>\n",
       "    </tr>\n",
       "    <tr>\n",
       "      <th>...</th>\n",
       "      <td>...</td>\n",
       "      <td>...</td>\n",
       "      <td>...</td>\n",
       "      <td>...</td>\n",
       "      <td>...</td>\n",
       "      <td>...</td>\n",
       "      <td>...</td>\n",
       "      <td>...</td>\n",
       "      <td>...</td>\n",
       "      <td>...</td>\n",
       "      <td>...</td>\n",
       "      <td>...</td>\n",
       "      <td>...</td>\n",
       "      <td>...</td>\n",
       "    </tr>\n",
       "    <tr>\n",
       "      <th>195</th>\n",
       "      <td>0.705033</td>\n",
       "      <td>0.5</td>\n",
       "      <td>4</td>\n",
       "      <td>0.10</td>\n",
       "      <td>0.6</td>\n",
       "      <td>binary:logistic</td>\n",
       "      <td>6</td>\n",
       "      <td>auc</td>\n",
       "      <td>0.6</td>\n",
       "      <td>0.0</td>\n",
       "      <td>1.5</td>\n",
       "      <td>5</td>\n",
       "      <td>gpu_hist</td>\n",
       "      <td>0</td>\n",
       "    </tr>\n",
       "    <tr>\n",
       "      <th>196</th>\n",
       "      <td>0.698563</td>\n",
       "      <td>0.5</td>\n",
       "      <td>4</td>\n",
       "      <td>0.10</td>\n",
       "      <td>0.6</td>\n",
       "      <td>binary:logistic</td>\n",
       "      <td>10</td>\n",
       "      <td>auc</td>\n",
       "      <td>0.6</td>\n",
       "      <td>0.2</td>\n",
       "      <td>2.0</td>\n",
       "      <td>4</td>\n",
       "      <td>gpu_hist</td>\n",
       "      <td>0</td>\n",
       "    </tr>\n",
       "    <tr>\n",
       "      <th>197</th>\n",
       "      <td>0.681813</td>\n",
       "      <td>0.3</td>\n",
       "      <td>3</td>\n",
       "      <td>0.06</td>\n",
       "      <td>0.5</td>\n",
       "      <td>binary:logistic</td>\n",
       "      <td>1</td>\n",
       "      <td>auc</td>\n",
       "      <td>0.6</td>\n",
       "      <td>0.2</td>\n",
       "      <td>1.0</td>\n",
       "      <td>5</td>\n",
       "      <td>gpu_hist</td>\n",
       "      <td>0</td>\n",
       "    </tr>\n",
       "    <tr>\n",
       "      <th>198</th>\n",
       "      <td>0.697602</td>\n",
       "      <td>0.5</td>\n",
       "      <td>4</td>\n",
       "      <td>0.06</td>\n",
       "      <td>0.7</td>\n",
       "      <td>binary:logistic</td>\n",
       "      <td>10</td>\n",
       "      <td>auc</td>\n",
       "      <td>0.6</td>\n",
       "      <td>0.6</td>\n",
       "      <td>1.5</td>\n",
       "      <td>2</td>\n",
       "      <td>gpu_hist</td>\n",
       "      <td>0</td>\n",
       "    </tr>\n",
       "    <tr>\n",
       "      <th>199</th>\n",
       "      <td>0.683139</td>\n",
       "      <td>0.7</td>\n",
       "      <td>7</td>\n",
       "      <td>0.10</td>\n",
       "      <td>0.5</td>\n",
       "      <td>binary:logistic</td>\n",
       "      <td>6</td>\n",
       "      <td>auc</td>\n",
       "      <td>0.6</td>\n",
       "      <td>0.6</td>\n",
       "      <td>2.0</td>\n",
       "      <td>4</td>\n",
       "      <td>gpu_hist</td>\n",
       "      <td>0</td>\n",
       "    </tr>\n",
       "  </tbody>\n",
       "</table>\n",
       "<p>200 rows × 14 columns</p>\n",
       "</div>"
      ],
      "text/plain": [
       "          auc  test_size  max_depth   eta  colsample_bytree        objective  \\\n",
       "0    0.695213        0.7          4  0.06               0.5  binary:logistic   \n",
       "1    0.694912        0.3          3  0.10               0.7  binary:logistic   \n",
       "2    0.712378        0.5          3  0.06               0.6  binary:logistic   \n",
       "3    0.710369        0.3          5  0.06               0.6  binary:logistic   \n",
       "4    0.697271        0.7          3  0.10               0.5  binary:logistic   \n",
       "..        ...        ...        ...   ...               ...              ...   \n",
       "195  0.705033        0.5          4  0.10               0.6  binary:logistic   \n",
       "196  0.698563        0.5          4  0.10               0.6  binary:logistic   \n",
       "197  0.681813        0.3          3  0.06               0.5  binary:logistic   \n",
       "198  0.697602        0.5          4  0.06               0.7  binary:logistic   \n",
       "199  0.683139        0.7          7  0.10               0.5  binary:logistic   \n",
       "\n",
       "     scale_pos_weight eval_metric  subsample  alpha  lambda  min_child_weight  \\\n",
       "0                   6         auc        0.7    0.2     1.0                 1   \n",
       "1                  30         auc        0.5    0.0     2.0                 3   \n",
       "2                   6         auc        0.6    0.6     1.5                 1   \n",
       "3                  10         auc        0.6    0.6     1.5                 1   \n",
       "4                   1         auc        0.5    0.6     1.5                 1   \n",
       "..                ...         ...        ...    ...     ...               ...   \n",
       "195                 6         auc        0.6    0.0     1.5                 5   \n",
       "196                10         auc        0.6    0.2     2.0                 4   \n",
       "197                 1         auc        0.6    0.2     1.0                 5   \n",
       "198                10         auc        0.6    0.6     1.5                 2   \n",
       "199                 6         auc        0.6    0.6     2.0                 4   \n",
       "\n",
       "    tree_method  gpu_id  \n",
       "0      gpu_hist       0  \n",
       "1      gpu_hist       0  \n",
       "2      gpu_hist       0  \n",
       "3      gpu_hist       0  \n",
       "4      gpu_hist       0  \n",
       "..          ...     ...  \n",
       "195    gpu_hist       0  \n",
       "196    gpu_hist       0  \n",
       "197    gpu_hist       0  \n",
       "198    gpu_hist       0  \n",
       "199    gpu_hist       0  \n",
       "\n",
       "[200 rows x 14 columns]"
      ]
     },
     "execution_count": 181,
     "metadata": {},
     "output_type": "execute_result"
    }
   ],
   "source": [
    "info_df"
   ]
  },
  {
   "cell_type": "code",
   "execution_count": 182,
   "metadata": {},
   "outputs": [],
   "source": [
    "info_df.to_csv(\"info.csv\",encoding=\"utf-8\",index=False)"
   ]
  },
  {
   "cell_type": "code",
   "execution_count": 183,
   "metadata": {},
   "outputs": [
    {
     "data": {
      "image/png": "[encoded data removed]",
      "text/plain": [
       "<Figure size 432x288 with 1 Axes>"
      ]
     },
     "metadata": {
      "needs_background": "light"
     },
     "output_type": "display_data"
    }
   ],
   "source": [
    "pic=xgb.plot_importance(best_bst,max_num_features=50)\n",
    "temp=pic.get_ymajorticklabels()\n",
    "important_x=[str(i).split(\"\\'\")[1] for i in temp]\n",
    "important_x.reverse()"
   ]
  },
  {
   "cell_type": "code",
   "execution_count": 184,
   "metadata": {},
   "outputs": [
    {
     "data": {
      "text/plain": [
       "['loan1_32',\n",
       " 'query_7',\n",
       " 'loan2_3_y',\n",
       " 'loan1_31',\n",
       " 'loan1_24',\n",
       " 'loan1_15',\n",
       " 'loan2_5_y',\n",
       " 'basic_7',\n",
       " 'loan1_21',\n",
       " 'loan1_14',\n",
       " 'basic_1_y',\n",
       " 'query_4',\n",
       " 'loan2_3',\n",
       " 'query_1_y',\n",
       " 'loan1_6',\n",
       " 'overdue_19',\n",
       " 'query_1',\n",
       " 'loan2_4_y',\n",
       " 'loan1_30',\n",
       " 'loan1_19',\n",
       " 'loan1_3',\n",
       " 'loan1_17',\n",
       " 'loan2_6',\n",
       " 'loan1_7',\n",
       " 'loan2_11',\n",
       " 'query_2_y',\n",
       " 'loan1_28',\n",
       " 'loan2_1',\n",
       " 'loan1_22',\n",
       " 'loan2_1_y',\n",
       " 'loan1_11',\n",
       " 'query_6',\n",
       " 'loan2_7',\n",
       " 'loan1_33',\n",
       " 'query_4_y',\n",
       " 'query_8',\n",
       " 'loan2_2_y',\n",
       " 'loan2_12',\n",
       " 'loan2_5',\n",
       " 'basic_10',\n",
       " 'overdue_23',\n",
       " 'query_11',\n",
       " 'query_10',\n",
       " 'overdue_4',\n",
       " 'overdue_2',\n",
       " 'query_2',\n",
       " 'loan2_4',\n",
       " 'loan1_13',\n",
       " 'basic_14',\n",
       " 'loan2_2']"
      ]
     },
     "execution_count": 184,
     "metadata": {},
     "output_type": "execute_result"
    }
   ],
   "source": [
    "important_x"
   ]
  },
  {
   "cell_type": "markdown",
   "metadata": {},
   "source": [
    "* basic_7:年龄\n",
    "* "
   ]
  },
  {
   "cell_type": "markdown",
   "metadata": {},
   "source": [
    "# 输出模块"
   ]
  },
  {
   "cell_type": "code",
   "execution_count": 185,
   "metadata": {},
   "outputs": [
    {
     "name": "stdout",
     "output_type": "stream",
     "text": [
      "本地测试集前100个auc为[0.7555545069080295, 0.7511197399218114, 0.7483131792638396, 0.7449524256279197, 0.7426938618078416, 0.7421116693921816, 0.7397013546507791, 0.7389085286900428, 0.7373091731338638, 0.7360638823156758, 0.7358403280929596, 0.735277675608859, 0.73466216977043, 0.7344945224261583, 0.7340731800766284, 0.733992656449553, 0.7313706005780118, 0.731162196679438, 0.7306670816593451, 0.7287112480127186, 0.7286086309523809, 0.7285830367706976, 0.727923022527528, 0.7278146065083548, 0.7267117376083632, 0.7262730606434827, 0.7262037037037037, 0.7253418318389774, 0.7251011825719301, 0.7243378035346997, 0.7234894289070871, 0.7234002119815981, 0.723327713459937, 0.7231062944836922, 0.7225975669057876, 0.7224674394943166, 0.7223204225927075, 0.7216592218633868, 0.7209604058461166, 0.7206168599927634, 0.7197615028539608, 0.7195436814966061, 0.7190116799743588, 0.7189146276475212, 0.7187572993293259, 0.7187103738586493, 0.7182853442551278, 0.7182732731303272, 0.7178554234063276, 0.7177659259746236, 0.7171903650552313, 0.7157038461538462, 0.7144555825058744, 0.7138190362672003, 0.7136930675592523, 0.7134177825746935, 0.7132354578863358, 0.7127070508431308, 0.7125507090627425, 0.7124991481614891, 0.71248786906818, 0.7123776781155202, 0.7121857472600802, 0.7120269372116663, 0.711916927847426, 0.711653953427266, 0.7114332788099378, 0.7113930823819832, 0.7113765736179529, 0.7106042119454141, 0.7103689861801754, 0.7101641577229281, 0.7099061122820464, 0.7088372701793783, 0.7085072125745805, 0.7084509723396546, 0.7082358506708538, 0.7081613123718387, 0.7078573958412471, 0.7078050400195729, 0.7075484249911571, 0.7074195317284154, 0.7074193548387097, 0.7072009422102905, 0.7071824138659902, 0.7064435622149904, 0.7056992935107655, 0.7052266922094508, 0.7050331137462243, 0.7049117084692386, 0.704503559322391, 0.7042748448254151, 0.7042150566052003, 0.7040858325405669, 0.703981988123908, 0.703236073361989, 0.7027044193602, 0.7024514003194379, 0.7022381147842927, 0.7022142183862012]\n"
     ]
    }
   ],
   "source": [
    "import time\n",
    "import numpy as np\n",
    "from sklearn.metrics import roc_auc_score\n",
    "\n",
    "date = time.strftime(\"%Y%m%d-%H%M%S\", time.localtime())\n",
    "res_num = np.argsort([-i for i in loss_seq])\n",
    "\n",
    "# 选择前n个结果进行平均（手动指定or在本地测试集排序选出）\n",
    "if False:\n",
    "    max_auc = -1\n",
    "    list_temp = []\n",
    "    for i in range(N):\n",
    "        list_temp.append(test_labels[res_num[i]])\n",
    "        temp = np.mean(list_temp, axis=0)\n",
    "        temp_auc = roc_auc_score(y_test, temp)\n",
    "        print(i, temp_auc)\n",
    "        if temp_auc > max_auc:\n",
    "            max_auc = temp_auc\n",
    "            n = i\n",
    "else:\n",
    "    n = 100\n",
    "\n",
    "res_num = res_num[0:n]\n",
    "\n",
    "final_pred_label = np.mean([pred_labels[i] for i in res_num], axis=0)\n",
    "#local_auc = roc_auc_score(y_test, final_pred_label)\n",
    "print(\"本地测试集前\", n, \"个auc为\", [loss_seq[i] for i in res_num], sep=\"\")\n",
    "# print(\"平均之后最大AUC为\",max_auc,sep=\"\")\n",
    "\n",
    "res = pd.DataFrame({\n",
    "    'cust_id': list(df_test[\"cust_id\"]),\n",
    "    'label': final_pred_label,\n",
    "})\n",
    "res.to_csv(\"./output/result\"+date+\".csv\", encoding=\"utf-8\", index=False)\n"
   ]
  },
  {
   "cell_type": "markdown",
   "metadata": {},
   "source": [
    "# 一些tips\n",
    "\n",
    "* 提升n有一定提升(如何确定n？)\n",
    "  * n=40 0.6763\n",
    "  * n=10 0.6728\n",
    "  * n=100 0.6774\n",
    "\n",
    "# 一些进展\n",
    "\n",
    "* 随机参数\n",
    "* XGB模型\n",
    "* 本地测试集auc较高（0.75+）\n",
    "* 部分类型变量进行了one-hot处理\n",
    "* 把细分表除了loan与主表合并\n",
    "\n",
    "# tbd\n",
    "\n",
    "* 处理细分表的loan，给出指标\n",
    "* 确定变量类型，以便对所有（or重要）分类变量进行one-hot处理\n",
    "* 新模型？"
   ]
  },
  {
   "cell_type": "markdown",
   "metadata": {},
   "source": []
  }
 ],
 "metadata": {
  "kernelspec": {
   "display_name": "Python 3.9.12 ('base')",
   "language": "python",
   "name": "python3"
  },
  "language_info": {
   "codemirror_mode": {
    "name": "ipython",
    "version": 3
   },
   "file_extension": ".py",
   "mimetype": "text/x-python",
   "name": "python",
   "nbconvert_exporter": "python",
   "pygments_lexer": "ipython3",
   "version": "3.9.12"
  },
  "orig_nbformat": 4,
  "vscode": {
   "interpreter": {
    "hash": "ad2bdc8ecc057115af97d19610ffacc2b4e99fae6737bb82f5d7fb13d2f2c186"
   }
  }
 },
 "nbformat": 4,
 "nbformat_minor": 2
}
