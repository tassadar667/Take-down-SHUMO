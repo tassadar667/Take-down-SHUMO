{
 "cells": [
  {
   "cell_type": "markdown",
   "metadata": {},
   "source": [
    "# 数据读入模块"
   ]
  },
  {
   "cell_type": "code",
   "execution_count": 39,
   "metadata": {},
   "outputs": [],
   "source": [
    "import pandas as pd\n",
    "\n",
    "train_data = pd.read_csv(\"data\\main\\df_train_b1.csv\", index_col=0)\n",
    "test_data = pd.read_csv('data\\main\\df_test_b1.csv', index_col=0)\n"
   ]
  },
  {
   "cell_type": "markdown",
   "metadata": {},
   "source": [
    "## 要读入除了main之外的数在此处添加"
   ]
  },
  {
   "cell_type": "code",
   "execution_count": 40,
   "metadata": {},
   "outputs": [],
   "source": [
    "import os\n",
    "filenames = [\"data\\detail\\df_basic_b1.csv\",\n",
    "             \"data\\detail\\df_corp_b1.csv\",\n",
    "             \"data\\detail\\df_judicial_b1.csv\",\n",
    "             \"data\\detail\\df_loan2_b1.csv\",\n",
    "             \"data\\detail\\df_query_b1.csv\"]\n",
    "for filename in filenames:\n",
    "    temp = pd.read_csv(filename)\n",
    "    train_data = pd.merge(train_data, temp, on=\"cust_id\",\n",
    "                          how=\"left\", suffixes=(\"\", \"_y\"))\n",
    "    test_data = pd.merge(test_data, temp, on=\"cust_id\",\n",
    "                         how=\"left\", suffixes=(\"\", \"_y\"))\n"
   ]
  },
  {
   "cell_type": "code",
   "execution_count": 41,
   "metadata": {},
   "outputs": [],
   "source": [
    "train_data['is_judicial']=[0 if pd.isna(i) else 1 for i in train_data['judicial_reason']]\n",
    "test_data['is_judicial']=[0 if pd.isna(i) else 1 for i in test_data['judicial_reason']]"
   ]
  },
  {
   "cell_type": "code",
   "execution_count": 42,
   "metadata": {},
   "outputs": [],
   "source": [
    "train_data['nan_num']=(train_data==0).astype(int).sum(axis=1)\n",
    "test_data['nan_num']=(test_data==0).astype(int).sum(axis=1)"
   ]
  },
  {
   "cell_type": "markdown",
   "metadata": {},
   "source": [
    "## 处理NAN"
   ]
  },
  {
   "cell_type": "code",
   "execution_count": 43,
   "metadata": {},
   "outputs": [],
   "source": [
    "def delnan(df):\n",
    "    df = df.dropna(how=\"all\", axis=1)  # 删除全是空值的列\n",
    "    df = df.fillna(-99)\n",
    "    return df\n"
   ]
  },
  {
   "cell_type": "code",
   "execution_count": 44,
   "metadata": {},
   "outputs": [],
   "source": [
    "df_train = delnan(train_data)\n",
    "df_test = delnan(test_data)"
   ]
  },
  {
   "cell_type": "code",
   "execution_count": 45,
   "metadata": {},
   "outputs": [],
   "source": [
    "#df_train.to_csv('data.csv')"
   ]
  },
  {
   "cell_type": "markdown",
   "metadata": {},
   "source": [
    "## 处理-99"
   ]
  },
  {
   "cell_type": "code",
   "execution_count": 46,
   "metadata": {},
   "outputs": [],
   "source": [
    "df_train.replace(-99,-1,inplace=True)\n",
    "df_test.replace(-99,-1,inplace=True)"
   ]
  },
  {
   "cell_type": "markdown",
   "metadata": {},
   "source": [
    "## 主成分分析"
   ]
  },
  {
   "cell_type": "code",
   "execution_count": 47,
   "metadata": {},
   "outputs": [],
   "source": [
    "from sklearn.decomposition import PCA\n",
    "\n",
    "full_col_name = list(df_train.columns)\n",
    "pca_col=[i for i in full_col_name if \"loan\" in i]\n",
    "\n",
    "modelPCA=PCA(n_components=0.9)\n",
    "temp=modelPCA.fit_transform(df_train[pca_col])\n",
    "temp1=modelPCA.transform(df_test[pca_col])\n",
    "for i in range(temp.shape[1]):\n",
    "    df_train['loan_pca'+str(i)]=temp[:,i]\n",
    "    df_test['loan_pca'+str(i)]=temp1[:,i]"
   ]
  },
  {
   "cell_type": "markdown",
   "metadata": {},
   "source": [
    "## 处理分类变量"
   ]
  },
  {
   "cell_type": "code",
   "execution_count": 48,
   "metadata": {},
   "outputs": [],
   "source": [
    "type_col = [\"basic_1\",\n",
    "            \"basic_10\",\n",
    "            \"basic_12\",\n",
    "            \"basic_14\",\n",
    "            \"loan1_16\",\n",
    "            \"loan1_20\",\n",
    "            \"loan1_23\",\n",
    "            \"loan1_25\",]"
   ]
  },
  {
   "cell_type": "markdown",
   "metadata": {},
   "source": [
    "## 转化为one-hot编码（不宜采用）"
   ]
  },
  {
   "cell_type": "code",
   "execution_count": 49,
   "metadata": {},
   "outputs": [
    {
     "data": {
      "text/plain": [
       "' df_train = to_one_hot(df_train, type_col)\\ndf_test = to_one_hot(df_test, type_col)\\nfor i in df_train.columns:\\n    if i not in df_test.columns:\\n        df_test[i] = 0\\n '"
      ]
     },
     "execution_count": 49,
     "metadata": {},
     "output_type": "execute_result"
    }
   ],
   "source": [
    "\n",
    "def to_one_hot(df, colnames):\n",
    "    df = pd.get_dummies(df, columns=colnames)\n",
    "    return df\n",
    "\n",
    "\n",
    "\"\"\" df_train = to_one_hot(df_train, type_col)\n",
    "df_test = to_one_hot(df_test, type_col)\n",
    "for i in df_train.columns:\n",
    "    if i not in df_test.columns:\n",
    "        df_test[i] = 0\n",
    " \"\"\""
   ]
  },
  {
   "cell_type": "markdown",
   "metadata": {},
   "source": [
    "## 证据权重"
   ]
  },
  {
   "cell_type": "code",
   "execution_count": 50,
   "metadata": {},
   "outputs": [],
   "source": [
    "import pandas as pd\n",
    "import numpy as np\n",
    "\n",
    "def cal_woe(df,df_no_label,x_cols,y_col):\n",
    "    for i in x_cols:\n",
    "        x_set=pd.unique(df[i])\n",
    "        for j in x_set:\n",
    "            woe=np.mean(df[df[i]==j][y_col])\n",
    "            df[i].replace(j,woe,inplace=True)\n",
    "            df_no_label[i].replace(j,woe,inplace=True)\n",
    "    return df,df_no_label"
   ]
  },
  {
   "cell_type": "code",
   "execution_count": 51,
   "metadata": {},
   "outputs": [],
   "source": [
    "#df_train,df_test=cal_woe(df_train,df_test,type_col,\"label\")"
   ]
  },
  {
   "cell_type": "code",
   "execution_count": 52,
   "metadata": {},
   "outputs": [
    {
     "data": {
      "text/plain": [
       "' for i in judicial_col:\\n    df_train[i].astype(\"float\")\\n    df_test[i].astype(\"float\") '"
      ]
     },
     "execution_count": 52,
     "metadata": {},
     "output_type": "execute_result"
    }
   ],
   "source": [
    "full_col_name = list(df_train.columns)\n",
    "basic_col = [i for i in full_col_name if \"basic\" in i]\n",
    "loan_col = [i for i in full_col_name if \"loan\" in i]\n",
    "overdue_col = [i for i in full_col_name if \"overdue\" in i]\n",
    "query_col = [i for i in full_col_name if \"query\" in i]\n",
    "judicial_col=[i for i in full_col_name if \"judicial\" in i]\n",
    "loan_pca_col=[i for i in full_col_name if \"loan_pca\" in i]\n",
    "\n",
    "\"\"\" for i in judicial_col:\n",
    "    df_train[i].astype(\"float\")\n",
    "    df_test[i].astype(\"float\") \"\"\""
   ]
  },
  {
   "cell_type": "markdown",
   "metadata": {},
   "source": [
    "## 设置哪些x作为模型自变量输入"
   ]
  },
  {
   "cell_type": "code",
   "execution_count": 53,
   "metadata": {},
   "outputs": [
    {
     "data": {
      "text/plain": [
       "\" x_col=['loan2_3_y',\\n 'loan1_6',\\n 'loan1_32',\\n 'loan1_31',\\n 'basic_7',\\n 'loan2_4_y',\\n 'loan2_3',\\n 'loan1_15',\\n 'loan2_5_y',\\n 'loan1_30',\\n 'loan1_7',\\n 'loan1_3',\\n 'query_1',\\n 'query_7',\\n 'loan1_17',\\n 'query_4',\\n 'loan1_14',\\n 'basic_1_y',\\n 'loan1_21',\\n 'query_1_y'] \""
      ]
     },
     "execution_count": 53,
     "metadata": {},
     "output_type": "execute_result"
    }
   ],
   "source": [
    "x_col = basic_col+['is_judicial']+loan_pca_col+query_col+overdue_col\n",
    "# x_col为模型读入的自变量列名称\n",
    "\n",
    "\n",
    "\"\"\" x_col=['loan2_3_y',\n",
    " 'loan1_6',\n",
    " 'loan1_32',\n",
    " 'loan1_31',\n",
    " 'basic_7',\n",
    " 'loan2_4_y',\n",
    " 'loan2_3',\n",
    " 'loan1_15',\n",
    " 'loan2_5_y',\n",
    " 'loan1_30',\n",
    " 'loan1_7',\n",
    " 'loan1_3',\n",
    " 'query_1',\n",
    " 'query_7',\n",
    " 'loan1_17',\n",
    " 'query_4',\n",
    " 'loan1_14',\n",
    " 'basic_1_y',\n",
    " 'loan1_21',\n",
    " 'query_1_y'] \"\"\""
   ]
  },
  {
   "cell_type": "code",
   "execution_count": 54,
   "metadata": {},
   "outputs": [],
   "source": [
    "# df_train.drop(columns=drop_col)"
   ]
  },
  {
   "cell_type": "markdown",
   "metadata": {},
   "source": [
    "# 训练模型"
   ]
  },
  {
   "cell_type": "markdown",
   "metadata": {},
   "source": [
    "## 划分测试集训练集"
   ]
  },
  {
   "cell_type": "code",
   "execution_count": 55,
   "metadata": {},
   "outputs": [
    {
     "data": {
      "text/plain": [
       "' from sklearn import model_selection\\n\\n\\nX = df_train[x_col]\\nY = df_train[\"label\"]\\nseed = 666\\ntest_size = 0.1\\nX_train, X_test, y_train, y_test = model_selection.train_test_split(\\n    X, Y, test_size=test_size, random_state=seed) '"
      ]
     },
     "execution_count": 55,
     "metadata": {},
     "output_type": "execute_result"
    }
   ],
   "source": [
    "\"\"\" from sklearn import model_selection\n",
    "\n",
    "\n",
    "X = df_train[x_col]\n",
    "Y = df_train[\"label\"]\n",
    "seed = 666\n",
    "test_size = 0.1\n",
    "X_train, X_test, y_train, y_test = model_selection.train_test_split(\n",
    "    X, Y, test_size=test_size, random_state=seed) \"\"\"\n"
   ]
  },
  {
   "cell_type": "markdown",
   "metadata": {},
   "source": [
    "## 训练模型"
   ]
  },
  {
   "cell_type": "markdown",
   "metadata": {},
   "source": [
    "## 超参数"
   ]
  },
  {
   "cell_type": "code",
   "execution_count": 56,
   "metadata": {},
   "outputs": [],
   "source": [
    "N = 100\n",
    "num_round = 100\n",
    "local_test_size=3000\n",
    "\n",
    "max_depth = [3, 4, 5,6,7,8]\n",
    "eta = [0.1,0.06]\n",
    "colsample_bytree = [0.8,0.7, 0.6,0.5]\n",
    "scale_pos_weight = [1, 3, 6, 10,20, 30]\n",
    "test_size=[0.3,0.5,0.7]\n",
    "subsample=[0.7,0.6,0.5,0.4]\n",
    "par_lambda=[1,1.5,2,3]\n",
    "alpha=[0,0.2,0.4,0.6,0.8]\n",
    "min_child_weight=[1,2,3,4,5,6,10]\n"
   ]
  },
  {
   "cell_type": "markdown",
   "metadata": {},
   "source": [
    "### train划分为\n",
    "* 本地测试集（固定）d_localtest\n",
    "* 训练集（固定）\n",
    "  * 评估集（每次的模型不同）dtest\n",
    "  * 真正的训练集（每次的模型不同）dtrain"
   ]
  },
  {
   "cell_type": "code",
   "execution_count": 57,
   "metadata": {},
   "outputs": [
    {
     "name": "stdout",
     "output_type": "stream",
     "text": [
      "1:0.6271441501277331\n",
      "2:0.6591587192566172\n",
      "3:0.6249028661882394\n",
      "4:0.6041022324015209\n",
      "5:0.6409997913243441\n",
      "6:0.6553719462157523\n",
      "7:0.6009290762656148\n",
      "8:0.5677321326628323\n",
      "9:0.6558558224136011\n",
      "10:0.6557060048981055\n",
      "11:0.6188291376430153\n",
      "12:0.6169255510301209\n",
      "13:0.6606152518599435\n",
      "14:0.6146566129739207\n",
      "15:0.6167667583219337\n",
      "16:0.5\n",
      "17:0.5833626031940486\n",
      "18:0.618834019008362\n",
      "19:0.6300093840357069\n",
      "20:0.6574232023574296\n",
      "21:0.6165165285529625\n",
      "22:0.615935260115607\n",
      "23:0.6210331449836897\n",
      "24:0.6366599283397085\n",
      "25:0.672509849205271\n",
      "26:0.6226181463150623\n",
      "27:0.5993250636868921\n",
      "28:0.6015869021205456\n",
      "29:0.6144713462332213\n",
      "30:0.5\n",
      "31:0.625800231225842\n",
      "32:0.643140008765489\n",
      "33:0.627061559997053\n",
      "34:0.49891502650395153\n",
      "35:0.603418417813384\n",
      "36:0.5100512664301003\n",
      "37:0.6451840440100108\n",
      "38:0.6251336435672896\n",
      "39:0.6054090230074965\n",
      "40:0.6087057373339383\n",
      "41:0.6296555880191097\n",
      "42:0.60790601243953\n",
      "43:0.6378485023041475\n",
      "44:0.6233422625688735\n",
      "45:0.5917291976475436\n",
      "46:0.6047158066717377\n",
      "47:0.6473698470038249\n",
      "48:0.6114678620689655\n",
      "49:0.6235076820584544\n",
      "50:0.6294622907595286\n",
      "51:0.6417953510543548\n",
      "52:0.5836790759610931\n",
      "53:0.6191308844051796\n",
      "54:0.6210519141248088\n",
      "55:0.6403863067081118\n",
      "56:0.6084427038321164\n",
      "57:0.638293150434862\n",
      "58:0.648689117444193\n",
      "59:0.6093083244701029\n",
      "60:0.6514170367138614\n",
      "61:0.6603363491437279\n",
      "62:0.621751144521343\n",
      "63:0.6375553119798644\n",
      "64:0.6053699857532742\n",
      "65:0.5\n",
      "66:0.6069780188246098\n",
      "67:0.49649970420035494\n",
      "68:0.6285988835588073\n",
      "69:0.5925278641062279\n",
      "70:0.6406578563644457\n",
      "71:0.6237469649872541\n",
      "72:0.6325364516815666\n",
      "73:0.6643007509210844\n",
      "74:0.6049961036931423\n",
      "75:0.6199277868353013\n",
      "76:0.6587465222575517\n",
      "77:0.620033643324256\n",
      "78:0.6233497965955133\n",
      "79:0.6199787863748608\n",
      "80:0.6389813995965017\n",
      "81:0.6477867050708709\n",
      "82:0.611852422439439\n",
      "83:0.6415123825776577\n",
      "84:0.6243147958367026\n",
      "85:0.631942536842496\n",
      "86:0.6363196409062383\n",
      "87:0.5\n",
      "88:0.6280358562779395\n",
      "89:0.5967931914500503\n",
      "90:0.6253617067115728\n",
      "91:0.6536035926983973\n",
      "92:0.6317061936785627\n",
      "93:0.6116287076822691\n",
      "94:0.5\n",
      "95:0.6272513395798471\n",
      "96:0.6348632567545777\n",
      "97:0.6006084155898346\n",
      "98:0.6536541616109676\n",
      "99:0.6298455509737679\n",
      "100:0.6456450019621375\n",
      "最大AUC:0.7045345100222337\n"
     ]
    }
   ],
   "source": [
    "import copy\n",
    "import xgboost as xgb\n",
    "import random\n",
    "from sklearn import model_selection\n",
    "from sklearn.metrics import roc_auc_score\n",
    "\n",
    "\n",
    "pred_labels = []\n",
    "local_test_labels = []\n",
    "loss_seq = []\n",
    "max_auc_loss = 0\n",
    "flag=0\n",
    "important_x_seq=[]\n",
    "\n",
    "num_seq=list(range(len(df_train)))\n",
    "np.random.shuffle(num_seq)\n",
    "\n",
    "X_local_test=df_train[x_col].iloc[num_seq[0:local_test_size]]\n",
    "Y_local_test=df_train[\"label\"].iloc[num_seq[0:local_test_size]]\n",
    "\n",
    "d_localtest=xgb.DMatrix(X_local_test,label=Y_local_test)\n",
    "\n",
    "X = df_train[x_col].iloc[num_seq[local_test_size:len(df_train)]]\n",
    "Y = df_train['label'].iloc[num_seq[local_test_size:len(df_train)]]\n",
    "x_perd = xgb.DMatrix(df_test[x_col])\n",
    "\n",
    "for i in range(N):\n",
    "\n",
    "    #seed = 666\n",
    "    test_size_this_round=random.choice(test_size)\n",
    "    X_train, X_test, y_train, y_test = model_selection.train_test_split(\n",
    "        X, Y, test_size=test_size_this_round)\n",
    "    # seed+=1\n",
    "\n",
    "    \n",
    "    dtrain = xgb.DMatrix(X_train, label=y_train)\n",
    "    dtest = xgb.DMatrix(X_test, label=y_test)\n",
    "    evallist = [(dtest, 'eval')]\n",
    "\n",
    "    param = {\n",
    "        'max_depth': random.choice(max_depth),\n",
    "        'eta': random.choice(eta),\n",
    "        'colsample_bytree': random.choice(colsample_bytree),\n",
    "        'objective': 'binary:logistic',\n",
    "        #'verbosity':0,\n",
    "        'scale_pos_weight': random.choice(scale_pos_weight),\n",
    "        'eval_metric': 'auc',\n",
    "        'subsample':random.choice(subsample),\n",
    "        'alpha':random.choice(alpha),\n",
    "        'lambda':random.choice(par_lambda),\n",
    "        'min_child_weight':random.choice(min_child_weight),\n",
    "        #'seed': 666,\n",
    "        'tree_method': 'gpu_hist',\n",
    "        'gpu_id': 0,\n",
    "        #\"enable_enable_categorical\":True,\n",
    "    }\n",
    "    \n",
    "    bst = xgb.train(param, dtrain, num_round, evals=evallist,\n",
    "                    early_stopping_rounds=5, verbose_eval=False)\n",
    "    \n",
    "    loss = float(bst.eval(dtest).split(\":\")[1])\n",
    "    train_loss = float(bst.eval(dtrain).split(\":\")[1])\n",
    "    local_test_loss = float(bst.eval(d_localtest).split(\":\")[1])\n",
    "\n",
    "    pred_label = list(bst.predict(x_perd))\n",
    "    test_label = list(bst.predict(xgb.DMatrix(X_local_test)))\n",
    "    # temp=roc_auc_score(y_test,test_label)\n",
    "    # print(test_label[0:10])\n",
    "\n",
    "\n",
    "    temp_dict={\"test_auc\":loss,\"train_auc\":train_loss,'local_test_auc':local_test_loss,'test_size':test_size_this_round}\n",
    "    temp_dict.update(param)\n",
    "\n",
    "    #info_df=info_df.append(pd.DataFrame(temp_dict))\n",
    "    if flag==0:\n",
    "        info_df=pd.DataFrame(temp_dict,index=[i])\n",
    "        flag=1\n",
    "    else:\n",
    "        info_df=pd.concat([info_df,pd.DataFrame(temp_dict,index=[i])])\n",
    "\n",
    "    if loss > max_auc_loss:\n",
    "        best_bst = copy.deepcopy(bst)\n",
    "        max_auc_loss = loss\n",
    "    \n",
    "    if False:\n",
    "        pic=xgb.plot_importance(bst,max_num_features=50)\n",
    "        temp=pic.get_ymajorticklabels()\n",
    "        important_x=[str(i).split(\"\\'\")[1] for i in temp]\n",
    "        important_x.reverse()\n",
    "        important_x_seq+=important_x\n",
    "\n",
    "    print(i+1, \":\", loss, sep=\"\")\n",
    "    #print(param)\n",
    "    #print(\"-------------------------\")\n",
    "    pred_labels.append([j for j in pred_label])\n",
    "    local_test_labels.append(copy.deepcopy(test_label))\n",
    "\n",
    "\n",
    "print('最大AUC:', max(info_df['local_test_auc']), sep=\"\")"
   ]
  },
  {
   "cell_type": "code",
   "execution_count": 58,
   "metadata": {},
   "outputs": [
    {
     "data": {
      "text/html": [
       "<div>\n",
       "<style scoped>\n",
       "    .dataframe tbody tr th:only-of-type {\n",
       "        vertical-align: middle;\n",
       "    }\n",
       "\n",
       "    .dataframe tbody tr th {\n",
       "        vertical-align: top;\n",
       "    }\n",
       "\n",
       "    .dataframe thead th {\n",
       "        text-align: right;\n",
       "    }\n",
       "</style>\n",
       "<table border=\"1\" class=\"dataframe\">\n",
       "  <thead>\n",
       "    <tr style=\"text-align: right;\">\n",
       "      <th></th>\n",
       "      <th>test_auc</th>\n",
       "      <th>train_auc</th>\n",
       "      <th>local_test_auc</th>\n",
       "      <th>test_size</th>\n",
       "      <th>max_depth</th>\n",
       "      <th>eta</th>\n",
       "      <th>colsample_bytree</th>\n",
       "      <th>objective</th>\n",
       "      <th>scale_pos_weight</th>\n",
       "      <th>eval_metric</th>\n",
       "      <th>subsample</th>\n",
       "      <th>alpha</th>\n",
       "      <th>lambda</th>\n",
       "      <th>min_child_weight</th>\n",
       "      <th>tree_method</th>\n",
       "      <th>gpu_id</th>\n",
       "    </tr>\n",
       "  </thead>\n",
       "  <tbody>\n",
       "    <tr>\n",
       "      <th>0</th>\n",
       "      <td>0.627144</td>\n",
       "      <td>0.712608</td>\n",
       "      <td>0.606199</td>\n",
       "      <td>0.3</td>\n",
       "      <td>4</td>\n",
       "      <td>0.10</td>\n",
       "      <td>0.6</td>\n",
       "      <td>binary:logistic</td>\n",
       "      <td>1</td>\n",
       "      <td>auc</td>\n",
       "      <td>0.7</td>\n",
       "      <td>0.8</td>\n",
       "      <td>1.0</td>\n",
       "      <td>5</td>\n",
       "      <td>gpu_hist</td>\n",
       "      <td>0</td>\n",
       "    </tr>\n",
       "    <tr>\n",
       "      <th>1</th>\n",
       "      <td>0.659159</td>\n",
       "      <td>0.817441</td>\n",
       "      <td>0.678771</td>\n",
       "      <td>0.3</td>\n",
       "      <td>4</td>\n",
       "      <td>0.10</td>\n",
       "      <td>0.7</td>\n",
       "      <td>binary:logistic</td>\n",
       "      <td>6</td>\n",
       "      <td>auc</td>\n",
       "      <td>0.6</td>\n",
       "      <td>0.4</td>\n",
       "      <td>1.5</td>\n",
       "      <td>4</td>\n",
       "      <td>gpu_hist</td>\n",
       "      <td>0</td>\n",
       "    </tr>\n",
       "    <tr>\n",
       "      <th>2</th>\n",
       "      <td>0.624903</td>\n",
       "      <td>0.956956</td>\n",
       "      <td>0.593687</td>\n",
       "      <td>0.5</td>\n",
       "      <td>8</td>\n",
       "      <td>0.10</td>\n",
       "      <td>0.7</td>\n",
       "      <td>binary:logistic</td>\n",
       "      <td>10</td>\n",
       "      <td>auc</td>\n",
       "      <td>0.5</td>\n",
       "      <td>0.8</td>\n",
       "      <td>1.5</td>\n",
       "      <td>2</td>\n",
       "      <td>gpu_hist</td>\n",
       "      <td>0</td>\n",
       "    </tr>\n",
       "    <tr>\n",
       "      <th>3</th>\n",
       "      <td>0.604102</td>\n",
       "      <td>0.949687</td>\n",
       "      <td>0.677495</td>\n",
       "      <td>0.3</td>\n",
       "      <td>8</td>\n",
       "      <td>0.10</td>\n",
       "      <td>0.7</td>\n",
       "      <td>binary:logistic</td>\n",
       "      <td>30</td>\n",
       "      <td>auc</td>\n",
       "      <td>0.7</td>\n",
       "      <td>0.4</td>\n",
       "      <td>2.0</td>\n",
       "      <td>5</td>\n",
       "      <td>gpu_hist</td>\n",
       "      <td>0</td>\n",
       "    </tr>\n",
       "    <tr>\n",
       "      <th>4</th>\n",
       "      <td>0.641000</td>\n",
       "      <td>0.939652</td>\n",
       "      <td>0.620762</td>\n",
       "      <td>0.3</td>\n",
       "      <td>8</td>\n",
       "      <td>0.06</td>\n",
       "      <td>0.5</td>\n",
       "      <td>binary:logistic</td>\n",
       "      <td>6</td>\n",
       "      <td>auc</td>\n",
       "      <td>0.5</td>\n",
       "      <td>0.4</td>\n",
       "      <td>1.5</td>\n",
       "      <td>1</td>\n",
       "      <td>gpu_hist</td>\n",
       "      <td>0</td>\n",
       "    </tr>\n",
       "    <tr>\n",
       "      <th>...</th>\n",
       "      <td>...</td>\n",
       "      <td>...</td>\n",
       "      <td>...</td>\n",
       "      <td>...</td>\n",
       "      <td>...</td>\n",
       "      <td>...</td>\n",
       "      <td>...</td>\n",
       "      <td>...</td>\n",
       "      <td>...</td>\n",
       "      <td>...</td>\n",
       "      <td>...</td>\n",
       "      <td>...</td>\n",
       "      <td>...</td>\n",
       "      <td>...</td>\n",
       "      <td>...</td>\n",
       "      <td>...</td>\n",
       "    </tr>\n",
       "    <tr>\n",
       "      <th>95</th>\n",
       "      <td>0.634863</td>\n",
       "      <td>0.836521</td>\n",
       "      <td>0.636423</td>\n",
       "      <td>0.7</td>\n",
       "      <td>4</td>\n",
       "      <td>0.10</td>\n",
       "      <td>0.6</td>\n",
       "      <td>binary:logistic</td>\n",
       "      <td>10</td>\n",
       "      <td>auc</td>\n",
       "      <td>0.4</td>\n",
       "      <td>0.2</td>\n",
       "      <td>3.0</td>\n",
       "      <td>10</td>\n",
       "      <td>gpu_hist</td>\n",
       "      <td>0</td>\n",
       "    </tr>\n",
       "    <tr>\n",
       "      <th>96</th>\n",
       "      <td>0.600608</td>\n",
       "      <td>0.876654</td>\n",
       "      <td>0.680878</td>\n",
       "      <td>0.5</td>\n",
       "      <td>7</td>\n",
       "      <td>0.10</td>\n",
       "      <td>0.8</td>\n",
       "      <td>binary:logistic</td>\n",
       "      <td>20</td>\n",
       "      <td>auc</td>\n",
       "      <td>0.5</td>\n",
       "      <td>0.6</td>\n",
       "      <td>2.0</td>\n",
       "      <td>4</td>\n",
       "      <td>gpu_hist</td>\n",
       "      <td>0</td>\n",
       "    </tr>\n",
       "    <tr>\n",
       "      <th>97</th>\n",
       "      <td>0.653654</td>\n",
       "      <td>0.791732</td>\n",
       "      <td>0.704535</td>\n",
       "      <td>0.3</td>\n",
       "      <td>3</td>\n",
       "      <td>0.10</td>\n",
       "      <td>0.7</td>\n",
       "      <td>binary:logistic</td>\n",
       "      <td>30</td>\n",
       "      <td>auc</td>\n",
       "      <td>0.7</td>\n",
       "      <td>0.8</td>\n",
       "      <td>2.0</td>\n",
       "      <td>4</td>\n",
       "      <td>gpu_hist</td>\n",
       "      <td>0</td>\n",
       "    </tr>\n",
       "    <tr>\n",
       "      <th>98</th>\n",
       "      <td>0.629846</td>\n",
       "      <td>0.951445</td>\n",
       "      <td>0.662461</td>\n",
       "      <td>0.3</td>\n",
       "      <td>8</td>\n",
       "      <td>0.06</td>\n",
       "      <td>0.7</td>\n",
       "      <td>binary:logistic</td>\n",
       "      <td>20</td>\n",
       "      <td>auc</td>\n",
       "      <td>0.6</td>\n",
       "      <td>0.0</td>\n",
       "      <td>2.0</td>\n",
       "      <td>4</td>\n",
       "      <td>gpu_hist</td>\n",
       "      <td>0</td>\n",
       "    </tr>\n",
       "    <tr>\n",
       "      <th>99</th>\n",
       "      <td>0.645645</td>\n",
       "      <td>0.981702</td>\n",
       "      <td>0.638639</td>\n",
       "      <td>0.5</td>\n",
       "      <td>8</td>\n",
       "      <td>0.06</td>\n",
       "      <td>0.6</td>\n",
       "      <td>binary:logistic</td>\n",
       "      <td>10</td>\n",
       "      <td>auc</td>\n",
       "      <td>0.4</td>\n",
       "      <td>0.4</td>\n",
       "      <td>1.0</td>\n",
       "      <td>1</td>\n",
       "      <td>gpu_hist</td>\n",
       "      <td>0</td>\n",
       "    </tr>\n",
       "  </tbody>\n",
       "</table>\n",
       "<p>100 rows × 16 columns</p>\n",
       "</div>"
      ],
      "text/plain": [
       "    test_auc  train_auc  local_test_auc  test_size  max_depth   eta  \\\n",
       "0   0.627144   0.712608        0.606199        0.3          4  0.10   \n",
       "1   0.659159   0.817441        0.678771        0.3          4  0.10   \n",
       "2   0.624903   0.956956        0.593687        0.5          8  0.10   \n",
       "3   0.604102   0.949687        0.677495        0.3          8  0.10   \n",
       "4   0.641000   0.939652        0.620762        0.3          8  0.06   \n",
       "..       ...        ...             ...        ...        ...   ...   \n",
       "95  0.634863   0.836521        0.636423        0.7          4  0.10   \n",
       "96  0.600608   0.876654        0.680878        0.5          7  0.10   \n",
       "97  0.653654   0.791732        0.704535        0.3          3  0.10   \n",
       "98  0.629846   0.951445        0.662461        0.3          8  0.06   \n",
       "99  0.645645   0.981702        0.638639        0.5          8  0.06   \n",
       "\n",
       "    colsample_bytree        objective  scale_pos_weight eval_metric  \\\n",
       "0                0.6  binary:logistic                 1         auc   \n",
       "1                0.7  binary:logistic                 6         auc   \n",
       "2                0.7  binary:logistic                10         auc   \n",
       "3                0.7  binary:logistic                30         auc   \n",
       "4                0.5  binary:logistic                 6         auc   \n",
       "..               ...              ...               ...         ...   \n",
       "95               0.6  binary:logistic                10         auc   \n",
       "96               0.8  binary:logistic                20         auc   \n",
       "97               0.7  binary:logistic                30         auc   \n",
       "98               0.7  binary:logistic                20         auc   \n",
       "99               0.6  binary:logistic                10         auc   \n",
       "\n",
       "    subsample  alpha  lambda  min_child_weight tree_method  gpu_id  \n",
       "0         0.7    0.8     1.0                 5    gpu_hist       0  \n",
       "1         0.6    0.4     1.5                 4    gpu_hist       0  \n",
       "2         0.5    0.8     1.5                 2    gpu_hist       0  \n",
       "3         0.7    0.4     2.0                 5    gpu_hist       0  \n",
       "4         0.5    0.4     1.5                 1    gpu_hist       0  \n",
       "..        ...    ...     ...               ...         ...     ...  \n",
       "95        0.4    0.2     3.0                10    gpu_hist       0  \n",
       "96        0.5    0.6     2.0                 4    gpu_hist       0  \n",
       "97        0.7    0.8     2.0                 4    gpu_hist       0  \n",
       "98        0.6    0.0     2.0                 4    gpu_hist       0  \n",
       "99        0.4    0.4     1.0                 1    gpu_hist       0  \n",
       "\n",
       "[100 rows x 16 columns]"
      ]
     },
     "execution_count": 58,
     "metadata": {},
     "output_type": "execute_result"
    }
   ],
   "source": [
    "info_df"
   ]
  },
  {
   "cell_type": "code",
   "execution_count": 59,
   "metadata": {},
   "outputs": [],
   "source": [
    "info_df.to_csv(\"info.csv\",encoding=\"utf-8\",index=False)"
   ]
  },
  {
   "cell_type": "code",
   "execution_count": 60,
   "metadata": {},
   "outputs": [
    {
     "data": {
      "image/png": "[encoded data removed]",
      "text/plain": [
       "<Figure size 432x288 with 1 Axes>"
      ]
     },
     "metadata": {
      "needs_background": "light"
     },
     "output_type": "display_data"
    }
   ],
   "source": [
    "pic=xgb.plot_importance(best_bst,max_num_features=50)\n",
    "temp=pic.get_ymajorticklabels()\n",
    "important_x=[str(i).split(\"\\'\")[1] for i in temp]\n",
    "important_x.reverse()"
   ]
  },
  {
   "cell_type": "code",
   "execution_count": 61,
   "metadata": {},
   "outputs": [
    {
     "data": {
      "text/plain": [
       "['basic_1_y',\n",
       " 'loan_pca1',\n",
       " 'query_7',\n",
       " 'loan_pca0',\n",
       " 'basic_7',\n",
       " 'overdue_19',\n",
       " 'query_4',\n",
       " 'query_1',\n",
       " 'query_1_y',\n",
       " 'query_6',\n",
       " 'query_2',\n",
       " 'overdue_21',\n",
       " 'basic_10',\n",
       " 'overdue_28',\n",
       " 'query_2_y',\n",
       " 'overdue_26',\n",
       " 'query_10',\n",
       " 'basic_3_y',\n",
       " 'overdue_22',\n",
       " 'query_3',\n",
       " 'overdue_2',\n",
       " 'query_5_y',\n",
       " 'query_4_y',\n",
       " 'basic_6',\n",
       " 'overdue_27',\n",
       " 'query_11',\n",
       " 'basic_14',\n",
       " 'basic_5',\n",
       " 'overdue_29',\n",
       " 'overdue_23',\n",
       " 'overdue_20',\n",
       " 'overdue_3',\n",
       " 'query_6_y',\n",
       " 'query_3_y',\n",
       " 'query_8',\n",
       " 'basic_2_y',\n",
       " 'basic_2',\n",
       " 'overdue_11',\n",
       " 'overdue_9',\n",
       " 'overdue_7',\n",
       " 'basic_4',\n",
       " 'basic_3']"
      ]
     },
     "execution_count": 61,
     "metadata": {},
     "output_type": "execute_result"
    }
   ],
   "source": [
    "important_x"
   ]
  },
  {
   "cell_type": "code",
   "execution_count": 62,
   "metadata": {},
   "outputs": [],
   "source": [
    "#pd.value_counts(important_x_seq)"
   ]
  },
  {
   "cell_type": "markdown",
   "metadata": {},
   "source": [
    "* basic_7:年龄\n",
    "* "
   ]
  },
  {
   "cell_type": "code",
   "execution_count": 63,
   "metadata": {},
   "outputs": [
    {
     "data": {
      "text/plain": [
       "<matplotlib.collections.PathCollection at 0x26ea8606d00>"
      ]
     },
     "execution_count": 63,
     "metadata": {},
     "output_type": "execute_result"
    },
    {
     "data": {
      "image/png": "[encoded data removed]",
      "text/plain": [
       "<Figure size 432x288 with 1 Axes>"
      ]
     },
     "metadata": {
      "needs_background": "light"
     },
     "output_type": "display_data"
    }
   ],
   "source": [
    "import matplotlib.pyplot as plt\n",
    "plt.scatter(info_df['local_test_auc'],info_df['test_auc'])"
   ]
  },
  {
   "cell_type": "markdown",
   "metadata": {},
   "source": [
    "# 输出模块"
   ]
  },
  {
   "cell_type": "code",
   "execution_count": 64,
   "metadata": {},
   "outputs": [
    {
     "name": "stdout",
     "output_type": "stream",
     "text": [
      "本地测试集前100个auc为[0.7045345100222337, 0.691044026789709, 0.6882127329669842, 0.6873384130410282, 0.6863974945269622, 0.6817031478932647, 0.6815904425903094, 0.6808783499943647, 0.6804770508095997, 0.6790614038982373, 0.6787711023603222, 0.6774954832496013, 0.6769080495493496, 0.6743465653912752, 0.6734995679630054, 0.6734585842164762, 0.6684927202620228, 0.6684568594838097, 0.6672939456760439, 0.6665442846457809, 0.665340387091486, 0.6624612788978105, 0.6621368242377877, 0.6613769172708923, 0.660688731860423, 0.6597221985047763, 0.6594865419622334, 0.6585387928237459, 0.656826013750047, 0.6562078422398984, 0.6555162415172183, 0.6549680839073904, 0.6543396664606095, 0.6539212907147907, 0.6519130871348604, 0.6518772263566474, 0.6516996301216875, 0.6490373942533957, 0.649011779411815, 0.6479871857485852, 0.6473792601750689, 0.6437590292316572, 0.643432866915529, 0.6433696836396299, 0.642982045703708, 0.6424185191889317, 0.6421914009269157, 0.6418430390814176, 0.6415424916068703, 0.6404905754459544, 0.6403983620162638, 0.6403898237357368, 0.6390424830685897, 0.6386394762277193, 0.6364229386029324, 0.635444451654548, 0.6335165079115708, 0.6306305690934737, 0.6290168340738869, 0.6287845928435548, 0.6287623933141848, 0.6274235909275646, 0.6274201756153539, 0.6256151831119642, 0.6240202323095366, 0.620762024460466, 0.6197818298559763, 0.6191038903821393, 0.6184771805914637, 0.6155451350585214, 0.6151831119641802, 0.6147869357477314, 0.6146042165444554, 0.614508587802554, 0.6137042817769186, 0.6128589920047541, 0.6102411551952022, 0.6077360236886055, 0.6068617037626495, 0.606199133193761, 0.6050191428249413, 0.6041157927451938, 0.6030246004938541, 0.6009993203528701, 0.5997595620203621, 0.5964381708953924, 0.5936871369096206, 0.5920853554827714, 0.565229047913415, 0.5644742639148358, 0.5519417757574309, 0.5422969340742284, 0.5151981393379076, 0.5137261397750675, 0.5021909227832062, 0.5, 0.5, 0.5, 0.5, 0.5]\n"
     ]
    }
   ],
   "source": [
    "import time\n",
    "import numpy as np\n",
    "from sklearn.metrics import roc_auc_score\n",
    "\n",
    "date = time.strftime(\"%Y%m%d-%H%M%S\", time.localtime())\n",
    "res_num = np.argsort([-i for i in info_df['local_test_auc']])\n",
    "\n",
    "# 选择前n个结果进行平均（手动指定or在本地测试集排序选出）\n",
    "if False:\n",
    "    max_auc = -1\n",
    "    list_temp = []\n",
    "    for i in range(N):\n",
    "        list_temp.append(local_test_labels[res_num[i]])\n",
    "        temp = np.mean(list_temp, axis=0)\n",
    "        temp_auc = roc_auc_score(Y_local_test, temp)\n",
    "        print(i, temp_auc)\n",
    "        if temp_auc > max_auc:\n",
    "            max_auc = temp_auc\n",
    "            n = i\n",
    "else:\n",
    "    n = 200\n",
    "    n=min(N,n)\n",
    "\n",
    "res_num = res_num[0:n]\n",
    "\n",
    "final_pred_label = np.mean([pred_labels[i] for i in res_num], axis=0)\n",
    "#local_auc = roc_auc_score(y_test, final_pred_label)\n",
    "print(\"本地测试集前\", n, \"个auc为\", [list(info_df['local_test_auc'])[i] for i in res_num], sep=\"\")\n",
    "#print(\"平均之后AUC为\",local_auc,sep=\"\")\n",
    "\n",
    "res = pd.DataFrame({\n",
    "    'cust_id': list(df_test[\"cust_id\"]),\n",
    "    'label': final_pred_label,\n",
    "})\n",
    "res.to_csv(\"./output/result\"+date+\".csv\", encoding=\"utf-8\", index=False)\n"
   ]
  },
  {
   "cell_type": "markdown",
   "metadata": {},
   "source": [
    "# 一些tips\n",
    "\n",
    "* 提升n有一定提升(如何确定n？)\n",
    "  * n=40 0.6763\n",
    "  * n=10 0.6728\n",
    "  * n=100 0.6774\n",
    "  * 太大也不好\n",
    "\n",
    "# 一些进展\n",
    "\n",
    "* 随机参数\n",
    "* XGB模型\n",
    "* 本地测试集auc较高（0.75+）\n",
    "* 部分类型变量进行了one-hot处理\n",
    "* 把细分表除了loan与主表合并\n",
    "\n",
    "# tbd\n",
    "\n",
    "* 处理细分表的loan，给出指标\n",
    "* 确定变量类型，以便对所有（or重要）分类变量进行one-hot处理\n",
    "* 新模型？"
   ]
  },
  {
   "cell_type": "markdown",
   "metadata": {},
   "source": [
    "## 10-12\n",
    "* 0.6824（这次我留了代码\\doge）\n",
    "* 把-99变为-1，本地有提升\n",
    "* 划出了一个本地测试集\n",
    "  * 本地测试集（固定）d_localtest\n",
    "  * 训练集（固定）\n",
    "    * 评估集（每次的模型不同）dtest\n",
    "    * 真正的训练集（每次的模型不同）dtrain\n",
    "* 添加参数nan_num（然并卵）\n",
    "* tbd\n",
    "  * 找特征\n",
    "  * 加x\n",
    "  * 分析一下参数作用"
   ]
  }
 ],
 "metadata": {
  "kernelspec": {
   "display_name": "Python 3.9.12 ('base')",
   "language": "python",
   "name": "python3"
  },
  "language_info": {
   "codemirror_mode": {
    "name": "ipython",
    "version": 3
   },
   "file_extension": ".py",
   "mimetype": "text/x-python",
   "name": "python",
   "nbconvert_exporter": "python",
   "pygments_lexer": "ipython3",
   "version": "3.9.12"
  },
  "orig_nbformat": 4,
  "vscode": {
   "interpreter": {
    "hash": "ad2bdc8ecc057115af97d19610ffacc2b4e99fae6737bb82f5d7fb13d2f2c186"
   }
  }
 },
 "nbformat": 4,
 "nbformat_minor": 2
}
