{
 "cells": [
  {
   "cell_type": "code",
   "execution_count": 37,
   "metadata": {},
   "outputs": [],
   "source": [
    "import warnings\n",
    "\n",
    "warnings.filterwarnings('ignore')\n"
   ]
  },
  {
   "cell_type": "markdown",
   "metadata": {},
   "source": [
    "# 数据读入模块"
   ]
  },
  {
   "cell_type": "code",
   "execution_count": 38,
   "metadata": {},
   "outputs": [],
   "source": [
    "import pandas as pd\n",
    "\n",
    "train_data = pd.read_csv(\"data\\main\\df_train_b1.csv\", index_col=0)\n",
    "test_data = pd.read_csv('data\\main\\df_test_b1.csv', index_col=0)\n"
   ]
  },
  {
   "cell_type": "markdown",
   "metadata": {},
   "source": [
    "## 要读入除了main之外的数在此处添加"
   ]
  },
  {
   "cell_type": "code",
   "execution_count": 39,
   "metadata": {},
   "outputs": [],
   "source": [
    "import os\n",
    "filenames = [\"data\\detail\\df_basic_b1.csv\",\n",
    "             \"data\\detail\\df_corp_b1.csv\",\n",
    "             \"data\\detail\\df_judicial_b1.csv\",\n",
    "             \"data\\detail\\df_loan2_b1.csv\",\n",
    "             \"data\\detail\\df_query_b1.csv\"\n",
    "             ]\n",
    "for filename in filenames:\n",
    "    temp = pd.read_csv(filename)\n",
    "    train_data = pd.merge(train_data, temp, on=\"cust_id\",\n",
    "                          how=\"left\", suffixes=(\"\", \"_y\"))\n",
    "    test_data = pd.merge(test_data, temp, on=\"cust_id\",\n",
    "                         how=\"left\", suffixes=(\"\", \"_y\"))\n"
   ]
  },
  {
   "cell_type": "code",
   "execution_count": 40,
   "metadata": {},
   "outputs": [],
   "source": [
    "# train_data['is_judicial'] = [0 if pd.isna(\n",
    "#     i) else 1 for i in train_data['judicial_reason']]\n",
    "# test_data['is_judicial'] = [0 if pd.isna(\n",
    "#     i) else 1 for i in test_data['judicial_reason']]\n"
   ]
  },
  {
   "cell_type": "code",
   "execution_count": 41,
   "metadata": {},
   "outputs": [],
   "source": [
    "# train_data['nan_num'] = (train_data == 0).astype(int).sum(axis=1)\n",
    "# test_data['nan_num'] = (test_data == 0).astype(int).sum(axis=1)\n"
   ]
  },
  {
   "cell_type": "code",
   "execution_count": 42,
   "metadata": {},
   "outputs": [],
   "source": [
    "drop_col = []\n",
    "\n",
    "train_data.drop(drop_col, inplace=True)\n",
    "test_data.drop(drop_col, inplace=True)\n"
   ]
  },
  {
   "cell_type": "markdown",
   "metadata": {},
   "source": [
    "## loan1表"
   ]
  },
  {
   "cell_type": "code",
   "execution_count": 43,
   "metadata": {},
   "outputs": [
    {
     "name": "stdout",
     "output_type": "stream",
     "text": [
      "loan1_2_mean已存在\n",
      "loan1_2_sum已存在\n",
      "loan1_3_mean已存在\n",
      "loan1_3_sum已存在\n",
      "loan1_7_mean已存在\n",
      "loan1_7_sum已存在\n",
      "loan1_9_mean已存在\n",
      "loan1_9_sum已存在\n",
      "loan1_2_count已存在\n",
      "loan1_3_count已存在\n"
     ]
    }
   ],
   "source": [
    "if True:\n",
    "\n",
    "    import pandas as pd\n",
    "    temp_df = pd.read_csv(\"./data/detail/df_loan1_b1.csv\")\n",
    "\n",
    "    def chuli_loan(df, colname, ways):\n",
    "        cust_id = list(set(df['cust_id']))\n",
    "        res_df = pd.DataFrame({'cust_id': cust_id})\n",
    "        try:\n",
    "            temp_train = pd.read_csv('./data/df_train.csv')\n",
    "            temp_test = pd.read_csv('./data/df_test.csv')\n",
    "            temp = list(temp_test.columns)\n",
    "        except:\n",
    "            temp = []\n",
    "\n",
    "        ways_1 = []\n",
    "\n",
    "        global train_data, test_data\n",
    "\n",
    "        for i in ways:\n",
    "            if (colname+'_'+i) not in temp:\n",
    "                ways_1.append(i)\n",
    "                res_df[colname+'_'+i] = None\n",
    "            else:\n",
    "                print(colname+'_'+i+'已存在')\n",
    "                train_data = pd.merge(train_data, temp_train[['cust_id', colname+'_'+i]], on=\"cust_id\",\n",
    "                                      how=\"left\", suffixes=(\"\", \"_y\"))\n",
    "                test_data = pd.merge(test_data, temp_test[['cust_id', colname+'_'+i]], on=\"cust_id\",\n",
    "                                     how=\"left\", suffixes=(\"\", \"_y\"))\n",
    "        ways = ways_1\n",
    "        if len(ways) == 0:\n",
    "            return res_df\n",
    "        if 'mean' in ways:\n",
    "            res_df[colname+'_mean'] = df.groupby('cust_id')[colname].mean()\n",
    "        if 'sum' in ways:\n",
    "            res_df[colname+'_sum'] = df.groupby('cust_id')[colname].sum()\n",
    "        if 'count' in ways:\n",
    "            res_df[colname+'_count'] = df.groupby('cust_id')[colname].count()\n",
    "        if 'std' in ways:\n",
    "            res_df[colname+'_std'] = df.groupby('cust_id')[colname].std()\n",
    "        if 'diff_std' in ways:\n",
    "            res_df[colname+'_diff_std'] = df.groupby('cust_id')[colname].apply(\n",
    "                lambda x: x.sort_values(ascending=True).diff()[2:].std())\n",
    "        return res_df\n",
    "\n",
    "    for colname in ['loan1_2', 'loan1_3', 'loan1_7', 'loan1_9']:\n",
    "        df = chuli_loan(temp_df, colname, ('mean', 'sum',))\n",
    "        train_data = pd.merge(train_data, df, on=\"cust_id\",\n",
    "                              how=\"left\", suffixes=(\"\", \"_y\"))\n",
    "        test_data = pd.merge(test_data, df, on=\"cust_id\",\n",
    "                             how=\"left\", suffixes=(\"\", \"_y\"))\n",
    "                             \n",
    "    for colname in ['loan1_2','loan1_3']:\n",
    "        df = chuli_loan(temp_df,colname , ('count',))\n",
    "        train_data = pd.merge(train_data, df, on=\"cust_id\",\n",
    "                                how=\"left\", suffixes=(\"\", \"_y\"))\n",
    "        test_data = pd.merge(test_data, df, on=\"cust_id\",\n",
    "                                how=\"left\", suffixes=(\"\", \"_y\"))\n",
    "\n",
    "    # df = chuli_loan(temp_df, 'date_3', ('count',))\n",
    "    # train_data = pd.merge(train_data, df, on=\"cust_id\",\n",
    "    #                       how=\"left\", suffixes=(\"\", \"_y\"))\n",
    "    # test_data = pd.merge(test_data, df, on=\"cust_id\",\n",
    "    #                      how=\"left\", suffixes=(\"\", \"_y\"))\n",
    "\n",
    "    # df = chuli_loan(temp_df, 'date_1', ('std', 'diff_std'))\n",
    "    # train_data = pd.merge(train_data, df, on=\"cust_id\",\n",
    "    #                       how=\"left\", suffixes=(\"\", \"_y\"))\n",
    "    # test_data = pd.merge(test_data, df, on=\"cust_id\",\n",
    "    #                      how=\"left\", suffixes=(\"\", \"_y\"))\n",
    "\n",
    "    # df = chuli_loan(temp_df, 'loan1_10', ('mean',))\n",
    "    # train_data = pd.merge(train_data, df, on=\"cust_id\",\n",
    "    #                       how=\"left\", suffixes=(\"\", \"_y\"))\n",
    "    # test_data = pd.merge(test_data, df, on=\"cust_id\",\n",
    "    #                      how=\"left\", suffixes=(\"\", \"_y\"))\n",
    "\n",
    "    # df = chuli_loan(temp_df, 'loan1_11', ('sum',))\n",
    "    # train_data = pd.merge(train_data, df, on=\"cust_id\",\n",
    "    #                       how=\"left\", suffixes=(\"\", \"_y\"))\n",
    "    # test_data = pd.merge(test_data, df, on=\"cust_id\",\n",
    "    #                      how=\"left\", suffixes=(\"\", \"_y\"))\n",
    "\n",
    "    # df = chuli_loan(temp_df, 'loan1_12', ('sum',))\n",
    "    # train_data = pd.merge(train_data, df, on=\"cust_id\",\n",
    "    #                       how=\"left\", suffixes=(\"\", \"_y\"))\n",
    "    # test_data = pd.merge(test_data, df, on=\"cust_id\",\n",
    "    #                      how=\"left\", suffixes=(\"\", \"_y\"))\n",
    "\n",
    "    train_data.to_csv('./data/df_train.csv')\n",
    "    test_data.to_csv('./data/df_test.csv')\n"
   ]
  },
  {
   "cell_type": "code",
   "execution_count": 44,
   "metadata": {},
   "outputs": [],
   "source": [
    "# data = temp_df.dropna(axis=0,subset = [\"date_1\"])\n",
    "# data['date2-date1'] = data['date_2'] - data['date_1']\n",
    "# data['date3-date2'] = data['date_3'] - data['date_2']\n",
    "# data['dateinterval_max'] = data[['date2-date1','date3-date2']].max(axis=1)\n",
    "# data = data.groupby('cust_id').agg({'date_2':['count'],'date_3':['count'],'dateinterval_max':['mean']})\n",
    "# train_data = pd.merge(train_data, data, on=\"cust_id\",\n",
    "#                           how=\"left\", suffixes=(\"\", \"_y\"))\n",
    "# test_data = pd.merge(test_data, data, on=\"cust_id\",\n",
    "#                          how=\"left\", suffixes=(\"\", \"_y\"))\n"
   ]
  },
  {
   "cell_type": "markdown",
   "metadata": {},
   "source": [
    "## 处理NAN"
   ]
  },
  {
   "cell_type": "code",
   "execution_count": 45,
   "metadata": {},
   "outputs": [],
   "source": [
    "def delnan(df):\n",
    "    df = df.dropna(how=\"all\", axis=1)  # 删除全是空值的列\n",
    "    df = df.fillna(-99)\n",
    "    return df\n"
   ]
  },
  {
   "cell_type": "code",
   "execution_count": 46,
   "metadata": {},
   "outputs": [],
   "source": [
    "df_train = delnan(train_data)\n",
    "df_test = delnan(test_data)\n"
   ]
  },
  {
   "cell_type": "markdown",
   "metadata": {},
   "source": [
    "## 处理-99"
   ]
  },
  {
   "cell_type": "code",
   "execution_count": 47,
   "metadata": {},
   "outputs": [],
   "source": [
    "df_train.replace(-99, -1, inplace=True)\n",
    "df_test.replace(-99, -1, inplace=True)\n"
   ]
  },
  {
   "cell_type": "markdown",
   "metadata": {},
   "source": [
    "## 主成分分析（效果不好）"
   ]
  },
  {
   "cell_type": "code",
   "execution_count": 48,
   "metadata": {},
   "outputs": [],
   "source": [
    "# from sklearn.decomposition import PCA\n",
    "\n",
    "# full_col_name = list(df_train.columns)\n",
    "# pca_col=[i for i in full_col_name if \"loan\" in i]\n",
    "\n",
    "# modelPCA=PCA(n_components=0.9)\n",
    "# temp=modelPCA.fit_transform(df_train[pca_col])\n",
    "# temp1=modelPCA.transform(df_test[pca_col])\n",
    "# for i in range(temp.shape[1]):\n",
    "#     df_train['loan_pca'+str(i)]=temp[:,i]\n",
    "#     df_test['loan_pca'+str(i)]=temp1[:,i]\n"
   ]
  },
  {
   "cell_type": "markdown",
   "metadata": {},
   "source": [
    "## 处理分类变量"
   ]
  },
  {
   "cell_type": "code",
   "execution_count": 49,
   "metadata": {},
   "outputs": [],
   "source": [
    "cat_way = \"no\"\n"
   ]
  },
  {
   "cell_type": "markdown",
   "metadata": {},
   "source": [
    "## 转化为one-hot编码（不宜采用）"
   ]
  },
  {
   "cell_type": "code",
   "execution_count": 50,
   "metadata": {},
   "outputs": [],
   "source": [
    "\n",
    "def to_one_hot(df, colnames):\n",
    "    df = pd.get_dummies(df, columns=colnames)\n",
    "    return df\n"
   ]
  },
  {
   "cell_type": "markdown",
   "metadata": {},
   "source": [
    "## 类型计数"
   ]
  },
  {
   "cell_type": "code",
   "execution_count": 51,
   "metadata": {},
   "outputs": [],
   "source": [
    "type_count_cols = ['industry', 'scope', 'basic_13']\n"
   ]
  },
  {
   "cell_type": "code",
   "execution_count": 52,
   "metadata": {},
   "outputs": [],
   "source": [
    "# def type_count(cols):\n",
    "#     global df_train, df_test\n",
    "#     df1 = df_train[['cust_id']+cols]\n",
    "#     df2 = df_test[['cust_id']+cols]\n",
    "#     df = pd.concat([df1, df2], axis=0, ignore_index=True)\n",
    "#     for i in cols:\n",
    "#         temp_df = df.groupby(i)['cust_id'].count()\n",
    "#         temp_df = pd.DataFrame({(i+\"_num\"): temp_df})\n",
    "#         df = pd.merge(df, temp_df, on=i, how=\"left\")\n",
    "#         del df[i], df1[i], df2[i]\n",
    "#     df_train = pd.merge(df_train, df, on=\"cust_id\",\n",
    "#                         how=\"left\", suffixes=(\"\", \"_y\"))\n",
    "#     df_test = pd.merge(df_test, df, on=\"cust_id\",\n",
    "#                        how=\"left\", suffixes=(\"\", \"_y\"))\n",
    "\n",
    "\n",
    "# type_count(type_count_cols)\n"
   ]
  },
  {
   "cell_type": "markdown",
   "metadata": {},
   "source": [
    "## 证据权重"
   ]
  },
  {
   "cell_type": "code",
   "execution_count": 53,
   "metadata": {},
   "outputs": [],
   "source": [
    "import pandas as pd\n",
    "import numpy as np\n",
    "\n",
    "\n",
    "def cal_woe(df, df_no_label, x_cols, y_col):\n",
    "    for i in x_cols:\n",
    "        x_set = pd.unique(df[i])\n",
    "        x1_set = pd.unique(df_no_label[i])\n",
    "        for j in x1_set:\n",
    "            if j not in x_set:\n",
    "                df_no_label[i].replace(j, 0.03, inplace=True)\n",
    "                print(i, j, '不存在')\n",
    "        for j in x_set:\n",
    "            woe = np.mean(df[df[i] == j][y_col])\n",
    "            if woe >= 0.1:\n",
    "                n = np.sum(df[df[i] == j][y_col])\n",
    "                print(i, '列：', j, ' 共有', int(n/woe), '个,其中',\n",
    "                      int(n), '个label为1,woe为', woe, sep=\"\")\n",
    "            df[i].replace(j, woe, inplace=True)\n",
    "            df_no_label[i].replace(j, woe, inplace=True)\n",
    "    return df, df_no_label\n"
   ]
  },
  {
   "cell_type": "code",
   "execution_count": 54,
   "metadata": {},
   "outputs": [],
   "source": [
    "if cat_way == \"auto\":\n",
    "    type_col = [\"basic_1\",\n",
    "                \"basic_10\",\n",
    "                \"basic_12\",\n",
    "                \"basic_14\",\n",
    "                \"loan1_16\",\n",
    "                \"loan1_20\",\n",
    "                \"loan1_23\",\n",
    "                \"loan1_25\",\n",
    "                \"loan2_1_y\",\n",
    "                \"query_2_y\",\n",
    "                \"query_3_y\",\n",
    "                \"query_4_y\",\n",
    "                \"query_5_y\",\n",
    "                \"query_6_y\", ]\n",
    "if cat_way == \"manual\":\n",
    "    woe_col = ['basic_1',\n",
    "               'basic_5',\n",
    "               'basic_6',\n",
    "               'basic_10',\n",
    "               'loan1_16',\n",
    "               'loan1_20',\n",
    "               'loan1_25',\n",
    "               'loan1_23',\n",
    "               'loan1_32',\n",
    "               'loan2_4',\n",
    "               'loan2_6',\n",
    "               'overdue_2',\n",
    "               'overdue_20',\n",
    "               'overdue_21',\n",
    "               'overdue_26',\n",
    "               'overdue_27',\n",
    "               'query_1',\n",
    "               'query_2',\n",
    "               'query_3',\n",
    "               'query_4',\n",
    "               'query_6',\n",
    "               'query_7',\n",
    "               'query_8',\n",
    "               'query_10',\n",
    "               'query_11', ]\n",
    "\n",
    "    onehot_col = ['basic_12',\n",
    "                  'basic_14',\n",
    "                  'loan1_8',\n",
    "                  'loan1_9',\n",
    "                  'overdue_1',\n",
    "                  'overdue_3',\n",
    "                  'overdue_4',\n",
    "                  'overdue_5',\n",
    "                  'overdue_6',\n",
    "                  'overdue_7',\n",
    "                  'overdue_8',\n",
    "                  'overdue_9',\n",
    "                  'overdue_10',\n",
    "                  'overdue_11',\n",
    "                  'overdue_12',\n",
    "                  'overdue_14',\n",
    "                  'overdue_15',\n",
    "                  'overdue_16',\n",
    "                  'overdue_17',\n",
    "                  'overdue_18',\n",
    "                  'overdue_22',\n",
    "                  'overdue_23',\n",
    "                  'overdue_24',\n",
    "                  'overdue_25',\n",
    "                  'overdue_28',\n",
    "                  'overdue_29',\n",
    "                  'query_5',\n",
    "                  'query_9', ]\n",
    "\n",
    "    df_train, df_test = cal_woe(df_train, df_test, woe_col, \"label\")\n",
    "    df_train = to_one_hot(df_train, onehot_col)\n",
    "    df_test = to_one_hot(df_test, onehot_col)\n",
    "    for i in df_train.columns:\n",
    "        if i not in df_test.columns:\n",
    "            df_test[i] = 0\n"
   ]
  },
  {
   "cell_type": "code",
   "execution_count": 55,
   "metadata": {},
   "outputs": [],
   "source": [
    "full_col_name = list(df_train.columns)\n",
    "basic_col = [i for i in full_col_name if \"basic\" in i]\n",
    "loan_col = [i for i in full_col_name if \"loan\" in i]\n",
    "overdue_col = [i for i in full_col_name if \"overdue\" in i]\n",
    "query_col = [i for i in full_col_name if \"query\" in i]\n",
    "judicial_col = [i for i in full_col_name if \"judicial\" in i]\n",
    "date_col = [i for i in full_col_name if \"date\" in i]\n",
    "# loan_pca_col = [i for i in full_col_name if \"loan_pca\" in i]\n",
    "\n",
    "# for i in judicial_col:\n",
    "#     df_train[i].astype(\"float\")\n",
    "#     df_test[i].astype(\"float\")\n"
   ]
  },
  {
   "cell_type": "markdown",
   "metadata": {},
   "source": [
    "## rank化"
   ]
  },
  {
   "cell_type": "code",
   "execution_count": 56,
   "metadata": {},
   "outputs": [],
   "source": [
    "def rank(rank_col):\n",
    "    global df_train, df_test\n",
    "    df1 = df_train[['cust_id']+rank_col]\n",
    "    df2 = df_test[['cust_id']+rank_col]\n",
    "    df = pd.concat([df1, df2], axis=0, ignore_index=True)\n",
    "    for i in rank_col:\n",
    "        df[i] = np.argsort(df[i])\n",
    "        del df_test[i]\n",
    "        del df_train[i]\n",
    "    df_train = pd.merge(df_train, df, on=\"cust_id\",\n",
    "                        how=\"left\", suffixes=(\"\", \"_y\"))\n",
    "    df_test = pd.merge(df_test, df, on=\"cust_id\",\n",
    "                       how=\"left\", suffixes=(\"\", \"_y\"))\n",
    "\n",
    "\n",
    "a = ['loan1_1', 'loan1_3', 'loan1_7', 'loan1_9']\n",
    "b = ['_sum', '_mean']\n",
    "c = []\n",
    "for i in a:\n",
    "    for j in b:\n",
    "        c.append(i+j)\n",
    "# rank(c)\n"
   ]
  },
  {
   "cell_type": "markdown",
   "metadata": {},
   "source": [
    "## 归一化"
   ]
  },
  {
   "cell_type": "code",
   "execution_count": 57,
   "metadata": {},
   "outputs": [],
   "source": [
    "def norm(rank_col):\n",
    "    global df_train, df_test\n",
    "    df1 = df_train[['cust_id']+rank_col]\n",
    "    df2 = df_test[['cust_id']+rank_col]\n",
    "    df = pd.concat([df1, df2], axis=0, ignore_index=True)\n",
    "    for i in rank_col:\n",
    "        df[i] = (df[i]-np.min(df[i]))/(np.max(df[i])-np.min(df[i]))\n",
    "        del df_test[i]\n",
    "        del df_train[i]\n",
    "    df_train = pd.merge(df_train, df, on=\"cust_id\",\n",
    "                        how=\"left\", suffixes=(\"\", \"_y\"))\n",
    "    df_test = pd.merge(df_test, df, on=\"cust_id\",\n",
    "                       how=\"left\", suffixes=(\"\", \"_y\"))\n",
    "\n",
    "\n",
    "# norm([i for i in loan_col if i not in type_col and 'count' not in i])\n"
   ]
  },
  {
   "cell_type": "markdown",
   "metadata": {},
   "source": [
    "## 标准化"
   ]
  },
  {
   "cell_type": "code",
   "execution_count": 58,
   "metadata": {},
   "outputs": [],
   "source": [
    "def stand(rank_col):\n",
    "    global df_train, df_test\n",
    "    df1 = df_train[['cust_id']+rank_col]\n",
    "    df2 = df_test[['cust_id']+rank_col]\n",
    "    df = pd.concat([df1, df2], axis=0, ignore_index=True)\n",
    "    for i in rank_col:\n",
    "        df[i] = (df[i]-np.mean(df[i], axis=0))/np.std(df[i], axis=0)\n",
    "        del df_test[i]\n",
    "        del df_train[i]\n",
    "    df_train = pd.merge(df_train, df, on=\"cust_id\",\n",
    "                        how=\"left\", suffixes=(\"\", \"_y\"))\n",
    "    df_test = pd.merge(df_test, df, on=\"cust_id\",\n",
    "                       how=\"left\", suffixes=(\"\", \"_y\"))\n",
    "\n",
    "\n",
    "# stand([i for i in loan_col if i not in type_col and 'count' not in i])\n"
   ]
  },
  {
   "cell_type": "markdown",
   "metadata": {},
   "source": [
    "## 设置哪些x作为模型自变量输入"
   ]
  },
  {
   "cell_type": "code",
   "execution_count": 59,
   "metadata": {},
   "outputs": [
    {
     "name": "stdout",
     "output_type": "stream",
     "text": [
      "自变量个数为 124\n",
      "['basic_1', 'basic_2', 'basic_3', 'basic_4', 'basic_5', 'basic_6', 'basic_7', 'basic_8', 'basic_9', 'basic_10', 'basic_11', 'basic_12', 'basic_13', 'basic_14', 'basic_15', 'basic_1_y', 'basic_2_y', 'basic_3_y', 'loan1_1', 'loan1_2', 'loan1_3', 'loan1_4', 'loan1_5', 'loan1_6', 'loan1_7', 'loan1_8', 'loan1_9', 'loan1_10', 'loan1_11', 'loan1_12', 'loan1_13', 'loan1_14', 'loan1_15', 'loan1_16', 'loan1_17', 'loan1_18', 'loan1_19', 'loan1_20', 'loan1_21', 'loan1_22', 'loan1_23', 'loan1_24', 'loan1_25', 'loan1_26', 'loan1_27', 'loan1_28', 'loan1_29', 'loan1_30', 'loan1_31', 'loan1_32', 'loan1_33', 'loan2_1', 'loan2_2', 'loan2_3', 'loan2_4', 'loan2_5', 'loan2_6', 'loan2_7', 'loan2_8', 'loan2_9', 'loan2_10', 'loan2_11', 'loan2_12', 'loan2_1_y', 'loan2_2_y', 'loan2_3_y', 'loan2_4_y', 'loan2_5_y', 'loan1_2_mean', 'loan1_2_sum', 'loan1_3_mean', 'loan1_3_sum', 'loan1_7_mean', 'loan1_7_sum', 'loan1_9_mean', 'loan1_9_sum', 'loan1_2_count', 'loan1_3_count', 'query_1', 'query_2', 'query_3', 'query_4', 'query_5', 'query_6', 'query_7', 'query_8', 'query_9', 'query_10', 'query_11', 'query_1_y', 'query_2_y', 'query_3_y', 'query_4_y', 'query_5_y', 'query_6_y', 'overdue_1', 'overdue_2', 'overdue_3', 'overdue_4', 'overdue_5', 'overdue_6', 'overdue_7', 'overdue_8', 'overdue_9', 'overdue_10', 'overdue_11', 'overdue_12', 'overdue_13', 'overdue_14', 'overdue_15', 'overdue_16', 'overdue_17', 'overdue_18', 'overdue_19', 'overdue_20', 'overdue_21', 'overdue_22', 'overdue_23', 'overdue_24', 'overdue_25', 'overdue_26', 'overdue_27', 'overdue_28', 'overdue_29']\n"
     ]
    }
   ],
   "source": [
    "# x_col = basic_col+loan_col+['nan_num'] + ['is_judicial']+ overdue_col+query_col\n",
    "x_col = basic_col+['is_judicial']+loan_col+query_col+overdue_col+['scope_num'] + \\\n",
    "    ['industry_num']+['date_3_count', 'date_1_std', 'date_1_diff_std']\n",
    "x_col=[i for i in x_col if i in full_col_name]\n",
    "\n",
    "if cat_way == \"auto\":\n",
    "    type_col = [i for i in type_col if i in x_col]\n",
    "# categorize(df_train,type_col)\n",
    "# categorize(df_test,type_col)\n",
    "\n",
    "print('自变量个数为', len(x_col))\n",
    "print(x_col)"
   ]
  },
  {
   "cell_type": "code",
   "execution_count": 60,
   "metadata": {},
   "outputs": [],
   "source": [
    "df_train = df_train[x_col+['label', 'cust_id']]\n",
    "df_test = df_test[x_col+['cust_id']]\n",
    "\n",
    "df_test.to_csv(\"test_input.csv\", encoding='utf-8')\n",
    "df_train.to_csv(\"train_input.csv\", encoding='utf-8')\n"
   ]
  },
  {
   "cell_type": "markdown",
   "metadata": {},
   "source": [
    "# 训练模型"
   ]
  },
  {
   "cell_type": "markdown",
   "metadata": {},
   "source": [
    "## 超参数"
   ]
  },
  {
   "cell_type": "code",
   "execution_count": 61,
   "metadata": {},
   "outputs": [],
   "source": [
    "N = 50\n",
    "num_round = 3000\n",
    "local_test_size = 3000\n",
    "\n",
    "#共用\n",
    "test_size = [0.2,0.25,0.3]\n",
    "max_depth = [3, 4, 5]\n",
    "subsample = [0.8,0.75,0.7,0.65,0.6]\n",
    "early_stopping_rounds=300\n",
    "\n",
    "#XGB\n",
    "eta = [0.007,0.01]\n",
    "\n",
    "#LGB\n",
    "learning_rate=[0.03,0.02,0.025]\n",
    "\n"
   ]
  },
  {
   "cell_type": "markdown",
   "metadata": {},
   "source": [
    "### train划分为\n",
    "* 本地测试集（固定）d_localtest\n",
    "* 训练集（固定）\n",
    "  * 评估集（每次的模型不同）dtest\n",
    "  * 真正的训练集（每次的模型不同）dtrain"
   ]
  },
  {
   "cell_type": "code",
   "execution_count": 62,
   "metadata": {},
   "outputs": [],
   "source": [
    "import copy\n",
    "import xgboost as xgb\n",
    "import random\n",
    "from sklearn import model_selection\n",
    "from sklearn.metrics import roc_auc_score\n",
    "import lightgbm as lgb\n",
    "from lightgbm import early_stopping, log_evaluation\n",
    "\n",
    "\n",
    "pred_labels = []\n",
    "local_test_labels = []\n",
    "loss_seq = []\n",
    "max_auc_loss = 0\n",
    "flag = 0\n",
    "important_x_seq = []\n",
    "\n",
    "\n",
    "d_full = xgb.DMatrix(df_train[x_col], label=df_train['label'])\n",
    "X = df_train[x_col]\n",
    "Y = df_train['label']\n",
    "\n",
    "X, X_local_test, Y, Y_local_test = model_selection.train_test_split(\n",
    "    X, Y, test_size=local_test_size, stratify=Y, random_state=2022)\n",
    "\n",
    "d_localtest = xgb.DMatrix(X_local_test, label=Y_local_test)\n",
    "x_perd = xgb.DMatrix(df_test[x_col])\n",
    "\n",
    "d_localtest1 = lgb.Dataset(X_local_test, Y_local_test)\n",
    "x_perd1 = lgb.Dataset(df_test[x_col])\n",
    "\n",
    "\n",
    "lgbcallback = [early_stopping(early_stopping_rounds), log_evaluation(10000)]\n"
   ]
  },
  {
   "cell_type": "code",
   "execution_count": 63,
   "metadata": {},
   "outputs": [
    {
     "name": "stdout",
     "output_type": "stream",
     "text": [
      "Training until validation scores don't improve for 300 rounds\n",
      "Early stopping, best iteration is:\n",
      "[116]\tvalid_0's auc: 0.721584\n",
      "Early stopping, best iteration is:\n",
      "[116]\tvalid_0's auc: 0.721584\n",
      "Early stopping, best iteration is:\n",
      "[457]\tvalid_0's auc: 0.763109\n",
      "Early stopping, best iteration is:\n",
      "[457]\tvalid_0's auc: 0.763109\n",
      "Early stopping, best iteration is:\n",
      "[457]\tvalid_0's auc: 0.763109\n",
      "Early stopping, best iteration is:\n",
      "[457]\tvalid_0's auc: 0.763109\n",
      "Early stopping, best iteration is:\n",
      "[457]\tvalid_0's auc: 0.763109\n",
      "Early stopping, best iteration is:\n",
      "[457]\tvalid_0's auc: 0.763109\n",
      "Early stopping, best iteration is:\n",
      "[457]\tvalid_0's auc: 0.763109\n",
      "Early stopping, best iteration is:\n",
      "[457]\tvalid_0's auc: 0.763109\n",
      "Early stopping, best iteration is:\n",
      "[457]\tvalid_0's auc: 0.763109\n",
      "Early stopping, best iteration is:\n",
      "[457]\tvalid_0's auc: 0.763109\n",
      "Early stopping, best iteration is:\n",
      "[457]\tvalid_0's auc: 0.763109\n",
      "Early stopping, best iteration is:\n",
      "[457]\tvalid_0's auc: 0.763109\n",
      "Early stopping, best iteration is:\n",
      "[457]\tvalid_0's auc: 0.763109\n",
      "Early stopping, best iteration is:\n",
      "[457]\tvalid_0's auc: 0.763109\n",
      "Early stopping, best iteration is:\n",
      "[457]\tvalid_0's auc: 0.763109\n",
      "Early stopping, best iteration is:\n",
      "[457]\tvalid_0's auc: 0.763109\n",
      "Early stopping, best iteration is:\n",
      "[457]\tvalid_0's auc: 0.763109\n",
      "Early stopping, best iteration is:\n",
      "[457]\tvalid_0's auc: 0.763109\n",
      "Early stopping, best iteration is:\n",
      "[457]\tvalid_0's auc: 0.763109\n",
      "Early stopping, best iteration is:\n",
      "[439]\tvalid_0's auc: 0.765904\n",
      "Early stopping, best iteration is:\n",
      "[439]\tvalid_0's auc: 0.765904\n",
      "Early stopping, best iteration is:\n",
      "[439]\tvalid_0's auc: 0.765904\n",
      "Early stopping, best iteration is:\n",
      "[439]\tvalid_0's auc: 0.765904\n",
      "Early stopping, best iteration is:\n",
      "[439]\tvalid_0's auc: 0.765904\n",
      "Early stopping, best iteration is:\n",
      "[439]\tvalid_0's auc: 0.765904\n",
      "Early stopping, best iteration is:\n",
      "[439]\tvalid_0's auc: 0.765904\n",
      "Early stopping, best iteration is:\n",
      "[439]\tvalid_0's auc: 0.765904\n",
      "Early stopping, best iteration is:\n",
      "[439]\tvalid_0's auc: 0.765904\n",
      "Early stopping, best iteration is:\n",
      "[439]\tvalid_0's auc: 0.765904\n",
      "Early stopping, best iteration is:\n",
      "[439]\tvalid_0's auc: 0.765904\n",
      "Early stopping, best iteration is:\n",
      "[439]\tvalid_0's auc: 0.765904\n",
      "Early stopping, best iteration is:\n",
      "[439]\tvalid_0's auc: 0.765904\n",
      "Early stopping, best iteration is:\n",
      "[439]\tvalid_0's auc: 0.765904\n",
      "Early stopping, best iteration is:\n",
      "[439]\tvalid_0's auc: 0.765904\n",
      "Early stopping, best iteration is:\n",
      "[439]\tvalid_0's auc: 0.765904\n",
      "Early stopping, best iteration is:\n",
      "[439]\tvalid_0's auc: 0.765904\n",
      "Early stopping, best iteration is:\n",
      "[439]\tvalid_0's auc: 0.765904\n",
      "Early stopping, best iteration is:\n",
      "[439]\tvalid_0's auc: 0.765904\n",
      "Early stopping, best iteration is:\n",
      "[439]\tvalid_0's auc: 0.765904\n",
      "Early stopping, best iteration is:\n",
      "[439]\tvalid_0's auc: 0.765904\n",
      "Early stopping, best iteration is:\n",
      "[439]\tvalid_0's auc: 0.765904\n",
      "Early stopping, best iteration is:\n",
      "[439]\tvalid_0's auc: 0.765904\n",
      "Early stopping, best iteration is:\n",
      "[439]\tvalid_0's auc: 0.765904\n",
      "Early stopping, best iteration is:\n",
      "[439]\tvalid_0's auc: 0.765904\n",
      "Early stopping, best iteration is:\n",
      "[439]\tvalid_0's auc: 0.765904\n",
      "Early stopping, best iteration is:\n",
      "[439]\tvalid_0's auc: 0.765904\n",
      "Early stopping, best iteration is:\n",
      "[439]\tvalid_0's auc: 0.765904\n",
      "Early stopping, best iteration is:\n",
      "[439]\tvalid_0's auc: 0.765904\n",
      "最大AUC:0.7442928862366203\n"
     ]
    }
   ],
   "source": [
    "\n",
    "for i in range(N):\n",
    "\n",
    "    #seed = 666\n",
    "    test_size_this_round = random.choice(test_size)\n",
    "    X_train, X_test, y_train, y_test = model_selection.train_test_split(\n",
    "        X, Y, test_size=test_size_this_round, stratify=Y)\n",
    "    # seed+=1\n",
    "\n",
    "    dtrain = xgb.DMatrix(X_train, label=y_train)\n",
    "    dtest = xgb.DMatrix(X_test, label=y_test)\n",
    "    evallist = [(dtest, 'eval')]\n",
    "    param = {\n",
    "        'max_depth': random.choice(max_depth),\n",
    "        'eta': random.choice(eta),\n",
    "        'objective': 'binary:logistic',\n",
    "        # 'verbosity':0,\n",
    "        'eval_metric': 'auc',\n",
    "        'subsample': random.choice(subsample),\n",
    "        # 'seed': 666,\n",
    "        'tree_method': 'gpu_hist',\n",
    "        'gpu_id': 0,\n",
    "    }\n",
    "\n",
    "    bst = xgb.train(param, dtrain, num_round, evals=evallist,\n",
    "                    early_stopping_rounds=early_stopping_rounds, verbose_eval=False)\n",
    "\n",
    "    loss = float(bst.eval(dtest).split(\":\")[1])\n",
    "    train_loss = float(bst.eval(dtrain).split(\":\")[1])\n",
    "    local_test_loss = float(bst.eval(d_localtest).split(\":\")[1])\n",
    "    global_auc = float(bst.eval(d_full).split(\":\")[1])\n",
    "\n",
    "    pred_label = list(bst.predict(x_perd))\n",
    "    test_label = list(bst.predict(d_localtest))\n",
    "    # temp=roc_auc_score(y_test,test_label)\n",
    "    # print(test_label[0:10])\n",
    "\n",
    "    temp_dict = {\"test_auc\": loss, \"train_auc\": train_loss,\n",
    "                 'local_test_auc': local_test_loss,\n",
    "                 'model': 'xgb'}\n",
    "\n",
    "    # info_df=info_df.append(pd.DataFrame(temp_dict))\n",
    "    if flag == 0:\n",
    "        info_df = pd.DataFrame(temp_dict, index=[i])\n",
    "        flag = 1\n",
    "    else:\n",
    "        info_df = pd.concat([info_df, pd.DataFrame(temp_dict, index=[i])])\n",
    "\n",
    "    # if loss > max_auc_loss:\n",
    "    #     best_bst = copy.deepcopy(bst)\n",
    "    #     max_auc_loss = loss\n",
    "\n",
    "    if False:\n",
    "        pic = xgb.plot_importance(bst, max_num_features=50)\n",
    "        temp = pic.get_ymajorticklabels()\n",
    "        important_x = [str(i).split(\"\\'\")[1] for i in temp]\n",
    "        important_x.reverse()\n",
    "        important_x_seq += important_x\n",
    "\n",
    "    # print(i+1, \":\", loss, sep=\"\")\n",
    "    # print(param)\n",
    "    # print(\"-------------------------\")\n",
    "    pred_labels.append(copy.deepcopy(pred_label))\n",
    "    local_test_labels.append(copy.deepcopy(test_label))\n",
    "\n",
    "    param = {\n",
    "        'task': 'train',\n",
    "        \"max_depth\": random.choice(max_depth),\n",
    "        'boosting_type': 'gbdt',  # 设置提升类型\n",
    "        'objective': 'binary',  # 目标函数\n",
    "        'metric': 'auc',  # 评估函数\n",
    "        'learning_rate': random.choice(learning_rate),  # 学习速率\n",
    "        # 建树的特征选择比例\n",
    "        # 'bagging_fraction': random.choice(subsample),  # 建树的样本采样比例\n",
    "        'bagging_freq': 1,  # k 意味着每 k 次迭代执行bagging\n",
    "        'min_data_in_leaf': 1,\n",
    "        'verbose': -1,  # <0 显示致命的, =0 显示错误 (警告), >0 显示信息\n",
    "        'device_type': 'gpu',\n",
    "    }\n",
    "\n",
    "    dtrain = lgb.Dataset(X_train, y_train)\n",
    "    dtest = lgb.Dataset(X_test, y_test)\n",
    "\n",
    "    if cat_way == \"auto\":\n",
    "        bst1 = lgb.train(param, dtrain, num_round, valid_sets=[\n",
    "            dtest], callbacks=lgbcallback, categorical_feature=type_col)\n",
    "    else:\n",
    "        bst1 = lgb.train(param, dtrain, num_round, valid_sets=[\n",
    "            dtest], callbacks=lgbcallback)\n",
    "\n",
    "    loss = roc_auc_score(y_test, bst1.predict(X_test))\n",
    "    train_loss = roc_auc_score(y_train, bst1.predict(X_train))\n",
    "    local_test_loss = roc_auc_score(Y_local_test, bst1.predict(X_local_test))\n",
    "    global_auc = roc_auc_score(\n",
    "        df_train['label'], bst1.predict(df_train[x_col]))\n",
    "\n",
    "    pred_label = list(bst1.predict(df_test[x_col]))\n",
    "    test_label = list(bst1.predict(X_local_test))\n",
    "\n",
    "    temp_dict = {\"test_auc\": loss, \"train_auc\": train_loss,\n",
    "                 'local_test_auc': local_test_loss,\n",
    "                 'model': 'lgb'}\n",
    "\n",
    "    info_df = pd.concat([info_df, pd.DataFrame(temp_dict, index=[i])])\n",
    "    pred_labels.append(copy.deepcopy(pred_label))\n",
    "    local_test_labels.append(copy.deepcopy(test_label))\n",
    "\n",
    "\n",
    "print('最大AUC:', max(info_df['local_test_auc']), sep=\"\")\n"
   ]
  },
  {
   "cell_type": "code",
   "execution_count": 64,
   "metadata": {},
   "outputs": [],
   "source": [
    "info_df.to_csv(\"info.csv\", encoding=\"utf-8\", index=False)\n"
   ]
  },
  {
   "cell_type": "code",
   "execution_count": 65,
   "metadata": {},
   "outputs": [],
   "source": [
    "# pic = xgb.plot_importance(bst, max_num_features=50)\n",
    "# temp = pic.get_ymajorticklabels()\n",
    "# important_x = [str(i).split(\"\\'\")[1] for i in temp]\n",
    "# important_x.reverse()\n"
   ]
  },
  {
   "cell_type": "code",
   "execution_count": 66,
   "metadata": {},
   "outputs": [],
   "source": [
    "# important_x\n"
   ]
  },
  {
   "cell_type": "code",
   "execution_count": 67,
   "metadata": {},
   "outputs": [],
   "source": [
    "# pd.value_counts(important_x_seq)\n"
   ]
  },
  {
   "cell_type": "code",
   "execution_count": 68,
   "metadata": {},
   "outputs": [
    {
     "data": {
      "image/png": "[encoded data removed]",
      "text/plain": [
       "<Figure size 1300x1200 with 1 Axes>"
      ]
     },
     "metadata": {
      "needs_background": "light"
     },
     "output_type": "display_data"
    }
   ],
   "source": [
    "import matplotlib.pyplot as plt\n",
    "plt.figure(figsize=(6.5, 6), dpi=200)\n",
    "plt.scatter(info_df[info_df['model'] == 'xgb']['local_test_auc'], info_df[info_df['model'] == 'xgb']['test_auc'],\n",
    "            c='r', s=4)\n",
    "plt.scatter(info_df[info_df['model'] == 'lgb']['local_test_auc'], info_df[info_df['model'] == 'lgb']['test_auc'],\n",
    "            c='g', s=4)\n",
    "plt.xlabel('local_test_auc')\n",
    "plt.ylabel('test_auc')\n",
    "plt.plot([0.6, 0.85], [0.6, 0.85])\n",
    "plt.xlim(0.6, 0.85)\n",
    "plt.ylim(0.6, 0.85)\n",
    "plt.grid()\n",
    "plt.show()\n"
   ]
  },
  {
   "cell_type": "markdown",
   "metadata": {},
   "source": [
    "# 输出模块"
   ]
  },
  {
   "cell_type": "code",
   "execution_count": 71,
   "metadata": {},
   "outputs": [
    {
     "name": "stdout",
     "output_type": "stream",
     "text": [
      "本地测试集前12个auc为[0.7305004127254766, 0.7115657857345837, 0.7137951799077118, 0.7306391155496015, 0.7275199935046482, 0.692052666477219, 0.7313326296702256, 0.7275978024059865, 0.7099419477936102, 0.7328177647870743, 0.7298779415147701, 0.726843394362576]\n",
      "平均之后local_test_AUC为0.735165563810065\n"
     ]
    }
   ],
   "source": [
    "import time\n",
    "import numpy as np\n",
    "from sklearn.metrics import roc_auc_score\n",
    "\n",
    "date = time.strftime(\"%Y%m%d-%H%M%S\", time.localtime())\n",
    "res_num = np.argsort([-i for i in (info_df['test_auc'])])\n",
    "\n",
    "# 选择前n个结果进行平均（手动指定or在本地测试集排序选出）\n",
    "if True:\n",
    "    max_auc = -1\n",
    "    list_temp = []\n",
    "    auc_seq = []\n",
    "    for i in range(N*2):\n",
    "        list_temp.append(local_test_labels[res_num[i]])\n",
    "        # 算数平均\n",
    "        # temp = np.mean(list_temp, axis=0)\n",
    "        # 几何平均(better)\n",
    "        temp = np.exp(np.mean(np.log(list_temp), axis=0))\n",
    "        temp_auc = roc_auc_score(Y_local_test, temp)\n",
    "        # print(i, temp_auc)\n",
    "        auc_seq.append(temp_auc)\n",
    "        if temp_auc > max_auc:\n",
    "            max_auc = temp_auc\n",
    "            n = i+1\n",
    "else:\n",
    "    n = 40\n",
    "    n = min(N, n)\n",
    "\n",
    "res_num = res_num[0:n]\n",
    "\n",
    "#final_pred_label = np.mean([pred_labels[i] for i in res_num], axis=0)\n",
    "final_pred_label = np.exp(\n",
    "    np.mean(np.log([pred_labels[i] for i in res_num]), axis=0))\n",
    "#local_auc = roc_auc_score(y_test, final_pred_label)\n",
    "print(\"本地测试集前\", n, \"个auc为\", [\n",
    "      list(info_df['local_test_auc'])[i] for i in res_num], sep=\"\")\n",
    "print(\"平均之后local_test_AUC为\", max_auc, sep=\"\")\n",
    "\n",
    "res = pd.DataFrame({\n",
    "    'cust_id': list(df_test[\"cust_id\"]),\n",
    "    'label': final_pred_label,\n",
    "})\n",
    "res.to_csv(\"./output/result\"+date+\".csv\", encoding=\"utf-8\", index=False)\n"
   ]
  },
  {
   "cell_type": "code",
   "execution_count": 72,
   "metadata": {},
   "outputs": [
    {
     "data": {
      "text/plain": [
       "[<matplotlib.lines.Line2D at 0x18b078e40a0>]"
      ]
     },
     "execution_count": 72,
     "metadata": {},
     "output_type": "execute_result"
    },
    {
     "data": {
      "image/png": "[encoded data removed]",
      "text/plain": [
       "<Figure size 2000x1200 with 1 Axes>"
      ]
     },
     "metadata": {
      "needs_background": "light"
     },
     "output_type": "display_data"
    }
   ],
   "source": [
    "\n",
    "plt.figure(figsize=(10, 6), dpi=200)\n",
    "plt.plot(list(range(len(auc_seq))), auc_seq)\n"
   ]
  },
  {
   "cell_type": "markdown",
   "metadata": {},
   "source": [
    "# 一些tips\n",
    "\n",
    "* 提升n有一定提升(如何确定n？)\n",
    "  * n=40 0.6763\n",
    "  * n=10 0.6728\n",
    "  * n=100 0.6774\n",
    "  * 太大也不好\n",
    "\n",
    "# 一些进展\n",
    "\n",
    "* 随机参数\n",
    "* XGB模型\n",
    "* 本地测试集auc较高（0.75+）\n",
    "* 部分类型变量进行了one-hot处理\n",
    "* 把细分表除了loan与主表合并\n",
    "\n",
    "# tbd\n",
    "\n",
    "* 处理细分表的loan，给出指标\n",
    "* 确定变量类型，以便对所有（or重要）分类变量进行one-hot处理\n",
    "* 新模型？"
   ]
  },
  {
   "cell_type": "markdown",
   "metadata": {},
   "source": [
    "## 10-12\n",
    "* 0.6824（这次我留了代码\\doge）\n",
    "* 把-99变为-1，本地有提升\n",
    "* 划出了一个本地测试集\n",
    "  * 本地测试集（固定）d_localtest\n",
    "  * 训练集（固定）\n",
    "    * 评估集（每次的模型不同）dtest\n",
    "    * 真正的训练集（每次的模型不同）dtrain\n",
    "* 添加参数nan_num（然并卵）\n",
    "* tbd\n",
    "  * 找特征\n",
    "  * 加x\n",
    "  * 分析一下参数作用\n",
    "## 10-18\n",
    "* 不能把industry之类种类很多的分类变量做证据权重"
   ]
  },
  {
   "cell_type": "markdown",
   "metadata": {},
   "source": [
    "# 记录\n",
    "* 1014-4\n",
    "  * 0.6823\n",
    "  * 证据权重\n",
    "  * 未添加贷款记录表\n",
    "  * 按test auc排序\n",
    "* 1014-5\n",
    "  * 0.6925\n",
    "  * 按local test auc排序\n",
    "* 1015-1\n",
    "  * 0.6834\n",
    "  * 处理-99\n",
    "* 1015-2\n",
    "  * 0.6628\n",
    "  * 添加贷款记录表\n",
    "* 1015-3\n",
    "  * 0.6772\n",
    "  * 不处理-99\n",
    "  * 去除贷款记录表\n",
    "  * 添加了type-col\n",
    "* 1015-4\n",
    "  * 0.6811\n",
    "  * 不做证据权重\n",
    "* 1015-5\n",
    "  * 0.6765\n",
    "  * gamma=0\n",
    "* 1016-1\n",
    "  * 0.6798\n",
    "  * 添加gamma\n",
    "  * 增大early stop round\n",
    "* 1016-2\n",
    "  * 0.6858\n",
    "  * early stop round=10\n",
    "  * 证据权重\n",
    "* 1016-3\n",
    "  * 0.685799\n",
    "  * 使用原始type-col\n",
    "* 1017-2\n",
    "  * 0.6655\n"
   ]
  }
 ],
 "metadata": {
  "kernelspec": {
   "display_name": "Python 3.9.12 ('base')",
   "language": "python",
   "name": "python3"
  },
  "language_info": {
   "codemirror_mode": {
    "name": "ipython",
    "version": 3
   },
   "file_extension": ".py",
   "mimetype": "text/x-python",
   "name": "python",
   "nbconvert_exporter": "python",
   "pygments_lexer": "ipython3",
   "version": "3.9.12"
  },
  "orig_nbformat": 4,
  "vscode": {
   "interpreter": {
    "hash": "ad2bdc8ecc057115af97d19610ffacc2b4e99fae6737bb82f5d7fb13d2f2c186"
   }
  }
 },
 "nbformat": 4,
 "nbformat_minor": 2
}
