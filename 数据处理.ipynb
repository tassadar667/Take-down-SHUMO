{
 "cells": [
  {
   "cell_type": "markdown",
   "metadata": {},
   "source": [
    "# 数据读入模块"
   ]
  },
  {
   "cell_type": "code",
   "execution_count": 1,
   "metadata": {},
   "outputs": [],
   "source": [
    "import pandas as pd\n",
    "\n",
    "\n",
    "\n",
    "train_data = pd.read_csv(\"data\\main\\df_train_b1.csv\", index_col=0)\n",
    "test_data = pd.read_csv('data\\main\\df_test_b1.csv', index_col=0)\n"
   ]
  },
  {
   "cell_type": "markdown",
   "metadata": {},
   "source": [
    "## 要读入除了main之外的数在此处添加"
   ]
  },
  {
   "cell_type": "code",
   "execution_count": 2,
   "metadata": {},
   "outputs": [],
   "source": [
    "import os\n",
    "filenames = [\"data\\detail\\df_basic_b1.csv\",\n",
    "             \"data\\detail\\df_corp_b1.csv\",\n",
    "             \"data\\detail\\df_judicial_b1.csv\",\n",
    "             \"data\\detail\\df_loan2_b1.csv\",\n",
    "             \"data\\detail\\df_query_b1.csv\"]\n",
    "for filename in filenames:\n",
    "    temp = pd.read_csv(filename)\n",
    "    train_data = pd.merge(train_data, temp, on=\"cust_id\",\n",
    "                          how=\"left\", suffixes=(\"\", \"_y\"))\n",
    "    test_data = pd.merge(test_data, temp, on=\"cust_id\",\n",
    "                         how=\"left\", suffixes=(\"\", \"_y\"))\n"
   ]
  },
  {
   "cell_type": "code",
   "execution_count": 3,
   "metadata": {},
   "outputs": [],
   "source": [
    "train_data['is_judicial']=[0 if pd.isna(i) else 1 for i in train_data['judicial_reason']]\n",
    "test_data['is_judicial']=[0 if pd.isna(i) else 1 for i in test_data['judicial_reason']]"
   ]
  },
  {
   "cell_type": "code",
   "execution_count": 4,
   "metadata": {},
   "outputs": [],
   "source": [
    "train_data['nan_num']=(train_data==0).astype(int).sum(axis=1)\n",
    "test_data['nan_num']=(test_data==0).astype(int).sum(axis=1)"
   ]
  },
  {
   "cell_type": "code",
   "execution_count": 5,
   "metadata": {},
   "outputs": [
    {
     "name": "stdout",
     "output_type": "stream",
     "text": [
      "loan1_1_mean已存在\n",
      "loan1_1_sum已存在\n",
      "loan1_1_count已存在\n",
      "loan1_3_mean已存在\n",
      "loan1_3_sum已存在\n",
      "loan1_3_count已存在\n",
      "loan1_7_mean已存在\n",
      "loan1_7_sum已存在\n",
      "loan1_7_count已存在\n",
      "loan1_9_mean已存在\n",
      "loan1_9_sum已存在\n",
      "loan1_9_count已存在\n",
      "date_3_count已存在\n",
      "loan1_10_mean已存在\n",
      "loan1_11_sum已存在\n",
      "loan1_12_sum已存在\n"
     ]
    }
   ],
   "source": [
    "import pandas as pd\n",
    "temp_df = pd.read_csv(\"./data/detail/df_loan1_b1.csv\")\n",
    "\n",
    "\n",
    "def chuli_loan(df, colname, ways):\n",
    "    cust_id = list(set(df['cust_id']))\n",
    "    res_df = pd.DataFrame({'cust_id': cust_id})\n",
    "    temp_train = pd.read_csv('./data/df_train.csv')\n",
    "    temp_test = pd.read_csv('./data/df_test.csv')\n",
    "\n",
    "    ways_1 = []\n",
    "    temp = list(temp_test.columns)\n",
    "    global train_data,test_data\n",
    "\n",
    "    for i in ways:\n",
    "        if (colname+'_'+i) not in temp:\n",
    "            ways_1.append(i)\n",
    "            res_df[colname+'_'+i] = None\n",
    "        else:\n",
    "            print(colname+'_'+i+'已存在')\n",
    "            train_data = pd.merge(train_data, temp_train[['cust_id', colname+'_'+i]], on=\"cust_id\",\n",
    "                                  how=\"left\", suffixes=(\"\", \"_y\"))\n",
    "            test_data = pd.merge(test_data, temp_test[['cust_id', colname+'_'+i]], on=\"cust_id\",\n",
    "                                 how=\"left\", suffixes=(\"\", \"_y\"))\n",
    "    ways = ways_1\n",
    "    if len(ways) == 0:\n",
    "        return res_df\n",
    "    for i in cust_id:\n",
    "        cust_df = df[df['cust_id'] == i]\n",
    "        if 'mean' in ways:\n",
    "            x = cust_df[colname].mean()\n",
    "            res_df.loc[i, colname+'_mean'] = x\n",
    "        if 'sum' in ways:\n",
    "            x = cust_df[colname].sum()\n",
    "            res_df.loc[i, colname+'_sum'] = x\n",
    "        if 'count' in ways:\n",
    "            x = cust_df[colname].count()\n",
    "            res_df.loc[i, colname+'_count'] = x\n",
    "    return res_df\n",
    "\n",
    "\n",
    "for colname in ['loan1_1', 'loan1_3', 'loan1_7', 'loan1_9']:\n",
    "    df = chuli_loan(temp_df, colname, ('mean', 'sum', 'count'))\n",
    "    train_data = pd.merge(train_data, df, on=\"cust_id\",\n",
    "                          how=\"left\", suffixes=(\"\", \"_y\"))\n",
    "    test_data = pd.merge(test_data, df, on=\"cust_id\",\n",
    "                         how=\"left\", suffixes=(\"\", \"_y\"))\n",
    "\n",
    "df = chuli_loan(temp_df, 'date_3', ('count',))\n",
    "train_data = pd.merge(train_data, df, on=\"cust_id\",\n",
    "                      how=\"left\", suffixes=(\"\", \"_y\"))\n",
    "test_data = pd.merge(test_data, df, on=\"cust_id\",\n",
    "                     how=\"left\", suffixes=(\"\", \"_y\"))\n",
    "\n",
    "df = chuli_loan(temp_df, 'loan1_10', ('mean',))\n",
    "train_data = pd.merge(train_data, df, on=\"cust_id\",\n",
    "                      how=\"left\", suffixes=(\"\", \"_y\"))\n",
    "test_data = pd.merge(test_data, df, on=\"cust_id\",\n",
    "                     how=\"left\", suffixes=(\"\", \"_y\"))\n",
    "\n",
    "df = chuli_loan(temp_df, 'loan1_11', ('sum',))\n",
    "train_data = pd.merge(train_data, df, on=\"cust_id\",\n",
    "                      how=\"left\", suffixes=(\"\", \"_y\"))\n",
    "test_data = pd.merge(test_data, df, on=\"cust_id\",\n",
    "                     how=\"left\", suffixes=(\"\", \"_y\"))\n",
    "\n",
    "df = chuli_loan(temp_df, 'loan1_12', ('sum',))\n",
    "train_data = pd.merge(train_data, df, on=\"cust_id\",\n",
    "                      how=\"left\", suffixes=(\"\", \"_y\"))\n",
    "test_data = pd.merge(test_data, df, on=\"cust_id\",\n",
    "                     how=\"left\", suffixes=(\"\", \"_y\"))\n"
   ]
  },
  {
   "cell_type": "markdown",
   "metadata": {},
   "source": [
    "## 处理NAN"
   ]
  },
  {
   "cell_type": "code",
   "execution_count": 6,
   "metadata": {},
   "outputs": [],
   "source": [
    "def delnan(df):\n",
    "    df = df.dropna(how=\"all\", axis=1)  # 删除全是空值的列\n",
    "    df = df.fillna(-99)\n",
    "    return df\n"
   ]
  },
  {
   "cell_type": "code",
   "execution_count": 7,
   "metadata": {},
   "outputs": [],
   "source": [
    "df_train = delnan(train_data)\n",
    "df_test = delnan(test_data)"
   ]
  },
  {
   "cell_type": "markdown",
   "metadata": {},
   "source": [
    "## 处理-99"
   ]
  },
  {
   "cell_type": "code",
   "execution_count": 8,
   "metadata": {},
   "outputs": [],
   "source": [
    "df_train.replace(-99,-1,inplace=True)\n",
    "df_test.replace(-99,-1,inplace=True)"
   ]
  },
  {
   "cell_type": "code",
   "execution_count": 9,
   "metadata": {},
   "outputs": [],
   "source": [
    "df_train.to_csv('./data/df_train.csv')\n",
    "df_test.to_csv('./data/df_test.csv')"
   ]
  },
  {
   "cell_type": "markdown",
   "metadata": {},
   "source": [
    "## 主成分分析（效果不好）"
   ]
  },
  {
   "cell_type": "code",
   "execution_count": 10,
   "metadata": {},
   "outputs": [],
   "source": [
    "# from sklearn.decomposition import PCA\n",
    "\n",
    "# full_col_name = list(df_train.columns)\n",
    "# pca_col=[i for i in full_col_name if \"loan\" in i]\n",
    "\n",
    "# modelPCA=PCA(n_components=0.9)\n",
    "# temp=modelPCA.fit_transform(df_train[pca_col])\n",
    "# temp1=modelPCA.transform(df_test[pca_col])\n",
    "# for i in range(temp.shape[1]):\n",
    "#     df_train['loan_pca'+str(i)]=temp[:,i]\n",
    "#     df_test['loan_pca'+str(i)]=temp1[:,i]"
   ]
  },
  {
   "cell_type": "markdown",
   "metadata": {},
   "source": [
    "## 处理分类变量"
   ]
  },
  {
   "cell_type": "code",
   "execution_count": 11,
   "metadata": {},
   "outputs": [],
   "source": [
    "type_col = [\"basic_1\",\n",
    "            \"basic_10\",\n",
    "            \"basic_12\",\n",
    "            \"basic_14\",\n",
    "            \"loan1_16\",\n",
    "            \"loan1_20\",\n",
    "            \"loan1_23\",\n",
    "            \"loan1_25\",]"
   ]
  },
  {
   "cell_type": "markdown",
   "metadata": {},
   "source": [
    "## 转化为one-hot编码（不宜采用）"
   ]
  },
  {
   "cell_type": "code",
   "execution_count": 12,
   "metadata": {},
   "outputs": [
    {
     "data": {
      "text/plain": [
       "' df_train = to_one_hot(df_train, type_col)\\ndf_test = to_one_hot(df_test, type_col)\\nfor i in df_train.columns:\\n    if i not in df_test.columns:\\n        df_test[i] = 0\\n '"
      ]
     },
     "execution_count": 12,
     "metadata": {},
     "output_type": "execute_result"
    }
   ],
   "source": [
    "\n",
    "def to_one_hot(df, colnames):\n",
    "    df = pd.get_dummies(df, columns=colnames)\n",
    "    return df\n",
    "\n",
    "\n",
    "\"\"\" df_train = to_one_hot(df_train, type_col)\n",
    "df_test = to_one_hot(df_test, type_col)\n",
    "for i in df_train.columns:\n",
    "    if i not in df_test.columns:\n",
    "        df_test[i] = 0\n",
    " \"\"\""
   ]
  },
  {
   "cell_type": "markdown",
   "metadata": {},
   "source": [
    "## 证据权重"
   ]
  },
  {
   "cell_type": "code",
   "execution_count": 13,
   "metadata": {},
   "outputs": [],
   "source": [
    "import pandas as pd\n",
    "import numpy as np\n",
    "\n",
    "def cal_woe(df,df_no_label,x_cols,y_col):\n",
    "    for i in x_cols:\n",
    "        x_set=pd.unique(df[i])\n",
    "        for j in x_set:\n",
    "            woe=np.mean(df[df[i]==j][y_col])\n",
    "            df[i].replace(j,woe,inplace=True)\n",
    "            df_no_label[i].replace(j,woe,inplace=True)\n",
    "    return df,df_no_label"
   ]
  },
  {
   "cell_type": "code",
   "execution_count": 14,
   "metadata": {},
   "outputs": [],
   "source": [
    "df_train,df_test=cal_woe(df_train,df_test,type_col,\"label\")"
   ]
  },
  {
   "cell_type": "code",
   "execution_count": 15,
   "metadata": {},
   "outputs": [
    {
     "data": {
      "text/plain": [
       "' for i in judicial_col:\\n    df_train[i].astype(\"float\")\\n    df_test[i].astype(\"float\") '"
      ]
     },
     "execution_count": 15,
     "metadata": {},
     "output_type": "execute_result"
    }
   ],
   "source": [
    "full_col_name = list(df_train.columns)\n",
    "basic_col = [i for i in full_col_name if \"basic\" in i]\n",
    "loan_col = [i for i in full_col_name if \"loan\" in i]\n",
    "overdue_col = [i for i in full_col_name if \"overdue\" in i]\n",
    "query_col = [i for i in full_col_name if \"query\" in i]\n",
    "judicial_col=[i for i in full_col_name if \"judicial\" in i]\n",
    "loan_pca_col=[i for i in full_col_name if \"loan_pca\" in i]\n",
    "\n",
    "\"\"\" for i in judicial_col:\n",
    "    df_train[i].astype(\"float\")\n",
    "    df_test[i].astype(\"float\") \"\"\""
   ]
  },
  {
   "cell_type": "markdown",
   "metadata": {},
   "source": [
    "## rank化"
   ]
  },
  {
   "cell_type": "code",
   "execution_count": 16,
   "metadata": {},
   "outputs": [],
   "source": [
    "def rank(rank_col):\n",
    "    global df_train,df_test\n",
    "    df1=df_train[['cust_id']+rank_col]\n",
    "    df2=df_test[['cust_id']+rank_col]\n",
    "    df=pd.concat([df1,df2],axis=0,ignore_index=True)\n",
    "    for i in rank_col:\n",
    "        df[i]=np.argsort(df[i])\n",
    "        del df_test[i]\n",
    "        del df_train[i]\n",
    "    df_train = pd.merge(df_train, df, on=\"cust_id\",\n",
    "                      how=\"left\", suffixes=(\"\", \"_y\"))\n",
    "    df_test = pd.merge(df_test, df, on=\"cust_id\",\n",
    "                     how=\"left\", suffixes=(\"\", \"_y\"))\n",
    "a=['loan1_1', 'loan1_3', 'loan1_7', 'loan1_9']\n",
    "b=['_sum','_mean']\n",
    "c=[]\n",
    "for i in a:\n",
    "    for j in b:\n",
    "        c.append(i+j)\n",
    "rank(c)"
   ]
  },
  {
   "cell_type": "markdown",
   "metadata": {},
   "source": [
    "## 设置哪些x作为模型自变量输入"
   ]
  },
  {
   "cell_type": "code",
   "execution_count": 17,
   "metadata": {},
   "outputs": [],
   "source": [
    "x_col = basic_col+['is_judicial']+loan_col+['date_3_count']"
   ]
  },
  {
   "cell_type": "code",
   "execution_count": 18,
   "metadata": {},
   "outputs": [],
   "source": [
    "# df_train.drop(columns=drop_col)"
   ]
  },
  {
   "cell_type": "markdown",
   "metadata": {},
   "source": [
    "# 训练模型"
   ]
  },
  {
   "cell_type": "markdown",
   "metadata": {},
   "source": [
    "## 超参数"
   ]
  },
  {
   "cell_type": "code",
   "execution_count": 19,
   "metadata": {},
   "outputs": [],
   "source": [
    "N = 100\n",
    "num_round = 100\n",
    "local_test_size=3000\n",
    "\n",
    "max_depth = [3, 4, 5,6,7,8]\n",
    "eta = [0.1,0.06]\n",
    "colsample_bytree = [0.8,0.7, 0.6]\n",
    "scale_pos_weight = [1, 3, 6, 10,20, 30]\n",
    "test_size=[0.3,0.5,0.7]\n",
    "subsample=[0.7,0.6,0.5]\n",
    "par_lambda=[1,1.5,2,3]\n",
    "alpha=[0,0.2,0.4,0.6,0.8]\n",
    "min_child_weight=[1,2,3,4,5]\n"
   ]
  },
  {
   "cell_type": "markdown",
   "metadata": {},
   "source": [
    "### train划分为\n",
    "* 本地测试集（固定）d_localtest\n",
    "* 训练集（固定）\n",
    "  * 评估集（每次的模型不同）dtest\n",
    "  * 真正的训练集（每次的模型不同）dtrain"
   ]
  },
  {
   "cell_type": "code",
   "execution_count": 20,
   "metadata": {},
   "outputs": [
    {
     "name": "stdout",
     "output_type": "stream",
     "text": [
      "1:0.6305845712440381\n",
      "2:0.6685089108107011\n",
      "3:0.6225054419628814\n",
      "4:0.6180963485372072\n",
      "5:0.6226254891931986\n",
      "6:0.6346125616021809\n",
      "7:0.660482550508126\n",
      "8:0.6420481811309857\n",
      "9:0.6499442743523248\n",
      "10:0.6246461559996009\n",
      "11:0.5880250434883623\n",
      "12:0.6600374429987867\n",
      "13:0.6404824344646909\n",
      "14:0.6284408177153074\n",
      "15:0.6519773793103448\n",
      "16:0.6825379972549726\n",
      "17:0.5629955015733487\n",
      "18:0.6589394792399719\n",
      "19:0.6267996429818774\n",
      "20:0.6111701272103724\n",
      "21:0.6221250067007718\n",
      "22:0.637353277704155\n",
      "23:0.6702207878694739\n",
      "24:0.6354892148104461\n",
      "25:0.6647911635456669\n",
      "26:0.6690153771639321\n",
      "27:0.6079798378978921\n",
      "28:0.6383439458619279\n",
      "29:0.6093731441819285\n",
      "30:0.6853300455683052\n",
      "31:0.6158580859231287\n",
      "32:0.6549385922398674\n",
      "33:0.6197712550183696\n",
      "34:0.6705520730037304\n",
      "35:0.6153748820051669\n",
      "36:0.6271076343381389\n",
      "37:0.6428174074584437\n",
      "38:0.6734206896551724\n",
      "39:0.6336094287772471\n",
      "40:0.6550549852835659\n",
      "41:0.654303551369335\n",
      "42:0.5929187818930041\n",
      "43:0.6181837692922637\n",
      "44:0.5992764046681207\n",
      "45:0.6022089934602379\n",
      "46:0.6513030042242691\n",
      "47:0.6187526218216756\n",
      "48:0.6295417151095877\n",
      "49:0.6182695259007414\n",
      "50:0.6330349553761156\n",
      "51:0.6523789764868603\n",
      "52:0.6036923608159795\n",
      "53:0.6154174086495806\n",
      "54:0.6749690095921704\n",
      "55:0.6409428706469162\n",
      "56:0.6555055307645087\n",
      "57:0.5282426375744272\n",
      "58:0.6344523269257316\n",
      "59:0.6544046437058498\n",
      "60:0.6738157946705303\n",
      "61:0.659739364613949\n",
      "62:0.6320206896551724\n",
      "63:0.6082070135364362\n",
      "64:0.625611719082023\n",
      "65:0.6564526668083298\n",
      "66:0.6320719723183391\n",
      "67:0.6231855368293244\n",
      "68:0.6183335505873767\n",
      "69:0.6375015849424847\n",
      "70:0.6454111772205695\n",
      "71:0.6523739991765654\n",
      "72:0.6765072064527968\n",
      "73:0.6153448445008616\n",
      "74:0.661803957920614\n",
      "75:0.6535737724541012\n",
      "76:0.676205501317792\n",
      "77:0.684819041831007\n",
      "78:0.6468321492448331\n",
      "79:0.6291209466728139\n",
      "80:0.6326963897714832\n",
      "81:0.6222386204485054\n",
      "82:0.674772577702037\n",
      "83:0.6865733007054983\n",
      "84:0.6345174063202319\n",
      "85:0.663732386894902\n",
      "86:0.6480133956372436\n",
      "87:0.6037689734503539\n",
      "88:0.6427590016772404\n",
      "89:0.5847595992976482\n",
      "90:0.6451968464536503\n",
      "91:0.6365783042923927\n",
      "92:0.6885198381285438\n",
      "93:0.6638228652229111\n",
      "94:0.6775418538178849\n",
      "95:0.6388273532605308\n",
      "96:0.6262922008002649\n",
      "97:0.6502615351949764\n",
      "98:0.6414665128450667\n",
      "99:0.5971803359306456\n",
      "100:0.6688746776466075\n",
      "最大AUC:0.7301030927835052\n"
     ]
    }
   ],
   "source": [
    "import copy\n",
    "import xgboost as xgb\n",
    "import random\n",
    "from sklearn import model_selection\n",
    "from sklearn.metrics import roc_auc_score\n",
    "\n",
    "\n",
    "pred_labels = []\n",
    "local_test_labels = []\n",
    "loss_seq = []\n",
    "max_auc_loss = 0\n",
    "flag=0\n",
    "important_x_seq=[]\n",
    "\n",
    "num_seq=list(range(len(df_train)))\n",
    "np.random.shuffle(num_seq)\n",
    "\n",
    "X_local_test=df_train[x_col].iloc[num_seq[0:local_test_size]]\n",
    "Y_local_test=df_train[\"label\"].iloc[num_seq[0:local_test_size]]\n",
    "\n",
    "d_localtest=xgb.DMatrix(X_local_test,label=Y_local_test)\n",
    "\n",
    "X = df_train[x_col].iloc[num_seq[local_test_size:len(df_train)]]\n",
    "Y = df_train['label'].iloc[num_seq[local_test_size:len(df_train)]]\n",
    "x_perd = xgb.DMatrix(df_test[x_col])\n",
    "\n",
    "for i in range(N):\n",
    "\n",
    "    #seed = 666\n",
    "    test_size_this_round=random.choice(test_size)\n",
    "    X_train, X_test, y_train, y_test = model_selection.train_test_split(\n",
    "        X, Y, test_size=test_size_this_round)\n",
    "    # seed+=1\n",
    "\n",
    "    \n",
    "    dtrain = xgb.DMatrix(X_train, label=y_train)\n",
    "    dtest = xgb.DMatrix(X_test, label=y_test)\n",
    "    evallist = [(dtest, 'eval')]\n",
    "\n",
    "    param = {\n",
    "        'max_depth': random.choice(max_depth),\n",
    "        'eta': random.choice(eta),\n",
    "        'colsample_bytree': random.choice(colsample_bytree),\n",
    "        'objective': 'binary:logistic',\n",
    "        #'verbosity':0,\n",
    "        'scale_pos_weight': random.choice(scale_pos_weight),\n",
    "        'eval_metric': 'auc',\n",
    "        'subsample':random.choice(subsample),\n",
    "        'alpha':random.choice(alpha),\n",
    "        'lambda':random.choice(par_lambda),\n",
    "        'min_child_weight':random.choice(min_child_weight),\n",
    "        #'seed': 666,\n",
    "        'tree_method': 'gpu_hist',\n",
    "        'gpu_id': 0,\n",
    "        #\"enable_enable_categorical\":True,\n",
    "    }\n",
    "    \n",
    "    bst = xgb.train(param, dtrain, num_round, evals=evallist,\n",
    "                    early_stopping_rounds=5, verbose_eval=False)\n",
    "    \n",
    "    loss = float(bst.eval(dtest).split(\":\")[1])\n",
    "    train_loss = float(bst.eval(dtrain).split(\":\")[1])\n",
    "    local_test_loss = float(bst.eval(d_localtest).split(\":\")[1])\n",
    "\n",
    "    pred_label = list(bst.predict(x_perd))\n",
    "    test_label = list(bst.predict(xgb.DMatrix(X_local_test)))\n",
    "    # temp=roc_auc_score(y_test,test_label)\n",
    "    # print(test_label[0:10])\n",
    "\n",
    "\n",
    "    temp_dict={\"test_auc\":loss,\"train_auc\":train_loss,'local_test_auc':local_test_loss,'test_size':test_size_this_round}\n",
    "    temp_dict.update(param)\n",
    "\n",
    "    #info_df=info_df.append(pd.DataFrame(temp_dict))\n",
    "    if flag==0:\n",
    "        info_df=pd.DataFrame(temp_dict,index=[i])\n",
    "        flag=1\n",
    "    else:\n",
    "        info_df=pd.concat([info_df,pd.DataFrame(temp_dict,index=[i])])\n",
    "\n",
    "    if loss > max_auc_loss:\n",
    "        best_bst = copy.deepcopy(bst)\n",
    "        max_auc_loss = loss\n",
    "    \n",
    "    if False:\n",
    "        pic=xgb.plot_importance(bst,max_num_features=50)\n",
    "        temp=pic.get_ymajorticklabels()\n",
    "        important_x=[str(i).split(\"\\'\")[1] for i in temp]\n",
    "        important_x.reverse()\n",
    "        important_x_seq+=important_x\n",
    "\n",
    "    print(i+1, \":\", loss, sep=\"\")\n",
    "    #print(param)\n",
    "    #print(\"-------------------------\")\n",
    "    pred_labels.append([j for j in pred_label])\n",
    "    local_test_labels.append(copy.deepcopy(test_label))\n",
    "\n",
    "\n",
    "print('最大AUC:', max(info_df['local_test_auc']), sep=\"\")"
   ]
  },
  {
   "cell_type": "code",
   "execution_count": 21,
   "metadata": {},
   "outputs": [
    {
     "data": {
      "text/html": [
       "<div>\n",
       "<style scoped>\n",
       "    .dataframe tbody tr th:only-of-type {\n",
       "        vertical-align: middle;\n",
       "    }\n",
       "\n",
       "    .dataframe tbody tr th {\n",
       "        vertical-align: top;\n",
       "    }\n",
       "\n",
       "    .dataframe thead th {\n",
       "        text-align: right;\n",
       "    }\n",
       "</style>\n",
       "<table border=\"1\" class=\"dataframe\">\n",
       "  <thead>\n",
       "    <tr style=\"text-align: right;\">\n",
       "      <th></th>\n",
       "      <th>test_auc</th>\n",
       "      <th>train_auc</th>\n",
       "      <th>local_test_auc</th>\n",
       "      <th>test_size</th>\n",
       "      <th>max_depth</th>\n",
       "      <th>eta</th>\n",
       "      <th>colsample_bytree</th>\n",
       "      <th>objective</th>\n",
       "      <th>scale_pos_weight</th>\n",
       "      <th>eval_metric</th>\n",
       "      <th>subsample</th>\n",
       "      <th>alpha</th>\n",
       "      <th>lambda</th>\n",
       "      <th>min_child_weight</th>\n",
       "      <th>tree_method</th>\n",
       "      <th>gpu_id</th>\n",
       "    </tr>\n",
       "  </thead>\n",
       "  <tbody>\n",
       "    <tr>\n",
       "      <th>0</th>\n",
       "      <td>0.630585</td>\n",
       "      <td>0.954127</td>\n",
       "      <td>0.659641</td>\n",
       "      <td>0.3</td>\n",
       "      <td>8</td>\n",
       "      <td>0.06</td>\n",
       "      <td>0.8</td>\n",
       "      <td>binary:logistic</td>\n",
       "      <td>6</td>\n",
       "      <td>auc</td>\n",
       "      <td>0.6</td>\n",
       "      <td>0.4</td>\n",
       "      <td>1.5</td>\n",
       "      <td>4</td>\n",
       "      <td>gpu_hist</td>\n",
       "      <td>0</td>\n",
       "    </tr>\n",
       "    <tr>\n",
       "      <th>1</th>\n",
       "      <td>0.668509</td>\n",
       "      <td>0.999777</td>\n",
       "      <td>0.697625</td>\n",
       "      <td>0.5</td>\n",
       "      <td>8</td>\n",
       "      <td>0.06</td>\n",
       "      <td>0.8</td>\n",
       "      <td>binary:logistic</td>\n",
       "      <td>10</td>\n",
       "      <td>auc</td>\n",
       "      <td>0.6</td>\n",
       "      <td>0.8</td>\n",
       "      <td>3.0</td>\n",
       "      <td>1</td>\n",
       "      <td>gpu_hist</td>\n",
       "      <td>0</td>\n",
       "    </tr>\n",
       "    <tr>\n",
       "      <th>2</th>\n",
       "      <td>0.622505</td>\n",
       "      <td>0.805765</td>\n",
       "      <td>0.668177</td>\n",
       "      <td>0.5</td>\n",
       "      <td>8</td>\n",
       "      <td>0.06</td>\n",
       "      <td>0.6</td>\n",
       "      <td>binary:logistic</td>\n",
       "      <td>1</td>\n",
       "      <td>auc</td>\n",
       "      <td>0.5</td>\n",
       "      <td>0.4</td>\n",
       "      <td>1.0</td>\n",
       "      <td>1</td>\n",
       "      <td>gpu_hist</td>\n",
       "      <td>0</td>\n",
       "    </tr>\n",
       "    <tr>\n",
       "      <th>3</th>\n",
       "      <td>0.618096</td>\n",
       "      <td>0.962066</td>\n",
       "      <td>0.691447</td>\n",
       "      <td>0.7</td>\n",
       "      <td>5</td>\n",
       "      <td>0.10</td>\n",
       "      <td>0.8</td>\n",
       "      <td>binary:logistic</td>\n",
       "      <td>10</td>\n",
       "      <td>auc</td>\n",
       "      <td>0.7</td>\n",
       "      <td>0.2</td>\n",
       "      <td>1.5</td>\n",
       "      <td>1</td>\n",
       "      <td>gpu_hist</td>\n",
       "      <td>0</td>\n",
       "    </tr>\n",
       "    <tr>\n",
       "      <th>4</th>\n",
       "      <td>0.622625</td>\n",
       "      <td>0.837949</td>\n",
       "      <td>0.645449</td>\n",
       "      <td>0.5</td>\n",
       "      <td>7</td>\n",
       "      <td>0.10</td>\n",
       "      <td>0.7</td>\n",
       "      <td>binary:logistic</td>\n",
       "      <td>1</td>\n",
       "      <td>auc</td>\n",
       "      <td>0.6</td>\n",
       "      <td>0.8</td>\n",
       "      <td>2.0</td>\n",
       "      <td>5</td>\n",
       "      <td>gpu_hist</td>\n",
       "      <td>0</td>\n",
       "    </tr>\n",
       "    <tr>\n",
       "      <th>...</th>\n",
       "      <td>...</td>\n",
       "      <td>...</td>\n",
       "      <td>...</td>\n",
       "      <td>...</td>\n",
       "      <td>...</td>\n",
       "      <td>...</td>\n",
       "      <td>...</td>\n",
       "      <td>...</td>\n",
       "      <td>...</td>\n",
       "      <td>...</td>\n",
       "      <td>...</td>\n",
       "      <td>...</td>\n",
       "      <td>...</td>\n",
       "      <td>...</td>\n",
       "      <td>...</td>\n",
       "      <td>...</td>\n",
       "    </tr>\n",
       "    <tr>\n",
       "      <th>95</th>\n",
       "      <td>0.626292</td>\n",
       "      <td>0.938115</td>\n",
       "      <td>0.665137</td>\n",
       "      <td>0.7</td>\n",
       "      <td>5</td>\n",
       "      <td>0.06</td>\n",
       "      <td>0.8</td>\n",
       "      <td>binary:logistic</td>\n",
       "      <td>6</td>\n",
       "      <td>auc</td>\n",
       "      <td>0.6</td>\n",
       "      <td>0.4</td>\n",
       "      <td>1.5</td>\n",
       "      <td>4</td>\n",
       "      <td>gpu_hist</td>\n",
       "      <td>0</td>\n",
       "    </tr>\n",
       "    <tr>\n",
       "      <th>96</th>\n",
       "      <td>0.650262</td>\n",
       "      <td>0.999934</td>\n",
       "      <td>0.671363</td>\n",
       "      <td>0.7</td>\n",
       "      <td>8</td>\n",
       "      <td>0.10</td>\n",
       "      <td>0.8</td>\n",
       "      <td>binary:logistic</td>\n",
       "      <td>30</td>\n",
       "      <td>auc</td>\n",
       "      <td>0.7</td>\n",
       "      <td>0.2</td>\n",
       "      <td>1.5</td>\n",
       "      <td>5</td>\n",
       "      <td>gpu_hist</td>\n",
       "      <td>0</td>\n",
       "    </tr>\n",
       "    <tr>\n",
       "      <th>97</th>\n",
       "      <td>0.641467</td>\n",
       "      <td>0.988803</td>\n",
       "      <td>0.697881</td>\n",
       "      <td>0.5</td>\n",
       "      <td>7</td>\n",
       "      <td>0.10</td>\n",
       "      <td>0.6</td>\n",
       "      <td>binary:logistic</td>\n",
       "      <td>30</td>\n",
       "      <td>auc</td>\n",
       "      <td>0.7</td>\n",
       "      <td>0.6</td>\n",
       "      <td>1.0</td>\n",
       "      <td>3</td>\n",
       "      <td>gpu_hist</td>\n",
       "      <td>0</td>\n",
       "    </tr>\n",
       "    <tr>\n",
       "      <th>98</th>\n",
       "      <td>0.597180</td>\n",
       "      <td>0.985207</td>\n",
       "      <td>0.639374</td>\n",
       "      <td>0.7</td>\n",
       "      <td>8</td>\n",
       "      <td>0.10</td>\n",
       "      <td>0.8</td>\n",
       "      <td>binary:logistic</td>\n",
       "      <td>20</td>\n",
       "      <td>auc</td>\n",
       "      <td>0.5</td>\n",
       "      <td>0.4</td>\n",
       "      <td>1.0</td>\n",
       "      <td>2</td>\n",
       "      <td>gpu_hist</td>\n",
       "      <td>0</td>\n",
       "    </tr>\n",
       "    <tr>\n",
       "      <th>99</th>\n",
       "      <td>0.668875</td>\n",
       "      <td>0.894017</td>\n",
       "      <td>0.684658</td>\n",
       "      <td>0.3</td>\n",
       "      <td>5</td>\n",
       "      <td>0.06</td>\n",
       "      <td>0.8</td>\n",
       "      <td>binary:logistic</td>\n",
       "      <td>20</td>\n",
       "      <td>auc</td>\n",
       "      <td>0.7</td>\n",
       "      <td>0.8</td>\n",
       "      <td>2.0</td>\n",
       "      <td>2</td>\n",
       "      <td>gpu_hist</td>\n",
       "      <td>0</td>\n",
       "    </tr>\n",
       "  </tbody>\n",
       "</table>\n",
       "<p>100 rows × 16 columns</p>\n",
       "</div>"
      ],
      "text/plain": [
       "    test_auc  train_auc  local_test_auc  test_size  max_depth   eta  \\\n",
       "0   0.630585   0.954127        0.659641        0.3          8  0.06   \n",
       "1   0.668509   0.999777        0.697625        0.5          8  0.06   \n",
       "2   0.622505   0.805765        0.668177        0.5          8  0.06   \n",
       "3   0.618096   0.962066        0.691447        0.7          5  0.10   \n",
       "4   0.622625   0.837949        0.645449        0.5          7  0.10   \n",
       "..       ...        ...             ...        ...        ...   ...   \n",
       "95  0.626292   0.938115        0.665137        0.7          5  0.06   \n",
       "96  0.650262   0.999934        0.671363        0.7          8  0.10   \n",
       "97  0.641467   0.988803        0.697881        0.5          7  0.10   \n",
       "98  0.597180   0.985207        0.639374        0.7          8  0.10   \n",
       "99  0.668875   0.894017        0.684658        0.3          5  0.06   \n",
       "\n",
       "    colsample_bytree        objective  scale_pos_weight eval_metric  \\\n",
       "0                0.8  binary:logistic                 6         auc   \n",
       "1                0.8  binary:logistic                10         auc   \n",
       "2                0.6  binary:logistic                 1         auc   \n",
       "3                0.8  binary:logistic                10         auc   \n",
       "4                0.7  binary:logistic                 1         auc   \n",
       "..               ...              ...               ...         ...   \n",
       "95               0.8  binary:logistic                 6         auc   \n",
       "96               0.8  binary:logistic                30         auc   \n",
       "97               0.6  binary:logistic                30         auc   \n",
       "98               0.8  binary:logistic                20         auc   \n",
       "99               0.8  binary:logistic                20         auc   \n",
       "\n",
       "    subsample  alpha  lambda  min_child_weight tree_method  gpu_id  \n",
       "0         0.6    0.4     1.5                 4    gpu_hist       0  \n",
       "1         0.6    0.8     3.0                 1    gpu_hist       0  \n",
       "2         0.5    0.4     1.0                 1    gpu_hist       0  \n",
       "3         0.7    0.2     1.5                 1    gpu_hist       0  \n",
       "4         0.6    0.8     2.0                 5    gpu_hist       0  \n",
       "..        ...    ...     ...               ...         ...     ...  \n",
       "95        0.6    0.4     1.5                 4    gpu_hist       0  \n",
       "96        0.7    0.2     1.5                 5    gpu_hist       0  \n",
       "97        0.7    0.6     1.0                 3    gpu_hist       0  \n",
       "98        0.5    0.4     1.0                 2    gpu_hist       0  \n",
       "99        0.7    0.8     2.0                 2    gpu_hist       0  \n",
       "\n",
       "[100 rows x 16 columns]"
      ]
     },
     "execution_count": 21,
     "metadata": {},
     "output_type": "execute_result"
    }
   ],
   "source": [
    "info_df"
   ]
  },
  {
   "cell_type": "code",
   "execution_count": 22,
   "metadata": {},
   "outputs": [],
   "source": [
    "info_df.to_csv(\"info.csv\",encoding=\"utf-8\",index=False)"
   ]
  },
  {
   "cell_type": "code",
   "execution_count": 23,
   "metadata": {},
   "outputs": [
    {
     "data": {
      "image/png": "[encoded data removed]",
      "text/plain": [
       "<Figure size 432x288 with 1 Axes>"
      ]
     },
     "metadata": {
      "needs_background": "light"
     },
     "output_type": "display_data"
    }
   ],
   "source": [
    "pic=xgb.plot_importance(best_bst,max_num_features=50)\n",
    "temp=pic.get_ymajorticklabels()\n",
    "important_x=[str(i).split(\"\\'\")[1] for i in temp]\n",
    "important_x.reverse()"
   ]
  },
  {
   "cell_type": "code",
   "execution_count": 24,
   "metadata": {},
   "outputs": [
    {
     "data": {
      "text/plain": [
       "['loan1_32',\n",
       " 'loan2_3_y',\n",
       " 'loan1_33',\n",
       " 'loan1_14',\n",
       " 'loan2_5_y',\n",
       " 'basic_7',\n",
       " 'loan1_9_mean',\n",
       " 'loan1_1_sum',\n",
       " 'loan2_4',\n",
       " 'loan1_31',\n",
       " 'loan1_21',\n",
       " 'loan1_9_sum',\n",
       " 'loan2_3',\n",
       " 'loan1_24',\n",
       " 'loan1_11',\n",
       " 'loan1_5',\n",
       " 'loan1_7_sum',\n",
       " 'loan1_3_mean',\n",
       " 'loan2_2_y',\n",
       " 'loan1_17',\n",
       " 'loan1_15',\n",
       " 'loan1_7',\n",
       " 'loan1_6',\n",
       " 'loan1_3',\n",
       " 'date_3_count',\n",
       " 'loan1_7_mean',\n",
       " 'loan1_3_count',\n",
       " 'loan1_3_sum',\n",
       " 'loan1_1_count',\n",
       " 'loan1_1_mean',\n",
       " 'loan2_11',\n",
       " 'loan2_6',\n",
       " 'loan1_29',\n",
       " 'loan1_28',\n",
       " 'loan1_26',\n",
       " 'loan1_18',\n",
       " 'loan1_16',\n",
       " 'loan1_10',\n",
       " 'basic_3_y',\n",
       " 'basic_1_y',\n",
       " 'basic_13',\n",
       " 'basic_4',\n",
       " 'loan1_9_count',\n",
       " 'loan1_7_count',\n",
       " 'loan2_4_y',\n",
       " 'loan2_12',\n",
       " 'loan2_7',\n",
       " 'loan1_30',\n",
       " 'loan1_27',\n",
       " 'loan1_19']"
      ]
     },
     "execution_count": 24,
     "metadata": {},
     "output_type": "execute_result"
    }
   ],
   "source": [
    "important_x"
   ]
  },
  {
   "cell_type": "code",
   "execution_count": 25,
   "metadata": {},
   "outputs": [],
   "source": [
    "#pd.value_counts(important_x_seq)"
   ]
  },
  {
   "cell_type": "markdown",
   "metadata": {},
   "source": [
    "* basic_7:年龄\n",
    "* "
   ]
  },
  {
   "cell_type": "code",
   "execution_count": 26,
   "metadata": {},
   "outputs": [
    {
     "data": {
      "text/plain": [
       "<matplotlib.collections.PathCollection at 0x17ab887a580>"
      ]
     },
     "execution_count": 26,
     "metadata": {},
     "output_type": "execute_result"
    },
    {
     "data": {
      "image/png": "[encoded data removed]",
      "text/plain": [
       "<Figure size 432x288 with 1 Axes>"
      ]
     },
     "metadata": {
      "needs_background": "light"
     },
     "output_type": "display_data"
    }
   ],
   "source": [
    "import matplotlib.pyplot as plt\n",
    "plt.scatter(info_df['local_test_auc'],info_df['test_auc'])"
   ]
  },
  {
   "cell_type": "markdown",
   "metadata": {},
   "source": [
    "# 输出模块"
   ]
  },
  {
   "cell_type": "code",
   "execution_count": 27,
   "metadata": {},
   "outputs": [
    {
     "name": "stdout",
     "output_type": "stream",
     "text": [
      "本地测试集前100个auc为[0.7301030927835052, 0.7265597556319205, 0.7183123329515082, 0.7164452080946926, 0.7163306605574646, 0.7156987399770905, 0.7141695303550973, 0.7133753340969836, 0.7117812142038946, 0.7106643757159221, 0.7076479572355862, 0.7051030927835051, 0.7044368079419626, 0.7038831615120275, 0.7032187857961054, 0.7029247804505536, 0.7024131347842688, 0.7011569301260023, 0.7010385643375334, 0.6999656357388316, 0.6999045437189767, 0.6997899961817488, 0.6986139747995418, 0.6978808705612829, 0.6976250477281405, 0.6969453990072547, 0.6961683848797251, 0.6959392898052692, 0.6932684230622375, 0.6932283314242077, 0.6932035127911417, 0.692848415425735, 0.6926689576174112, 0.6922394043528064, 0.6917640320733104, 0.6917411225658648, 0.691447117220313, 0.6898930889652539, 0.6882245131729667, 0.686876670484918, 0.6857693776250477, 0.68569683085147, 0.6849522718594884, 0.6846582665139366, 0.6845322642229859, 0.6841790759831997, 0.6837686139747995, 0.683655975563192, 0.6833104238258877, 0.6818804887361588, 0.6803436426116839, 0.6761626575028636, 0.6747231767850325, 0.674131347842688, 0.672737686139748, 0.6721076746849943, 0.6715616647575411, 0.6713631156930125, 0.6710042000763651, 0.670700649102711, 0.6681767850324551, 0.6673329515082093, 0.6651374570446735, 0.6629686903398243, 0.6626956853760978, 0.6625353188239786, 0.660922107674685, 0.6602596410843834, 0.6596410843833524, 0.6587361588392516, 0.6576861397479954, 0.6563573883161512, 0.6547193585337915, 0.6537266132111493, 0.6508972890416189, 0.648384879725086, 0.6482378770523101, 0.647880870561283, 0.6463726613211149, 0.6454486445208095, 0.6431691485299733, 0.6426078655975563, 0.6424780450553647, 0.6393738067964873, 0.6364604810996564, 0.6363306605574647, 0.633405880106911, 0.6311359297441772, 0.6304123711340206, 0.6240626193203512, 0.6234268804887362, 0.6211664757541047, 0.6210500190912562, 0.613802978235968, 0.6074627720504009, 0.6056204658266514, 0.6012600229095074, 0.59422107674685, 0.5363421153111875, 0.5146009927453227]\n"
     ]
    }
   ],
   "source": [
    "import time\n",
    "import numpy as np\n",
    "from sklearn.metrics import roc_auc_score\n",
    "\n",
    "date = time.strftime(\"%Y%m%d-%H%M%S\", time.localtime())\n",
    "res_num = np.argsort([-i for i in info_df['local_test_auc']])\n",
    "\n",
    "# 选择前n个结果进行平均（手动指定or在本地测试集排序选出）\n",
    "if False:\n",
    "    max_auc = -1\n",
    "    list_temp = []\n",
    "    for i in range(N):\n",
    "        list_temp.append(local_test_labels[res_num[i]])\n",
    "        temp = np.mean(list_temp, axis=0)\n",
    "        temp_auc = roc_auc_score(Y_local_test, temp)\n",
    "        print(i, temp_auc)\n",
    "        if temp_auc > max_auc:\n",
    "            max_auc = temp_auc\n",
    "            n = i\n",
    "else:\n",
    "    n = 100\n",
    "    n=min(N,n)\n",
    "\n",
    "res_num = res_num[0:n]\n",
    "\n",
    "final_pred_label = np.mean([pred_labels[i] for i in res_num], axis=0)\n",
    "#local_auc = roc_auc_score(y_test, final_pred_label)\n",
    "print(\"本地测试集前\", n, \"个auc为\", [list(info_df['local_test_auc'])[i] for i in res_num], sep=\"\")\n",
    "#print(\"平均之后AUC为\",local_auc,sep=\"\")\n",
    "\n",
    "res = pd.DataFrame({\n",
    "    'cust_id': list(df_test[\"cust_id\"]),\n",
    "    'label': final_pred_label,\n",
    "})\n",
    "res.to_csv(\"./output/result\"+date+\".csv\", encoding=\"utf-8\", index=False)\n"
   ]
  },
  {
   "cell_type": "markdown",
   "metadata": {},
   "source": []
  },
  {
   "cell_type": "markdown",
   "metadata": {},
   "source": [
    "# 一些tips\n",
    "\n",
    "* 提升n有一定提升(如何确定n？)\n",
    "  * n=40 0.6763\n",
    "  * n=10 0.6728\n",
    "  * n=100 0.6774\n",
    "  * 太大也不好\n",
    "\n",
    "# 一些进展\n",
    "\n",
    "* 随机参数\n",
    "* XGB模型\n",
    "* 本地测试集auc较高（0.75+）\n",
    "* 部分类型变量进行了one-hot处理\n",
    "* 把细分表除了loan与主表合并\n",
    "\n",
    "# tbd\n",
    "\n",
    "* 处理细分表的loan，给出指标\n",
    "* 确定变量类型，以便对所有（or重要）分类变量进行one-hot处理\n",
    "* 新模型？"
   ]
  },
  {
   "cell_type": "markdown",
   "metadata": {},
   "source": [
    "## 10-12\n",
    "* 0.6824（这次我留了代码\\doge）\n",
    "* 把-99变为-1，本地有提升\n",
    "* 划出了一个本地测试集\n",
    "  * 本地测试集（固定）d_localtest\n",
    "  * 训练集（固定）\n",
    "    * 评估集（每次的模型不同）dtest\n",
    "    * 真正的训练集（每次的模型不同）dtrain\n",
    "* 添加参数nan_num（然并卵）\n",
    "* tbd\n",
    "  * 找特征\n",
    "  * 加x\n",
    "  * 分析一下参数作用"
   ]
  }
 ],
 "metadata": {
  "kernelspec": {
   "display_name": "Python 3.9.12 ('base')",
   "language": "python",
   "name": "python3"
  },
  "language_info": {
   "codemirror_mode": {
    "name": "ipython",
    "version": 3
   },
   "file_extension": ".py",
   "mimetype": "text/x-python",
   "name": "python",
   "nbconvert_exporter": "python",
   "pygments_lexer": "ipython3",
   "version": "3.9.12"
  },
  "orig_nbformat": 4,
  "vscode": {
   "interpreter": {
    "hash": "ad2bdc8ecc057115af97d19610ffacc2b4e99fae6737bb82f5d7fb13d2f2c186"
   }
  }
 },
 "nbformat": 4,
 "nbformat_minor": 2
}
